{
 "cells": [
  {
   "cell_type": "code",
   "execution_count": 1,
   "metadata": {},
   "outputs": [],
   "source": [
    "import statsapi as mlb\n",
    "import pandas as pd\n",
    "import sqlalchemy\n",
    "import config\n",
    "import csv\n",
    "from os import walk\n",
    "import re\n",
    "from datetime import datetime\n",
    "import functions\n",
    "import sql_alch_schema\n",
    "from sqlalchemy.ext.declarative import declarative_base\n",
    "from sqlalchemy import Column, Integer, String,DateTime,Date,Time,Boolean,Float\n",
    "from sqlalchemy import ForeignKey,and_\n",
    "from sqlalchemy.orm import relationship\n",
    "\n",
    "\n",
    "_sql_alchemy_connection = (\n",
    "                                f'mysql+mysqlconnector://'\n",
    "                                f'{config.user}:{config.password}'\n",
    "                                f'@{config.host}:{config.port}'\n",
    "                                f'/{config.schema}'\n",
    "                           )\n",
    "## Create the engine \n",
    "db = sqlalchemy.create_engine(_sql_alchemy_connection,\n",
    "                              echo = False,\n",
    "                              connect_args = {'ssl_disabled' : True,})\n",
    "\n",
    "Base = sql_alch_schema.Base\n",
    "\n",
    "Game = sql_alch_schema.Game\n",
    "Play = sql_alch_schema.Play\n",
    "Team = sql_alch_schema.Team\n",
    "GameTeamLink = sql_alch_schema.GameTeamLink\n",
    "Person = sql_alch_schema.Person\n",
    "PersonPlayLink=sql_alch_schema.PersonPlayLink\n",
    "\n",
    "\n",
    "\n",
    "from sqlalchemy.orm import sessionmaker\n",
    "Session = sessionmaker(bind=db)\n",
    "session = Session()"
   ]
  },
  {
   "cell_type": "markdown",
   "metadata": {},
   "source": [
    "In this notebook, I want to break up the first part of my datapipeline in 3 parts, saving them to CSVs at each step. The 3 steps are:\n",
    "    - sql query to get cumulative stat totals by player by game \n",
    "    - turn those cumulative totals into averages like obp, slg, and ba \n",
    "    - aggregate player averages by team\n",
    "\n",
    "I want these functions to be combatible with an sklearn pipeline so I can adjust how the informations is interpreted by the classifier."
   ]
  },
  {
   "cell_type": "markdown",
   "metadata": {},
   "source": [
    "First step is to collect cumulated totals by player by game and save to csv"
   ]
  },
  {
   "cell_type": "code",
   "execution_count": 2,
   "metadata": {},
   "outputs": [],
   "source": [
    "game=session.query(Game).filter(Game.type=='R').first()"
   ]
  },
  {
   "cell_type": "code",
   "execution_count": 13,
   "metadata": {},
   "outputs": [
    {
     "data": {
      "text/plain": [
       "[595014,\n",
       " 656305,\n",
       " 641941,\n",
       " 621471,\n",
       " 459964,\n",
       " 519295,\n",
       " 622194,\n",
       " 621566,\n",
       " 476704,\n",
       " 640461,\n",
       " 488748,\n",
       " 518960,\n",
       " 501822,\n",
       " 433586,\n",
       " 608665,\n",
       " 605254,\n",
       " 640455,\n",
       " 501981,\n",
       " 596043,\n",
       " 572039,\n",
       " 521230,\n",
       " 543056,\n",
       " 433589,\n",
       " 592811,\n",
       " 543760]"
      ]
     },
     "execution_count": 13,
     "metadata": {},
     "output_type": "execute_result"
    }
   ],
   "source": [
    "[v.id for v in game.game_players(session)['home']]"
   ]
  },
  {
   "cell_type": "code",
   "execution_count": null,
   "metadata": {},
   "outputs": [],
   "source": []
  }
 ],
 "metadata": {
  "kernelspec": {
   "display_name": "Python 3",
   "language": "python",
   "name": "python3"
  },
  "language_info": {
   "codemirror_mode": {
    "name": "ipython",
    "version": 3
   },
   "file_extension": ".py",
   "mimetype": "text/x-python",
   "name": "python",
   "nbconvert_exporter": "python",
   "pygments_lexer": "ipython3",
   "version": "3.7.3"
  }
 },
 "nbformat": 4,
 "nbformat_minor": 2
}
