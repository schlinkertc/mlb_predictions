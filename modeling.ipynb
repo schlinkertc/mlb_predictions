{
 "cells": [
  {
   "cell_type": "code",
   "execution_count": 1,
   "metadata": {},
   "outputs": [],
   "source": [
    "import config\n",
    "import sqlalchemy\n",
    "import functions\n",
    "import statsapi as mlb\n",
    "import sql_alch_schema\n",
    "from datetime import datetime\n",
    "\n",
    "from sqlalchemy.ext.declarative import declarative_base\n",
    "from sqlalchemy import Column, Integer, String,DateTime,Date,Time,Boolean,func\n",
    "from sqlalchemy import ForeignKey,and_\n",
    "from sqlalchemy.orm import relationship\n",
    "from sqlalchemy.schema import Table\n",
    "from sqlalchemy import distinct\n",
    "\n",
    "_sql_alchemy_connection = (\n",
    "                                f'mysql+mysqlconnector://'\n",
    "                                f'{config.user}:{config.password}'\n",
    "                                f'@{config.host}:{config.port}'\n",
    "                                f'/{config.schema}'\n",
    "                           )\n",
    "## Create the engine \n",
    "db = sqlalchemy.create_engine(_sql_alchemy_connection,\n",
    "                              echo = False,\n",
    "                              connect_args = {'ssl_disabled' : True,})\n",
    "\n",
    "Base = sql_alch_schema.Base\n",
    "\n",
    "Game = sql_alch_schema.Game\n",
    "Play = sql_alch_schema.Play\n",
    "Team = sql_alch_schema.Team\n",
    "GameTeamLink = sql_alch_schema.GameTeamLink\n",
    "Person = sql_alch_schema.Person\n",
    "\n",
    "\n",
    "from sqlalchemy.orm import sessionmaker\n",
    "Session = sessionmaker(bind=db)\n",
    "session = Session()\n",
    "\n",
    "#Base.metadata.create_all(db)\n",
    "\n",
    "\n",
    "import pandas as pd\n",
    "import matplotlib.pyplot as plt\n",
    "%matplotlib inline\n",
    "import seaborn as sns\n",
    "import numpy as np\n",
    "sns.set_style('whitegrid')\n",
    "%config InlineBackend.figure_format = 'retina'\n",
    "\n",
    "sns.set(color_codes=True)\n",
    "sns.set(rc={'figure.figsize':(12,10)})"
   ]
  },
  {
   "cell_type": "code",
   "execution_count": 2,
   "metadata": {},
   "outputs": [],
   "source": [
    "df = pd.read_csv('dataset.csv')\n",
    "\n",
    "def merge_scores(df,session):\n",
    "    \"\"\"\n",
    "    Takes in a dataframe and a sql alch session, returns df with game scores added. merges with 'ID' column.\n",
    "    \"\"\"\n",
    "    games = [session.query(Game).filter(Game.id==x).one() for x in df['ID']]\n",
    "\n",
    "    score_dict=([{'ID':g.id,\n",
    "                  'home_score':max([x.homeScore for x in g.plays],default=-1),\n",
    "                  'away_score':max([x.awayScore for x in g.plays],default=-1)} \n",
    "                  for g in games])\n",
    "\n",
    "    df=pd.merge(right=pd.DataFrame.from_dict(score_dict),\n",
    "            left=df,\n",
    "            right_on='ID',\n",
    "            left_on='ID')\n",
    "    return df\n",
    "\n",
    "df = merge_scores(df,session)\n",
    "\n",
    "df['home_win']=0\n",
    "df['home_win']=df.apply(lambda x: x['home_win']+1 if x['home_score']>x['away_score'] else x['home_win'], axis=1)\n",
    "\n",
    "df=df.drop(columns=['home_score','away_score','ID'])"
   ]
  },
  {
   "cell_type": "code",
   "execution_count": 66,
   "metadata": {},
   "outputs": [],
   "source": [
    "#df.dropna(inplace=True)"
   ]
  },
  {
   "cell_type": "code",
   "execution_count": 3,
   "metadata": {},
   "outputs": [],
   "source": [
    "X=df.drop(columns=['home_win'])\n",
    "y=df['home_win']"
   ]
  },
  {
   "cell_type": "code",
   "execution_count": 4,
   "metadata": {},
   "outputs": [],
   "source": [
    "import sklearn\n",
    "from sklearn.model_selection import train_test_split"
   ]
  },
  {
   "cell_type": "code",
   "execution_count": 5,
   "metadata": {},
   "outputs": [],
   "source": [
    "X_train,X_test,y_train,y_test = train_test_split(X,y,test_size=.2,random_state=12)"
   ]
  },
  {
   "cell_type": "code",
   "execution_count": 8,
   "metadata": {},
   "outputs": [],
   "source": [
    "from sklearn.impute import SimpleImputer\n",
    "from sklearn.pipeline import Pipeline\n",
    "from sklearn.preprocessing import StandardScaler,MinMaxScaler\n",
    "from sklearn.ensemble import RandomForestClassifier\n",
    "from sklearn.tree import DecisionTreeClassifier"
   ]
  },
  {
   "cell_type": "code",
   "execution_count": 9,
   "metadata": {},
   "outputs": [],
   "source": [
    "pipe = Pipeline([\n",
    "    ('imputer',SimpleImputer(strategy='median')),\n",
    "    ('scaler',MinMaxScaler()),\n",
    "    ('classifier',DecisionTreeClassifier())])"
   ]
  },
  {
   "cell_type": "code",
   "execution_count": 10,
   "metadata": {},
   "outputs": [
    {
     "data": {
      "text/plain": [
       "array([0.52010724, 0.50938338, 0.49865952, 0.47989276, 0.53763441])"
      ]
     },
     "execution_count": 10,
     "metadata": {},
     "output_type": "execute_result"
    }
   ],
   "source": [
    "from sklearn.model_selection import cross_val_score\n",
    "cross_val_score(pipe,X_train,y_train,cv=5,scoring='accuracy')"
   ]
  },
  {
   "cell_type": "code",
   "execution_count": 11,
   "metadata": {},
   "outputs": [
    {
     "data": {
      "text/plain": [
       "Pipeline(memory=None,\n",
       "         steps=[('imputer',\n",
       "                 SimpleImputer(add_indicator=False, copy=True, fill_value=None,\n",
       "                               missing_values=nan, strategy='median',\n",
       "                               verbose=0)),\n",
       "                ('scaler', MinMaxScaler(copy=True, feature_range=(0, 1))),\n",
       "                ('classifier',\n",
       "                 DecisionTreeClassifier(ccp_alpha=0.0, class_weight=None,\n",
       "                                        criterion='gini', max_depth=None,\n",
       "                                        max_features=None, max_leaf_nodes=None,\n",
       "                                        min_impurity_decrease=0.0,\n",
       "                                        min_impurity_split=None,\n",
       "                                        min_samples_leaf=1, min_samples_split=2,\n",
       "                                        min_weight_fraction_leaf=0.0,\n",
       "                                        presort='deprecated', random_state=None,\n",
       "                                        splitter='best'))],\n",
       "         verbose=False)"
      ]
     },
     "execution_count": 11,
     "metadata": {},
     "output_type": "execute_result"
    }
   ],
   "source": [
    "pipe.fit(X_train,y_train)"
   ]
  },
  {
   "cell_type": "code",
   "execution_count": 12,
   "metadata": {},
   "outputs": [],
   "source": [
    "y_pred=pipe.predict(X_test)"
   ]
  },
  {
   "cell_type": "code",
   "execution_count": 13,
   "metadata": {},
   "outputs": [
    {
     "data": {
      "text/plain": [
       "0.4917355371900826"
      ]
     },
     "execution_count": 13,
     "metadata": {},
     "output_type": "execute_result"
    }
   ],
   "source": [
    "from sklearn.metrics import precision_score,recall_score,f1_score,roc_auc_score,roc_curve\n",
    "\n",
    "f1_score(y_test,y_pred)\n"
   ]
  },
  {
   "cell_type": "markdown",
   "metadata": {},
   "source": [
    "### "
   ]
  }
 ],
 "metadata": {
  "kernelspec": {
   "display_name": "Python 3",
   "language": "python",
   "name": "python3"
  },
  "language_info": {
   "codemirror_mode": {
    "name": "ipython",
    "version": 3
   },
   "file_extension": ".py",
   "mimetype": "text/x-python",
   "name": "python",
   "nbconvert_exporter": "python",
   "pygments_lexer": "ipython3",
   "version": "3.7.3"
  }
 },
 "nbformat": 4,
 "nbformat_minor": 2
}
