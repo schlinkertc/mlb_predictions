{
 "cells": [
  {
   "cell_type": "code",
   "execution_count": 1,
   "metadata": {},
   "outputs": [],
   "source": [
    "import config\n",
    "import sqlalchemy\n",
    "import functions\n",
    "import statsapi as mlb\n",
    "import sql_alch_schema\n",
    "from datetime import datetime\n",
    "\n",
    "from sqlalchemy.ext.declarative import declarative_base\n",
    "from sqlalchemy import Column, Integer, String,DateTime,Date,Time,Boolean,func\n",
    "from sqlalchemy import ForeignKey,and_\n",
    "from sqlalchemy.orm import relationship\n",
    "from sqlalchemy.schema import Table\n",
    "from sqlalchemy import distinct\n",
    "\n",
    "_sql_alchemy_connection = (\n",
    "                                f'mysql+mysqlconnector://'\n",
    "                                f'{config.user}:{config.password}'\n",
    "                                f'@{config.host}:{config.port}'\n",
    "                                f'/{config.schema}'\n",
    "                           )\n",
    "## Create the engine \n",
    "db = sqlalchemy.create_engine(_sql_alchemy_connection,\n",
    "                              echo = False,\n",
    "                              connect_args = {'ssl_disabled' : True,})\n",
    "\n",
    "Base = sql_alch_schema.Base\n",
    "\n",
    "Game = sql_alch_schema.Game\n",
    "Play = sql_alch_schema.Play\n",
    "Team = sql_alch_schema.Team\n",
    "GameTeamLink = sql_alch_schema.GameTeamLink\n",
    "Person = sql_alch_schema.Person\n",
    "\n",
    "\n",
    "from sqlalchemy.orm import sessionmaker\n",
    "Session = sessionmaker(bind=db)\n",
    "session = Session()\n",
    "\n",
    "#Base.metadata.create_all(db)\n",
    "\n",
    "\n",
    "import pandas as pd\n",
    "import matplotlib.pyplot as plt\n",
    "%matplotlib inline\n",
    "import seaborn as sns\n",
    "import numpy as np\n",
    "sns.set_style('whitegrid')\n",
    "%config InlineBackend.figure_format = 'retina'\n",
    "\n",
    "sns.set(color_codes=True)\n",
    "sns.set(rc={'figure.figsize':(12,10)})"
   ]
  },
  {
   "cell_type": "code",
   "execution_count": 3,
   "metadata": {},
   "outputs": [],
   "source": [
    "cat_df=functions.getGame_df()\n",
    "num_df=functions.load_dataset(session)\n",
    "\n",
    "grand_df=pd.merge(left=num_df,\n",
    "                  right=cat_df,\n",
    "                  left_on='ID',\n",
    "                  right_on='id')\n",
    "grand_df['homeTeam_win']=grand_df.apply(lambda x: 1 if x['home_score']>x['away_score'] else 0,axis=1)\n",
    "\n"
   ]
  },
  {
   "cell_type": "markdown",
   "metadata": {},
   "source": [
    "## Dummy Classifier\n",
    "If I didn't know anything, I would pick the team with the higher win percentage every time. "
   ]
  },
  {
   "cell_type": "code",
   "execution_count": 4,
   "metadata": {},
   "outputs": [],
   "source": [
    "def trailing_winPct(row):\n",
    "    home_wins=(grand_df[\n",
    "        (grand_df['homeTeam_id']==row['homeTeam_id'])\n",
    "        &(grand_df['ID']<row['ID'])]\n",
    "               ['homeTeam_win'].sum())\n",
    "    \n",
    "    away_wins=(grand_df[\n",
    "        (grand_df['awayTeam_id']==row['homeTeam_id'])\n",
    "        &(grand_df['ID']<row['ID'])\n",
    "        &(grand_df['homeTeam_win']==0)].shape[0])\n",
    "    \n",
    "    total_games=(grand_df[\n",
    "        ((grand_df['homeTeam_id']==row['homeTeam_id'])|(grand_df['awayTeam_id']==row['homeTeam_id']))\n",
    "        &(grand_df['ID']<row['ID'])].shape[0])\n",
    "    return (home_wins+away_wins)/total_games"
   ]
  },
  {
   "cell_type": "code",
   "execution_count": 5,
   "metadata": {},
   "outputs": [],
   "source": [
    "def away_trailing_winPct(row):\n",
    "    home_wins=(grand_df[\n",
    "        (grand_df['homeTeam_id']==row['awayTeam_id'])\n",
    "        &(grand_df['ID']<row['ID'])]\n",
    "               ['homeTeam_win'].sum())\n",
    "    \n",
    "    away_wins=(grand_df[\n",
    "        (grand_df['awayTeam_id']==row['awayTeam_id'])\n",
    "        &(grand_df['ID']<row['ID'])\n",
    "        &(grand_df['homeTeam_win']==0)].shape[0])\n",
    "    \n",
    "    total_games=(grand_df[\n",
    "        ((grand_df['homeTeam_id']==row['awayTeam_id'])|(grand_df['awayTeam_id']==row['awayTeam_id']))\n",
    "        &(grand_df['ID']<row['ID'])].shape[0])\n",
    "    return (home_wins+away_wins)/total_games"
   ]
  },
  {
   "cell_type": "code",
   "execution_count": 6,
   "metadata": {},
   "outputs": [
    {
     "name": "stderr",
     "output_type": "stream",
     "text": [
      "//anaconda3/lib/python3.7/site-packages/ipykernel_launcher.py:15: RuntimeWarning: invalid value encountered in long_scalars\n",
      "  from ipykernel import kernelapp as app\n"
     ]
    }
   ],
   "source": [
    "grand_df['homeWin_pct']=grand_df.apply(lambda x: trailing_winPct(x),axis=1)"
   ]
  },
  {
   "cell_type": "code",
   "execution_count": 7,
   "metadata": {},
   "outputs": [
    {
     "name": "stderr",
     "output_type": "stream",
     "text": [
      "//anaconda3/lib/python3.7/site-packages/ipykernel_launcher.py:15: RuntimeWarning: invalid value encountered in long_scalars\n",
      "  from ipykernel import kernelapp as app\n"
     ]
    }
   ],
   "source": [
    "grand_df['awayWin_pct']=grand_df.apply(lambda x: away_trailing_winPct(x),axis=1)"
   ]
  },
  {
   "cell_type": "code",
   "execution_count": 8,
   "metadata": {},
   "outputs": [],
   "source": [
    "from sklearn.base import BaseEstimator\n",
    "\n",
    "class WinPercentageClassifier(BaseEstimator):\n",
    "    def fit(self,X,y=None):\n",
    "        pass\n",
    "    def predict(self,X):\n",
    "        preds=X.apply(lambda row: 1 if row['homeWin_pct']>row['awayWin_pct'] else 0,axis=1)\n",
    "        return preds"
   ]
  },
  {
   "cell_type": "code",
   "execution_count": 117,
   "metadata": {},
   "outputs": [],
   "source": [
    "import sklearn\n",
    "from sklearn.model_selection import train_test_split\n",
    "\n",
    "X=grand_df.drop(columns=['homeTeam_win','ID'])\n",
    "y=grand_df['homeTeam_win']\n",
    "\n",
    "X_train,X_test,y_train,y_test = train_test_split(X,y,test_size=.2,random_state=12)"
   ]
  },
  {
   "cell_type": "code",
   "execution_count": 118,
   "metadata": {},
   "outputs": [],
   "source": [
    "dummy = WinPercentageClassifier()"
   ]
  },
  {
   "cell_type": "code",
   "execution_count": 119,
   "metadata": {},
   "outputs": [],
   "source": [
    "dummy.fit(X_train)\n",
    "dummy_preds = dummy.predict(X_test)"
   ]
  },
  {
   "cell_type": "code",
   "execution_count": 120,
   "metadata": {},
   "outputs": [
    {
     "data": {
      "text/plain": [
       "0    455\n",
       "1    452\n",
       "dtype: int64"
      ]
     },
     "execution_count": 120,
     "metadata": {},
     "output_type": "execute_result"
    }
   ],
   "source": [
    "dummy_preds.value_counts()"
   ]
  },
  {
   "cell_type": "code",
   "execution_count": 132,
   "metadata": {},
   "outputs": [
    {
     "name": "stdout",
     "output_type": "stream",
     "text": [
      "0.5804347826086956\n"
     ]
    },
    {
     "data": {
      "text/plain": [
       "array([0.60104987, 0.60846561, 0.584     , 0.5948856 , 0.578019  ])"
      ]
     },
     "execution_count": 132,
     "metadata": {},
     "output_type": "execute_result"
    }
   ],
   "source": [
    "from sklearn.model_selection import cross_val_score\n",
    "from sklearn.metrics import precision_score,recall_score,f1_score,roc_auc_score,roc_curve\n",
    "\n",
    "print(f1_score(y_test,dummy_preds))\n",
    "cross_val_score(dummy,X_train,y_train,cv=5,scoring='f1')"
   ]
  },
  {
   "cell_type": "markdown",
   "metadata": {},
   "source": [
    "## Create a model to beat the dummy"
   ]
  },
  {
   "cell_type": "code",
   "execution_count": 122,
   "metadata": {},
   "outputs": [],
   "source": [
    "from sklearn.impute import SimpleImputer\n",
    "from sklearn.pipeline import Pipeline\n",
    "from sklearn.preprocessing import StandardScaler,MinMaxScaler,OneHotEncoder\n",
    "from sklearn.compose import ColumnTransformer\n",
    "from sklearn.ensemble import RandomForestClassifier,VotingClassifier\n",
    "from sklearn.linear_model import LogisticRegression\n",
    "from sklearn.tree import DecisionTreeClassifier\n",
    "from sklearn.svm import SVC"
   ]
  },
  {
   "cell_type": "code",
   "execution_count": 128,
   "metadata": {},
   "outputs": [
    {
     "data": {
      "text/plain": [
       "[None, None]"
      ]
     },
     "execution_count": 128,
     "metadata": {},
     "output_type": "execute_result"
    }
   ],
   "source": [
    "cat_attribs = list(cat_df.drop(columns=['id','temp','wind_speed','away_probablePitcher','home_probablePitcher']))\n",
    "num_attribs=list(num_df.drop(columns=['ID','home_score','away_score']))\n",
    "[num_attribs.append(x) for x in ['temp','wind_speed']]"
   ]
  },
  {
   "cell_type": "code",
   "execution_count": 129,
   "metadata": {},
   "outputs": [],
   "source": [
    "num_transform = Pipeline([\n",
    "    ('imputer',SimpleImputer(strategy='median')),\n",
    "    ('scaler',StandardScaler())])\n",
    "\n",
    "full_transform = ColumnTransformer([\n",
    "    ('num',num_transform,num_attribs),\n",
    "    ('cat',OneHotEncoder(handle_unknown='ignore'),cat_attribs),\n",
    "])"
   ]
  },
  {
   "cell_type": "code",
   "execution_count": 133,
   "metadata": {},
   "outputs": [],
   "source": [
    "pipe=Pipeline([\n",
    "    ('transformer',full_transform),\n",
    "    ('classifier',RandomForestClassifier())\n",
    "])"
   ]
  },
  {
   "cell_type": "code",
   "execution_count": 134,
   "metadata": {},
   "outputs": [
    {
     "data": {
      "text/plain": [
       "array([0.5836478 , 0.5851198 , 0.59803922, 0.59028643, 0.61214374])"
      ]
     },
     "execution_count": 134,
     "metadata": {},
     "output_type": "execute_result"
    }
   ],
   "source": [
    "from sklearn.model_selection import cross_val_score\n",
    "\n",
    "cross_val_score(pipe,X_train,y_train,cv=5,scoring='f1')"
   ]
  },
  {
   "cell_type": "code",
   "execution_count": 135,
   "metadata": {},
   "outputs": [
    {
     "data": {
      "text/plain": [
       "0.5831663326653307"
      ]
     },
     "execution_count": 135,
     "metadata": {},
     "output_type": "execute_result"
    }
   ],
   "source": [
    "pipe.fit(X_train,y_train)\n",
    "y_pred=pipe.predict(X_test)\n",
    "f1_score(y_test,y_pred)\n"
   ]
  },
  {
   "cell_type": "markdown",
   "metadata": {},
   "source": [
    "## Voting Classifier "
   ]
  },
  {
   "cell_type": "code",
   "execution_count": 136,
   "metadata": {},
   "outputs": [],
   "source": [
    "voting_clf = VotingClassifier(\n",
    "    estimators=[('lr',LogisticRegression(solver='liblinear')),\n",
    "                ('rf',RandomForestClassifier()),\n",
    "                ('svc',SVC())],\n",
    "    voting='hard')"
   ]
  },
  {
   "cell_type": "code",
   "execution_count": 137,
   "metadata": {},
   "outputs": [],
   "source": [
    "from sklearn.model_selection import GridSearchCV"
   ]
  },
  {
   "cell_type": "code",
   "execution_count": 138,
   "metadata": {},
   "outputs": [],
   "source": [
    "grid_search = GridSearchCV(pipe,{'transformer__''classifier':[RandomForestClassifier()]})"
   ]
  },
  {
   "cell_type": "code",
   "execution_count": 139,
   "metadata": {
    "scrolled": true
   },
   "outputs": [
    {
     "name": "stderr",
     "output_type": "stream",
     "text": [
      "//anaconda3/lib/python3.7/site-packages/sklearn/model_selection/_validation.py:536: FitFailedWarning: Estimator fit failed. The score on this train-test partition for these parameters will be set to nan. Details: \n",
      "ValueError: Invalid parameter classifier for estimator ColumnTransformer(n_jobs=None, remainder='drop', sparse_threshold=0.3,\n",
      "                  transformer_weights=None,\n",
      "                  transformers=[('num',\n",
      "                                 Pipeline(memory=None,\n",
      "                                          steps=[('imputer',\n",
      "                                                  SimpleImputer(add_indicator=False,\n",
      "                                                                copy=True,\n",
      "                                                                fill_value=None,\n",
      "                                                                missing_values=nan,\n",
      "                                                                strategy='median',\n",
      "                                                                verbose=0)),\n",
      "                                                 ('scaler',\n",
      "                                                  StandardScaler(copy=True,\n",
      "                                                                 with_mean=True,\n",
      "                                                                 with_std=True))],\n",
      "                                          verbose=False),\n",
      "                                 ['home...\n",
      "                                  'away_starter_LO_O', 'home_relief_BA_mean',\n",
      "                                  'away_relief_BA_mean', 'home_relief_BA_std',\n",
      "                                  'away_relief_BA_std', ...]),\n",
      "                                ('cat',\n",
      "                                 OneHotEncoder(categories='auto', drop=None,\n",
      "                                               dtype=<class 'numpy.float64'>,\n",
      "                                               handle_unknown='ignore',\n",
      "                                               sparse=True),\n",
      "                                 ['dayNight', 'condition', 'venue_id',\n",
      "                                  'gameNumber', 'doubleHeader', 'season',\n",
      "                                  'homeTeam_id', 'awayTeam_id',\n",
      "                                  'wind_direction'])],\n",
      "                  verbose=False). Check the list of available parameters with `estimator.get_params().keys()`.\n",
      "\n",
      "  FitFailedWarning)\n",
      "//anaconda3/lib/python3.7/site-packages/sklearn/model_selection/_validation.py:536: FitFailedWarning: Estimator fit failed. The score on this train-test partition for these parameters will be set to nan. Details: \n",
      "ValueError: Invalid parameter classifier for estimator ColumnTransformer(n_jobs=None, remainder='drop', sparse_threshold=0.3,\n",
      "                  transformer_weights=None,\n",
      "                  transformers=[('num',\n",
      "                                 Pipeline(memory=None,\n",
      "                                          steps=[('imputer',\n",
      "                                                  SimpleImputer(add_indicator=False,\n",
      "                                                                copy=True,\n",
      "                                                                fill_value=None,\n",
      "                                                                missing_values=nan,\n",
      "                                                                strategy='median',\n",
      "                                                                verbose=0)),\n",
      "                                                 ('scaler',\n",
      "                                                  StandardScaler(copy=True,\n",
      "                                                                 with_mean=True,\n",
      "                                                                 with_std=True))],\n",
      "                                          verbose=False),\n",
      "                                 ['home...\n",
      "                                  'away_starter_LO_O', 'home_relief_BA_mean',\n",
      "                                  'away_relief_BA_mean', 'home_relief_BA_std',\n",
      "                                  'away_relief_BA_std', ...]),\n",
      "                                ('cat',\n",
      "                                 OneHotEncoder(categories='auto', drop=None,\n",
      "                                               dtype=<class 'numpy.float64'>,\n",
      "                                               handle_unknown='ignore',\n",
      "                                               sparse=True),\n",
      "                                 ['dayNight', 'condition', 'venue_id',\n",
      "                                  'gameNumber', 'doubleHeader', 'season',\n",
      "                                  'homeTeam_id', 'awayTeam_id',\n",
      "                                  'wind_direction'])],\n",
      "                  verbose=False). Check the list of available parameters with `estimator.get_params().keys()`.\n",
      "\n",
      "  FitFailedWarning)\n",
      "//anaconda3/lib/python3.7/site-packages/sklearn/model_selection/_validation.py:536: FitFailedWarning: Estimator fit failed. The score on this train-test partition for these parameters will be set to nan. Details: \n",
      "ValueError: Invalid parameter classifier for estimator ColumnTransformer(n_jobs=None, remainder='drop', sparse_threshold=0.3,\n",
      "                  transformer_weights=None,\n",
      "                  transformers=[('num',\n",
      "                                 Pipeline(memory=None,\n",
      "                                          steps=[('imputer',\n",
      "                                                  SimpleImputer(add_indicator=False,\n",
      "                                                                copy=True,\n",
      "                                                                fill_value=None,\n",
      "                                                                missing_values=nan,\n",
      "                                                                strategy='median',\n",
      "                                                                verbose=0)),\n",
      "                                                 ('scaler',\n",
      "                                                  StandardScaler(copy=True,\n",
      "                                                                 with_mean=True,\n",
      "                                                                 with_std=True))],\n",
      "                                          verbose=False),\n",
      "                                 ['home...\n",
      "                                  'away_starter_LO_O', 'home_relief_BA_mean',\n",
      "                                  'away_relief_BA_mean', 'home_relief_BA_std',\n",
      "                                  'away_relief_BA_std', ...]),\n",
      "                                ('cat',\n",
      "                                 OneHotEncoder(categories='auto', drop=None,\n",
      "                                               dtype=<class 'numpy.float64'>,\n",
      "                                               handle_unknown='ignore',\n",
      "                                               sparse=True),\n",
      "                                 ['dayNight', 'condition', 'venue_id',\n",
      "                                  'gameNumber', 'doubleHeader', 'season',\n",
      "                                  'homeTeam_id', 'awayTeam_id',\n",
      "                                  'wind_direction'])],\n",
      "                  verbose=False). Check the list of available parameters with `estimator.get_params().keys()`.\n",
      "\n",
      "  FitFailedWarning)\n",
      "//anaconda3/lib/python3.7/site-packages/sklearn/model_selection/_validation.py:536: FitFailedWarning: Estimator fit failed. The score on this train-test partition for these parameters will be set to nan. Details: \n",
      "ValueError: Invalid parameter classifier for estimator ColumnTransformer(n_jobs=None, remainder='drop', sparse_threshold=0.3,\n",
      "                  transformer_weights=None,\n",
      "                  transformers=[('num',\n",
      "                                 Pipeline(memory=None,\n",
      "                                          steps=[('imputer',\n",
      "                                                  SimpleImputer(add_indicator=False,\n",
      "                                                                copy=True,\n",
      "                                                                fill_value=None,\n",
      "                                                                missing_values=nan,\n",
      "                                                                strategy='median',\n",
      "                                                                verbose=0)),\n",
      "                                                 ('scaler',\n",
      "                                                  StandardScaler(copy=True,\n",
      "                                                                 with_mean=True,\n",
      "                                                                 with_std=True))],\n",
      "                                          verbose=False),\n",
      "                                 ['home...\n",
      "                                  'away_starter_LO_O', 'home_relief_BA_mean',\n",
      "                                  'away_relief_BA_mean', 'home_relief_BA_std',\n",
      "                                  'away_relief_BA_std', ...]),\n",
      "                                ('cat',\n",
      "                                 OneHotEncoder(categories='auto', drop=None,\n",
      "                                               dtype=<class 'numpy.float64'>,\n",
      "                                               handle_unknown='ignore',\n",
      "                                               sparse=True),\n",
      "                                 ['dayNight', 'condition', 'venue_id',\n",
      "                                  'gameNumber', 'doubleHeader', 'season',\n",
      "                                  'homeTeam_id', 'awayTeam_id',\n",
      "                                  'wind_direction'])],\n",
      "                  verbose=False). Check the list of available parameters with `estimator.get_params().keys()`.\n",
      "\n",
      "  FitFailedWarning)\n",
      "//anaconda3/lib/python3.7/site-packages/sklearn/model_selection/_validation.py:536: FitFailedWarning: Estimator fit failed. The score on this train-test partition for these parameters will be set to nan. Details: \n",
      "ValueError: Invalid parameter classifier for estimator ColumnTransformer(n_jobs=None, remainder='drop', sparse_threshold=0.3,\n",
      "                  transformer_weights=None,\n",
      "                  transformers=[('num',\n",
      "                                 Pipeline(memory=None,\n",
      "                                          steps=[('imputer',\n",
      "                                                  SimpleImputer(add_indicator=False,\n",
      "                                                                copy=True,\n",
      "                                                                fill_value=None,\n",
      "                                                                missing_values=nan,\n",
      "                                                                strategy='median',\n",
      "                                                                verbose=0)),\n",
      "                                                 ('scaler',\n",
      "                                                  StandardScaler(copy=True,\n",
      "                                                                 with_mean=True,\n",
      "                                                                 with_std=True))],\n",
      "                                          verbose=False),\n",
      "                                 ['home...\n",
      "                                  'away_starter_LO_O', 'home_relief_BA_mean',\n",
      "                                  'away_relief_BA_mean', 'home_relief_BA_std',\n",
      "                                  'away_relief_BA_std', ...]),\n",
      "                                ('cat',\n",
      "                                 OneHotEncoder(categories='auto', drop=None,\n",
      "                                               dtype=<class 'numpy.float64'>,\n",
      "                                               handle_unknown='ignore',\n",
      "                                               sparse=True),\n",
      "                                 ['dayNight', 'condition', 'venue_id',\n",
      "                                  'gameNumber', 'doubleHeader', 'season',\n",
      "                                  'homeTeam_id', 'awayTeam_id',\n",
      "                                  'wind_direction'])],\n",
      "                  verbose=False). Check the list of available parameters with `estimator.get_params().keys()`.\n",
      "\n",
      "  FitFailedWarning)\n"
     ]
    },
    {
     "data": {
      "text/plain": [
       "array([nan, nan, nan, nan, nan])"
      ]
     },
     "execution_count": 139,
     "metadata": {},
     "output_type": "execute_result"
    }
   ],
   "source": [
    "cross_val_score(grid_search,X,y,cv=5,scoring='f1')"
   ]
  },
  {
   "cell_type": "code",
   "execution_count": 140,
   "metadata": {},
   "outputs": [
    {
     "name": "stderr",
     "output_type": "stream",
     "text": [
      "//anaconda3/lib/python3.7/site-packages/sklearn/model_selection/_validation.py:536: FitFailedWarning: Estimator fit failed. The score on this train-test partition for these parameters will be set to nan. Details: \n",
      "ValueError: Invalid parameter classifier for estimator ColumnTransformer(n_jobs=None, remainder='drop', sparse_threshold=0.3,\n",
      "                  transformer_weights=None,\n",
      "                  transformers=[('num',\n",
      "                                 Pipeline(memory=None,\n",
      "                                          steps=[('imputer',\n",
      "                                                  SimpleImputer(add_indicator=False,\n",
      "                                                                copy=True,\n",
      "                                                                fill_value=None,\n",
      "                                                                missing_values=nan,\n",
      "                                                                strategy='median',\n",
      "                                                                verbose=0)),\n",
      "                                                 ('scaler',\n",
      "                                                  StandardScaler(copy=True,\n",
      "                                                                 with_mean=True,\n",
      "                                                                 with_std=True))],\n",
      "                                          verbose=False),\n",
      "                                 ['home...\n",
      "                                  'away_starter_LO_O', 'home_relief_BA_mean',\n",
      "                                  'away_relief_BA_mean', 'home_relief_BA_std',\n",
      "                                  'away_relief_BA_std', ...]),\n",
      "                                ('cat',\n",
      "                                 OneHotEncoder(categories='auto', drop=None,\n",
      "                                               dtype=<class 'numpy.float64'>,\n",
      "                                               handle_unknown='ignore',\n",
      "                                               sparse=True),\n",
      "                                 ['dayNight', 'condition', 'venue_id',\n",
      "                                  'gameNumber', 'doubleHeader', 'season',\n",
      "                                  'homeTeam_id', 'awayTeam_id',\n",
      "                                  'wind_direction'])],\n",
      "                  verbose=False). Check the list of available parameters with `estimator.get_params().keys()`.\n",
      "\n",
      "  FitFailedWarning)\n",
      "//anaconda3/lib/python3.7/site-packages/sklearn/model_selection/_validation.py:536: FitFailedWarning: Estimator fit failed. The score on this train-test partition for these parameters will be set to nan. Details: \n",
      "ValueError: Invalid parameter classifier for estimator ColumnTransformer(n_jobs=None, remainder='drop', sparse_threshold=0.3,\n",
      "                  transformer_weights=None,\n",
      "                  transformers=[('num',\n",
      "                                 Pipeline(memory=None,\n",
      "                                          steps=[('imputer',\n",
      "                                                  SimpleImputer(add_indicator=False,\n",
      "                                                                copy=True,\n",
      "                                                                fill_value=None,\n",
      "                                                                missing_values=nan,\n",
      "                                                                strategy='median',\n",
      "                                                                verbose=0)),\n",
      "                                                 ('scaler',\n",
      "                                                  StandardScaler(copy=True,\n",
      "                                                                 with_mean=True,\n",
      "                                                                 with_std=True))],\n",
      "                                          verbose=False),\n",
      "                                 ['home...\n",
      "                                  'away_starter_LO_O', 'home_relief_BA_mean',\n",
      "                                  'away_relief_BA_mean', 'home_relief_BA_std',\n",
      "                                  'away_relief_BA_std', ...]),\n",
      "                                ('cat',\n",
      "                                 OneHotEncoder(categories='auto', drop=None,\n",
      "                                               dtype=<class 'numpy.float64'>,\n",
      "                                               handle_unknown='ignore',\n",
      "                                               sparse=True),\n",
      "                                 ['dayNight', 'condition', 'venue_id',\n",
      "                                  'gameNumber', 'doubleHeader', 'season',\n",
      "                                  'homeTeam_id', 'awayTeam_id',\n",
      "                                  'wind_direction'])],\n",
      "                  verbose=False). Check the list of available parameters with `estimator.get_params().keys()`.\n",
      "\n",
      "  FitFailedWarning)\n",
      "//anaconda3/lib/python3.7/site-packages/sklearn/model_selection/_validation.py:536: FitFailedWarning: Estimator fit failed. The score on this train-test partition for these parameters will be set to nan. Details: \n",
      "ValueError: Invalid parameter classifier for estimator ColumnTransformer(n_jobs=None, remainder='drop', sparse_threshold=0.3,\n",
      "                  transformer_weights=None,\n",
      "                  transformers=[('num',\n",
      "                                 Pipeline(memory=None,\n",
      "                                          steps=[('imputer',\n",
      "                                                  SimpleImputer(add_indicator=False,\n",
      "                                                                copy=True,\n",
      "                                                                fill_value=None,\n",
      "                                                                missing_values=nan,\n",
      "                                                                strategy='median',\n",
      "                                                                verbose=0)),\n",
      "                                                 ('scaler',\n",
      "                                                  StandardScaler(copy=True,\n",
      "                                                                 with_mean=True,\n",
      "                                                                 with_std=True))],\n",
      "                                          verbose=False),\n",
      "                                 ['home...\n",
      "                                  'away_starter_LO_O', 'home_relief_BA_mean',\n",
      "                                  'away_relief_BA_mean', 'home_relief_BA_std',\n",
      "                                  'away_relief_BA_std', ...]),\n",
      "                                ('cat',\n",
      "                                 OneHotEncoder(categories='auto', drop=None,\n",
      "                                               dtype=<class 'numpy.float64'>,\n",
      "                                               handle_unknown='ignore',\n",
      "                                               sparse=True),\n",
      "                                 ['dayNight', 'condition', 'venue_id',\n",
      "                                  'gameNumber', 'doubleHeader', 'season',\n",
      "                                  'homeTeam_id', 'awayTeam_id',\n",
      "                                  'wind_direction'])],\n",
      "                  verbose=False). Check the list of available parameters with `estimator.get_params().keys()`.\n",
      "\n",
      "  FitFailedWarning)\n",
      "//anaconda3/lib/python3.7/site-packages/sklearn/model_selection/_validation.py:536: FitFailedWarning: Estimator fit failed. The score on this train-test partition for these parameters will be set to nan. Details: \n",
      "ValueError: Invalid parameter classifier for estimator ColumnTransformer(n_jobs=None, remainder='drop', sparse_threshold=0.3,\n",
      "                  transformer_weights=None,\n",
      "                  transformers=[('num',\n",
      "                                 Pipeline(memory=None,\n",
      "                                          steps=[('imputer',\n",
      "                                                  SimpleImputer(add_indicator=False,\n",
      "                                                                copy=True,\n",
      "                                                                fill_value=None,\n",
      "                                                                missing_values=nan,\n",
      "                                                                strategy='median',\n",
      "                                                                verbose=0)),\n",
      "                                                 ('scaler',\n",
      "                                                  StandardScaler(copy=True,\n",
      "                                                                 with_mean=True,\n",
      "                                                                 with_std=True))],\n",
      "                                          verbose=False),\n",
      "                                 ['home...\n",
      "                                  'away_starter_LO_O', 'home_relief_BA_mean',\n",
      "                                  'away_relief_BA_mean', 'home_relief_BA_std',\n",
      "                                  'away_relief_BA_std', ...]),\n",
      "                                ('cat',\n",
      "                                 OneHotEncoder(categories='auto', drop=None,\n",
      "                                               dtype=<class 'numpy.float64'>,\n",
      "                                               handle_unknown='ignore',\n",
      "                                               sparse=True),\n",
      "                                 ['dayNight', 'condition', 'venue_id',\n",
      "                                  'gameNumber', 'doubleHeader', 'season',\n",
      "                                  'homeTeam_id', 'awayTeam_id',\n",
      "                                  'wind_direction'])],\n",
      "                  verbose=False). Check the list of available parameters with `estimator.get_params().keys()`.\n",
      "\n",
      "  FitFailedWarning)\n",
      "//anaconda3/lib/python3.7/site-packages/sklearn/model_selection/_validation.py:536: FitFailedWarning: Estimator fit failed. The score on this train-test partition for these parameters will be set to nan. Details: \n",
      "ValueError: Invalid parameter classifier for estimator ColumnTransformer(n_jobs=None, remainder='drop', sparse_threshold=0.3,\n",
      "                  transformer_weights=None,\n",
      "                  transformers=[('num',\n",
      "                                 Pipeline(memory=None,\n",
      "                                          steps=[('imputer',\n",
      "                                                  SimpleImputer(add_indicator=False,\n",
      "                                                                copy=True,\n",
      "                                                                fill_value=None,\n",
      "                                                                missing_values=nan,\n",
      "                                                                strategy='median',\n",
      "                                                                verbose=0)),\n",
      "                                                 ('scaler',\n",
      "                                                  StandardScaler(copy=True,\n",
      "                                                                 with_mean=True,\n",
      "                                                                 with_std=True))],\n",
      "                                          verbose=False),\n",
      "                                 ['home...\n",
      "                                  'away_starter_LO_O', 'home_relief_BA_mean',\n",
      "                                  'away_relief_BA_mean', 'home_relief_BA_std',\n",
      "                                  'away_relief_BA_std', ...]),\n",
      "                                ('cat',\n",
      "                                 OneHotEncoder(categories='auto', drop=None,\n",
      "                                               dtype=<class 'numpy.float64'>,\n",
      "                                               handle_unknown='ignore',\n",
      "                                               sparse=True),\n",
      "                                 ['dayNight', 'condition', 'venue_id',\n",
      "                                  'gameNumber', 'doubleHeader', 'season',\n",
      "                                  'homeTeam_id', 'awayTeam_id',\n",
      "                                  'wind_direction'])],\n",
      "                  verbose=False). Check the list of available parameters with `estimator.get_params().keys()`.\n",
      "\n",
      "  FitFailedWarning)\n"
     ]
    },
    {
     "data": {
      "text/plain": [
       "array([nan, nan, nan, nan, nan])"
      ]
     },
     "execution_count": 140,
     "metadata": {},
     "output_type": "execute_result"
    }
   ],
   "source": [
    "cross_val_score(grid_search,X,y,cv=5,scoring='accuracy')"
   ]
  },
  {
   "cell_type": "code",
   "execution_count": null,
   "metadata": {},
   "outputs": [],
   "source": []
  }
 ],
 "metadata": {
  "kernelspec": {
   "display_name": "Python 3",
   "language": "python",
   "name": "python3"
  },
  "language_info": {
   "codemirror_mode": {
    "name": "ipython",
    "version": 3
   },
   "file_extension": ".py",
   "mimetype": "text/x-python",
   "name": "python",
   "nbconvert_exporter": "python",
   "pygments_lexer": "ipython3",
   "version": "3.7.3"
  }
 },
 "nbformat": 4,
 "nbformat_minor": 2
}
