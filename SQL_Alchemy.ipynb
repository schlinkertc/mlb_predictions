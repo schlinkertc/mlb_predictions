{
 "cells": [
  {
   "cell_type": "code",
   "execution_count": 1,
   "metadata": {},
   "outputs": [],
   "source": [
    "import config\n",
    "import sqlalchemy\n",
    "import functions\n",
    "import statsapi as mlb"
   ]
  },
  {
   "cell_type": "code",
   "execution_count": 2,
   "metadata": {},
   "outputs": [],
   "source": [
    "gamePks = functions.read_gamePks()"
   ]
  },
  {
   "cell_type": "code",
   "execution_count": 3,
   "metadata": {},
   "outputs": [],
   "source": [
    "test_pk = gamePks['2019'][100]"
   ]
  },
  {
   "cell_type": "code",
   "execution_count": 4,
   "metadata": {},
   "outputs": [],
   "source": [
    "_sql_alchemy_connection = (\n",
    "                                f'mysql+mysqlconnector://'\n",
    "                                f'{config.user}:{config.password}'\n",
    "                                f'@{config.host}:{config.port}'\n",
    "                                f'/{config.schema}'\n",
    "                           )\n",
    "\n",
    "db = sqlalchemy.create_engine(_sql_alchemy_connection,\n",
    "                              echo = False,\n",
    "                              connect_args = {'ssl_disabled' : True})"
   ]
  },
  {
   "cell_type": "code",
   "execution_count": 5,
   "metadata": {},
   "outputs": [],
   "source": [
    "from sqlalchemy.ext.declarative import declarative_base\n",
    "\n",
    "Base = declarative_base()\n",
    "\n",
    "from sqlalchemy import Column, Integer, String,DateTime,Date,Time\n",
    "# Declare mapping for the game table \n",
    "class Game(Base):\n",
    "    __tablename__ = 'games'\n",
    "    \n",
    "    pk = Column(Integer)\n",
    "    type = Column(String(1))\n",
    "    doubleHeader = Column(String(1))\n",
    "    id = Column(String(150), primary_key=True)\n",
    "    gamedayType = Column(String(1))\n",
    "    tiebreaker = Column(String(1))\n",
    "    gameNumber = Column(Integer)\n",
    "    calenderEventId = Column(String(50))\n",
    "    season = Column(Integer)\n",
    "    \n",
    "    dateTime = Column(DateTime)\n",
    "    originalDate = Column(Date)\n",
    "    dayNight = Column(String(12))\n",
    "    time = Column(Time)\n",
    "    \n",
    "    abstractGameState = Column(String(12))\n",
    "    codedGameState = Column(String(3))\n",
    "    detailedState = Column(String(12))\n",
    "    statusCode = Column(String(3))\n",
    "    abstractGameCode = Column(String(3))\n",
    "    \n",
    "    homeTeam_id = Column(Integer)\n",
    "    awayTeam_id = Column(Integer)\n",
    "    \n",
    "    condition = Column(String(25))\n",
    "    temp = Column(Integer)\n",
    "    wind = Column(String(50))\n",
    "    \n",
    "    venue_id = Column(Integer)\n",
    "    \n",
    "    home_probablePitcher = Column(Integer)\n",
    "    away_probablePitcher = Column(Integer)"
   ]
  },
  {
   "cell_type": "code",
   "execution_count": 6,
   "metadata": {},
   "outputs": [],
   "source": [
    "# Create the table \n",
    "Base.metadata.create_all(db)"
   ]
  },
  {
   "cell_type": "code",
   "execution_count": 7,
   "metadata": {},
   "outputs": [],
   "source": [
    "# Create instance of the mapped class \n",
    "def create_gameRecord(pk):\n",
    "    from datetime import datetime\n",
    "    import time\n",
    "    api_call = mlb.get('game',{'gamePk':pk})\n",
    "    gameData = api_call['gameData']\n",
    "    game = gameData['game']\n",
    "    _datetime = gameData['datetime']\n",
    "    status = gameData['status']\n",
    "    weather = gameData['weather']\n",
    "    probablePitchers = gameData['probablePitchers']\n",
    "    \n",
    "    record = Game(pk=game['pk'],\n",
    "                 type=game['type'],\n",
    "                 doubleHeader=game['doubleHeader'],\n",
    "                 id=game['id'],\n",
    "                 gamedayType=game['gamedayType'],\n",
    "                 tiebreaker=game['tiebreaker'],\n",
    "                 gameNumber=game['gameNumber'],\n",
    "                 calenderEventId=game['calendarEventID'],\n",
    "                 season=game['season'],\n",
    "                  \n",
    "                 dateTime=datetime.strptime(_datetime['dateTime'],'%Y-%m-%dT%H:%M:%SZ'),\n",
    "                 originalDate=datetime.strptime(_datetime['originalDate'],\"%Y-%m-%d\"),\n",
    "                 dayNight=_datetime['dayNight'],\n",
    "                 time=datetime.strptime(_datetime['time']+_datetime['ampm'],\"%H:%M%p\"),\n",
    "                  \n",
    "                 abstractGameState=status['abstractGameState'],\n",
    "                 codedGameState=status['codedGameState'],\n",
    "                 detailedState=status['detailedState'],\n",
    "                 statusCode=status['statusCode'],\n",
    "                 abstractGameCode=status['abstractGameCode'],\n",
    "                  \n",
    "                 homeTeam_id=gameData['teams']['home']['id'],\n",
    "                 awayTeam_id=gameData['teams']['away']['id'],\n",
    "                  \n",
    "                 condition=weather.get('condition','null'),\n",
    "                 temp=weather.get('temp','null'),\n",
    "                 wind=weather.get('wind','null'),\n",
    "                  \n",
    "                 venue_id=gameData['venue']['id'],\n",
    "                  \n",
    "                 home_probablePitcher=probablePitchers.get('home',{'null':'null'}).get('id','null'),\n",
    "                 away_probablePitcher=probablePitchers.get('away',{'null':'null'}).get('id','null') \n",
    "                 )\n",
    "    return record"
   ]
  },
  {
   "cell_type": "code",
   "execution_count": 8,
   "metadata": {},
   "outputs": [],
   "source": [
    "test_record = create_gameRecord(test_pk)"
   ]
  },
  {
   "cell_type": "code",
   "execution_count": 9,
   "metadata": {},
   "outputs": [],
   "source": [
    "# Create a Session \n",
    "from sqlalchemy.orm import sessionmaker\n",
    "Session = sessionmaker(bind=db)\n",
    "session = Session()\n"
   ]
  },
  {
   "cell_type": "code",
   "execution_count": 10,
   "metadata": {},
   "outputs": [],
   "source": [
    "# Adding and updating objects\n",
    "session.add(test_record)"
   ]
  },
  {
   "cell_type": "code",
   "execution_count": 11,
   "metadata": {},
   "outputs": [
    {
     "data": {
      "text/plain": [
       "<sqlalchemy.orm.query.Query at 0x111a69a90>"
      ]
     },
     "execution_count": 11,
     "metadata": {},
     "output_type": "execute_result"
    }
   ],
   "source": [
    "# instance is not added until we 'flush' with a query\n",
    "test_query = session.query(Game)\n",
    "test_query"
   ]
  },
  {
   "cell_type": "code",
   "execution_count": 12,
   "metadata": {},
   "outputs": [],
   "source": [
    "session.commit()"
   ]
  },
  {
   "cell_type": "code",
   "execution_count": 13,
   "metadata": {},
   "outputs": [
    {
     "data": {
      "text/plain": [
       "[(566651, 'S', 'N', '2019/02/28/minmlb-tbamlb-1', 'Y', 'N', 1, '14-566651-2019-02-28', 2019, datetime.datetime(2019, 2, 28, 23, 35), datetime.date(2019, 2, 28), 'night', datetime.timedelta(seconds=23700), 'Final', 'F', 'Final', 'F', 'F', 139, 142, 'Clear', 74, '10 mph, L To R', 2534, 605483, 606167)]"
      ]
     },
     "execution_count": 13,
     "metadata": {},
     "output_type": "execute_result"
    }
   ],
   "source": [
    "db.execute(\"select * from games\").fetchall()"
   ]
  },
  {
   "cell_type": "code",
   "execution_count": null,
   "metadata": {},
   "outputs": [],
   "source": [
    "session.add_all([create_gameRecord(x) for x in gamePks['2019']])"
   ]
  },
  {
   "cell_type": "code",
   "execution_count": null,
   "metadata": {},
   "outputs": [],
   "source": [
    "session.commit()"
   ]
  },
  {
   "cell_type": "code",
   "execution_count": null,
   "metadata": {},
   "outputs": [],
   "source": [
    "db.execute(\"select * from games\").fetchall()"
   ]
  },
  {
   "cell_type": "code",
   "execution_count": null,
   "metadata": {},
   "outputs": [],
   "source": [
    "db.table_names()"
   ]
  },
  {
   "cell_type": "code",
   "execution_count": null,
   "metadata": {},
   "outputs": [],
   "source": [
    "db.execute(\"drop table games\")"
   ]
  },
  {
   "cell_type": "code",
   "execution_count": null,
   "metadata": {},
   "outputs": [],
   "source": []
  }
 ],
 "metadata": {
  "kernelspec": {
   "display_name": "Python 3",
   "language": "python",
   "name": "python3"
  },
  "language_info": {
   "codemirror_mode": {
    "name": "ipython",
    "version": 3
   },
   "file_extension": ".py",
   "mimetype": "text/x-python",
   "name": "python",
   "nbconvert_exporter": "python",
   "pygments_lexer": "ipython3",
   "version": "3.7.3"
  }
 },
 "nbformat": 4,
 "nbformat_minor": 2
}
