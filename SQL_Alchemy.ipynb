{
 "cells": [
  {
   "cell_type": "code",
   "execution_count": 1,
   "metadata": {},
   "outputs": [],
   "source": [
    "import config\n",
    "import sqlalchemy\n",
    "import functions\n",
    "import statsapi as mlb\n",
    "import sql_alch_schema\n",
    "from datetime import datetime\n",
    "\n",
    "from sqlalchemy.ext.declarative import declarative_base\n",
    "from sqlalchemy import Column, Integer, String,DateTime,Date,Time,Boolean\n",
    "from sqlalchemy import ForeignKey,and_\n",
    "from sqlalchemy.orm import relationship\n",
    "from sqlalchemy.schema import Table\n",
    "from sqlalchemy import distinct\n",
    "\n",
    "_sql_alchemy_connection = (\n",
    "                                f'mysql+mysqlconnector://'\n",
    "                                f'{config.user}:{config.password}'\n",
    "                                f'@{config.host}:{config.port}'\n",
    "                                f'/{config.schema}'\n",
    "                           )\n",
    "## Create the engine \n",
    "db = sqlalchemy.create_engine(_sql_alchemy_connection,\n",
    "                              echo = False,\n",
    "                              connect_args = {'ssl_disabled' : True,})\n",
    "\n",
    "Base = sql_alch_schema.Base\n",
    "\n",
    "Game = sql_alch_schema.Game\n",
    "Play = sql_alch_schema.Play\n",
    "Team = sql_alch_schema.Team\n",
    "GameTeamLink = sql_alch_schema.GameTeamLink\n",
    "Person = sql_alch_schema.Person\n",
    "\n",
    "\n",
    "from sqlalchemy.orm import sessionmaker\n",
    "Session = sessionmaker(bind=db)\n",
    "session = Session()\n",
    "\n",
    "#Base.metadata.create_all(db)\n",
    "\n",
    "import sqlalchemy_schemadisplay\n",
    "from sqlalchemy import MetaData\n",
    "\n",
    "schema_viz = sqlalchemy_schemadisplay.create_schema_graph(metadata=MetaData(db))\n",
    "schema_viz.write_png('dbschema.png')"
   ]
  },
  {
   "cell_type": "markdown",
   "metadata": {},
   "source": [
    "A Game record queried from mysql has a .teams attribute that retuns two GameTeamLink records as shown below"
   ]
  },
  {
   "cell_type": "code",
   "execution_count": 31,
   "metadata": {},
   "outputs": [
    {
     "name": "stdout",
     "output_type": "stream",
     "text": [
      "<Game(pk='567491',id='2019/06/11/nynmlb-nyamlb-1')>\n"
     ]
    }
   ],
   "source": [
    "test_gameId = '2019/06/11/nynmlb-nyamlb-1'\n",
    "game_test = session.query(Game).filter_by(id=test_gameId).one()\n",
    "\n",
    "print(game_test)"
   ]
  },
  {
   "cell_type": "code",
   "execution_count": 3,
   "metadata": {},
   "outputs": [
    {
     "data": {
      "text/plain": [
       "[<Play(game_id='2019/06/11/nynmlb-nyamlb-1',atBatIndex='0')>,\n",
       " <Play(game_id='2019/06/11/nynmlb-nyamlb-1',atBatIndex='1')>,\n",
       " <Play(game_id='2019/06/11/nynmlb-nyamlb-1',atBatIndex='10')>,\n",
       " <Play(game_id='2019/06/11/nynmlb-nyamlb-1',atBatIndex='11')>,\n",
       " <Play(game_id='2019/06/11/nynmlb-nyamlb-1',atBatIndex='12')>]"
      ]
     },
     "execution_count": 3,
     "metadata": {},
     "output_type": "execute_result"
    }
   ],
   "source": [
    "game_test.plays[:5]"
   ]
  },
  {
   "cell_type": "code",
   "execution_count": 4,
   "metadata": {},
   "outputs": [
    {
     "name": "stdout",
     "output_type": "stream",
     "text": [
      "<GameTeam(game_id='2019/06/11/nynmlb-nyamlb-1',team_id='147')> \n",
      "\n",
      "<Team(name='New York Yankees')> \n",
      "\n",
      "543305 \n",
      "\n"
     ]
    }
   ],
   "source": [
    "game_team_test = game_test.teams[1]\n",
    "\n",
    "print(game_team_test,'\\n')\n",
    "print(game_team_test.team,'\\n')\n",
    "print(game_team_test.player_1_id,'\\n')"
   ]
  },
  {
   "cell_type": "markdown",
   "metadata": {},
   "source": [
    "- A Game instance queried from the data base has a game_players() method \n",
    "- takes in a sql alchemy session\n",
    "- yields generators for the home team and away team\n",
    "- generators provide instances of the Person class "
   ]
  },
  {
   "cell_type": "code",
   "execution_count": 5,
   "metadata": {},
   "outputs": [
    {
     "data": {
      "text/plain": [
       "{'away': <generator object players at 0x10bf1f930>,\n",
       " 'home': <generator object players at 0x10bf1f9a8>}"
      ]
     },
     "execution_count": 5,
     "metadata": {},
     "output_type": "execute_result"
    }
   ],
   "source": [
    "game_test.game_players(session)"
   ]
  },
  {
   "cell_type": "code",
   "execution_count": 6,
   "metadata": {},
   "outputs": [
    {
     "data": {
      "text/plain": [
       "554430"
      ]
     },
     "execution_count": 6,
     "metadata": {},
     "output_type": "execute_result"
    }
   ],
   "source": [
    "game_test.away_probablePitcher"
   ]
  },
  {
   "cell_type": "code",
   "execution_count": 7,
   "metadata": {},
   "outputs": [
    {
     "data": {
      "text/plain": [
       "[<Person(nameSlug='noah-syndergaard-592789')>,\n",
       " <Person(nameSlug='j-d-davis-605204')>,\n",
       " <Person(nameSlug='wilmer-font-521655')>,\n",
       " <Person(nameSlug='adeiny-hechavarria-588751')>,\n",
       " <Person(nameSlug='pete-alonso-624413')>]"
      ]
     },
     "execution_count": 7,
     "metadata": {},
     "output_type": "execute_result"
    }
   ],
   "source": [
    "[x for x in game_test.game_players(session)['away']][:5]"
   ]
  },
  {
   "cell_type": "markdown",
   "metadata": {},
   "source": [
    "- The player_stats() method returns relevant stats for eacher player\n",
    "- this is my biggest bottleneck. \n",
    "    - Methods that take the session argument are querying the db in real-time\n",
    "    - I may have to set up a sql alchemy relationsip to make this more effecient"
   ]
  },
  {
   "cell_type": "code",
   "execution_count": 8,
   "metadata": {},
   "outputs": [],
   "source": [
    "# stat_dicts = game_test.player_stats(session)\n",
    "# stat_dicts"
   ]
  },
  {
   "cell_type": "code",
   "execution_count": 9,
   "metadata": {
    "scrolled": true
   },
   "outputs": [],
   "source": [
    "#[x for x in stat_dicts if x['Position_type']=='Probable_startingPitcher']"
   ]
  },
  {
   "cell_type": "markdown",
   "metadata": {},
   "source": [
    "The agg_stats method \n",
    "- same bottleneck issue because it's built upon the player_stats method"
   ]
  },
  {
   "cell_type": "code",
   "execution_count": 10,
   "metadata": {
    "scrolled": true
   },
   "outputs": [],
   "source": [
    "# agg_dicts = game_test.agg_stats(session)\n",
    "# agg_dicts"
   ]
  },
  {
   "cell_type": "code",
   "execution_count": 11,
   "metadata": {},
   "outputs": [],
   "source": [
    "# [x for x in agg_dicts if x['position']=='Probable_startingPitcher']"
   ]
  },
  {
   "cell_type": "code",
   "execution_count": 12,
   "metadata": {},
   "outputs": [],
   "source": [
    "play_test = session.query(Play).first()"
   ]
  },
  {
   "cell_type": "code",
   "execution_count": 13,
   "metadata": {},
   "outputs": [
    {
     "data": {
      "text/plain": [
       "645277"
      ]
     },
     "execution_count": 13,
     "metadata": {},
     "output_type": "execute_result"
    }
   ],
   "source": [
    "play_test.batter_id"
   ]
  },
  {
   "cell_type": "code",
   "execution_count": 14,
   "metadata": {},
   "outputs": [
    {
     "data": {
      "text/plain": [
       "<Game(pk='533881',id='2018/03/01/atlmlb-detmlb-1')>"
      ]
     },
     "execution_count": 14,
     "metadata": {},
     "output_type": "execute_result"
    }
   ],
   "source": [
    "play_test.game"
   ]
  },
  {
   "cell_type": "code",
   "execution_count": 15,
   "metadata": {},
   "outputs": [
    {
     "data": {
      "text/plain": [
       "<Team(name='New York Yankees')>"
      ]
     },
     "execution_count": 15,
     "metadata": {},
     "output_type": "execute_result"
    }
   ],
   "source": [
    "team_test = game_team_test.team\n",
    "team_test"
   ]
  },
  {
   "cell_type": "code",
   "execution_count": 16,
   "metadata": {},
   "outputs": [
    {
     "data": {
      "text/plain": [
       "[<GameTeam(game_id='2019/02/23/nyamlb-bosmlb-1',team_id='147')>,\n",
       " <GameTeam(game_id='2019/02/24/nyamlb-tbamlb-1',team_id='147')>,\n",
       " <GameTeam(game_id='2019/02/25/tormlb-nyamlb-1',team_id='147')>,\n",
       " <GameTeam(game_id='2019/02/26/phimlb-nyamlb-1',team_id='147')>,\n",
       " <GameTeam(game_id='2019/02/27/nyamlb-detmlb-1',team_id='147')>]"
      ]
     },
     "execution_count": 16,
     "metadata": {},
     "output_type": "execute_result"
    }
   ],
   "source": [
    "team_test.games[:5]"
   ]
  },
  {
   "cell_type": "markdown",
   "metadata": {},
   "source": [
    "We can also access player records through the game_team link"
   ]
  },
  {
   "cell_type": "code",
   "execution_count": 17,
   "metadata": {},
   "outputs": [
    {
     "data": {
      "text/plain": [
       "[<Person(nameSlug='gleyber-torres-650402')>,\n",
       " <Person(nameSlug='chad-green-643338')>,\n",
       " <Person(nameSlug='stephen-tarpley-605501')>,\n",
       " <Person(nameSlug='aaron-hicks-543305')>,\n",
       " <Person(nameSlug='j-a-happ-457918')>]"
      ]
     },
     "execution_count": 17,
     "metadata": {},
     "output_type": "execute_result"
    }
   ],
   "source": [
    "[x for x in game_team_test.players(session)][:5]"
   ]
  },
  {
   "cell_type": "code",
   "execution_count": 18,
   "metadata": {},
   "outputs": [
    {
     "data": {
      "text/plain": [
       "{'away': <generator object players at 0x10c0e4480>,\n",
       " 'home': <generator object players at 0x10c0e4570>}"
      ]
     },
     "execution_count": 18,
     "metadata": {},
     "output_type": "execute_result"
    }
   ],
   "source": [
    "game_test.game_players(session)"
   ]
  },
  {
   "cell_type": "markdown",
   "metadata": {},
   "source": [
    "## Let's find some player stats\n",
    "Eventually, we want team stats. But lets start with a single player"
   ]
  },
  {
   "cell_type": "markdown",
   "metadata": {},
   "source": [
    "## Person.plays\n",
    "It would be nice to have a person.plays method. I think it would require a PersonPlaysLink table "
   ]
  },
  {
   "cell_type": "markdown",
   "metadata": {},
   "source": [
    "## Relevent Stats\n",
    "- a method on a person instance that takes in a game\n",
    "- determines whether a player is a:\n",
    "    - 1)pitcher 1a) starter 1b) bullpen 1c)length \n",
    "    - 2) hitter 2a) reg_hitter 3a) irr_hitter\n",
    "- returns the relevent cumulative stats for that player"
   ]
  },
  {
   "cell_type": "code",
   "execution_count": 19,
   "metadata": {},
   "outputs": [],
   "source": [
    "most_recent_game = session.query(Game).order_by(Game.dateTime.desc()).first()"
   ]
  },
  {
   "cell_type": "code",
   "execution_count": 20,
   "metadata": {},
   "outputs": [],
   "source": [
    "aaron_judge = session.query(Person).filter(Person.fullName=='Aaron Judge').one()\n",
    "gerrit_cole = session.query(Person).filter(Person.fullName=='Gerrit Cole').one()\n",
    "aroldis_chapman = session.query(Person).filter(Person.fullName=='Aroldis Chapman').one()\n",
    "mike_trout = session.query(Person).filter(Person.fullName=='Mike Trout').one()"
   ]
  },
  {
   "cell_type": "code",
   "execution_count": 21,
   "metadata": {
    "scrolled": true
   },
   "outputs": [],
   "source": [
    "query = session.query(Game,Play).\\\n",
    "                filter(Game.id==Play.game_id).\\\n",
    "                filter(and_(Game.type=='R',Game.dateTime<datetime.today())).\\\n",
    "                filter(Play.batter_id==mike_trout.id).\\\n",
    "                all()[:50]\n"
   ]
  },
  {
   "cell_type": "code",
   "execution_count": 22,
   "metadata": {
    "scrolled": true
   },
   "outputs": [],
   "source": [
    "#most_recent_game.player_stats(session,limit=100)"
   ]
  },
  {
   "cell_type": "markdown",
   "metadata": {},
   "source": [
    "### Concatenate and average by team\n",
    "- home_starter.stats\n",
    "- home_bullpen.stats\n",
    "- home_length_pitcers.stats \n",
    "etc.\n"
   ]
  },
  {
   "cell_type": "code",
   "execution_count": 24,
   "metadata": {},
   "outputs": [],
   "source": [
    "#[x for x in player_agg_dicts if x['position']=='Probable_startingPitcher']"
   ]
  },
  {
   "cell_type": "code",
   "execution_count": 29,
   "metadata": {},
   "outputs": [],
   "source": [
    "import numpy as np\n",
    "def game_agg_stats(player_agg_stats_result):\n",
    "    game={}\n",
    "    \n",
    "    for x in player_agg_stats_result:\n",
    "        for stat in ['BA','SLG','OBP','PA_per_Game','WHIP','H9','HR9','SO9','SOW','GO_O','FO_O','PO_O','LO_O']:\n",
    "            if x['position']=='Probable_startingPitcher' and x['home']==1:\n",
    "                game[f\"home_starter_{stat}\"]=x[stat]\n",
    "            elif x['position']=='Probable_startingPitcher' and x['home']==-1:\n",
    "                game[f\"away_starter_{stat}\"]=x[stat]\n",
    "    \n",
    "    for stat in ['BA','SLG','OBP','PA_per_Game','WHIP','H9','HR9','SO9','SOW','GO_O','FO_O','PO_O','LO_O']:\n",
    "        game[f\"home_relief_{stat}_mean\"]=(np.mean(\n",
    "            [x[stat] for x in player_agg_stats_result \n",
    "             if x['position']=='Pitcher_relief' and x['home']==1]))\n",
    "        \n",
    "        game[f\"away_relief_{stat}_mean\"]=(np.mean(\n",
    "            [x[stat] for x in player_agg_stats_result \n",
    "             if x['position']=='Pitcher_relief' and x['home']==-1]))\n",
    "        \n",
    "        game[f\"home_relief_{stat}_std\"]=(np.std(\n",
    "            [x[stat] for x in player_agg_stats_result \n",
    "             if x['position']=='Pitcher_relief' and x['home']==1]))\n",
    "        \n",
    "        game[f\"away_relief_{stat}_std\"]=(np.std(\n",
    "            [x[stat] for x in player_agg_stats_result \n",
    "             if x['position']=='Pitcher_relief' and x['home']==-1]))\n",
    "    \n",
    "    for stat in ['BA','SLG','OBP','PA_per_Game','GO_O','FO_O','PO_O','LO_O']:\n",
    "        game[f\"home_hitters_{stat}_mean\"]=(np.mean(\n",
    "            [x[stat] for x in player_agg_stats_result\n",
    "            if 'Pitcher' not in x['position'] and x['home']==1]))\n",
    "        \n",
    "        game[f\"home_hitters_{stat}_std\"]=(np.mean(\n",
    "            [x[stat] for x in player_agg_stats_result\n",
    "            if 'Pitcher' not in x['position'] and x['home']==1]))\n",
    "        \n",
    "        game[f\"away_hitters_{stat}_mean\"]=(np.mean(\n",
    "            [x[stat] for x in player_agg_stats_result\n",
    "            if 'Pitcher' not in x['position'] and x['home']==-1]))\n",
    "        \n",
    "        game[f\"away_hitters_{stat}_std\"]=(np.mean(\n",
    "            [x[stat] for x in player_agg_stats_result\n",
    "            if 'Pitcher' not in x['position'] and x['home']==-1]))\n",
    "    try:\n",
    "        game['ID']=player_agg_stats_result[0]['ID']\n",
    "        return game\n",
    "    except:\n",
    "        return None"
   ]
  },
  {
   "cell_type": "code",
   "execution_count": 32,
   "metadata": {},
   "outputs": [
    {
     "data": {
      "text/plain": [
       "{'home_starter_BA': 0.24742268041237114,\n",
       " 'home_starter_SLG': 0.29553264604810997,\n",
       " 'home_starter_OBP': 0.2971246006389776,\n",
       " 'home_starter_PA_per_Game': 24.076923076923077,\n",
       " 'home_starter_WHIP': 21.943231441048034,\n",
       " 'home_starter_H9': 8.489082969432316,\n",
       " 'home_starter_HR9': 1.296943231441048,\n",
       " 'home_starter_SO9': 7.899563318777293,\n",
       " 'home_starter_SOW': 3.1904761904761907,\n",
       " 'home_starter_GO_O': 0.21993127147766323,\n",
       " 'home_starter_FO_O': 0.1134020618556701,\n",
       " 'home_starter_PO_O': 0.07903780068728522,\n",
       " 'home_starter_LO_O': 0.044673539518900345,\n",
       " 'away_starter_BA': 0.24375,\n",
       " 'away_starter_SLG': 0.28125,\n",
       " 'away_starter_OBP': 0.29545454545454547,\n",
       " 'away_starter_PA_per_Game': 27.076923076923077,\n",
       " 'away_starter_WHIP': 24.932270916334662,\n",
       " 'away_starter_H9': 8.390438247011952,\n",
       " 'away_starter_HR9': 1.1832669322709162,\n",
       " 'away_starter_SO9': 10.003984063745019,\n",
       " 'away_starter_SOW': 3.875,\n",
       " 'away_starter_GO_O': 0.19375,\n",
       " 'away_starter_FO_O': 0.103125,\n",
       " 'away_starter_PO_O': 0.053125,\n",
       " 'away_starter_LO_O': 0.078125,\n",
       " 'home_relief_BA_mean': 0.21774728083800202,\n",
       " 'away_relief_BA_mean': 0.25373040742162306,\n",
       " 'home_relief_BA_std': 0.03828636575365246,\n",
       " 'away_relief_BA_std': 0.02931903398861418,\n",
       " 'home_relief_SLG_mean': 0.26090456581888527,\n",
       " 'away_relief_SLG_mean': 0.3288999022273202,\n",
       " 'home_relief_SLG_std': 0.05457890689955142,\n",
       " 'away_relief_SLG_std': 0.06624809460403452,\n",
       " 'home_relief_OBP_mean': 0.29941592589276994,\n",
       " 'away_relief_OBP_mean': 0.3418781273809312,\n",
       " 'home_relief_OBP_std': 0.05707517507506337,\n",
       " 'away_relief_OBP_std': 0.051912324432165244,\n",
       " 'home_relief_PA_per_Game_mean': 6.376488241430771,\n",
       " 'away_relief_PA_per_Game_mean': 5.192324991350479,\n",
       " 'home_relief_PA_per_Game_std': 3.725115004470394,\n",
       " 'away_relief_PA_per_Game_std': 0.7683332292010498,\n",
       " 'home_relief_WHIP_mean': 9.922687498294712,\n",
       " 'away_relief_WHIP_mean': 9.425251217964425,\n",
       " 'home_relief_WHIP_std': 5.575507015280687,\n",
       " 'away_relief_WHIP_std': 4.361763041725629,\n",
       " 'home_relief_H9_mean': 7.304187484652402,\n",
       " 'away_relief_H9_mean': 8.970118104536947,\n",
       " 'home_relief_H9_std': 1.6308944641139103,\n",
       " 'away_relief_H9_std': 1.5367379795033356,\n",
       " 'home_relief_HR9_mean': 0.9320868849071924,\n",
       " 'away_relief_HR9_mean': 0.8516321602448494,\n",
       " 'home_relief_HR9_std': 0.6955966570615153,\n",
       " 'away_relief_HR9_std': 0.6301199130427413,\n",
       " 'home_relief_SO9_mean': 10.090805659182305,\n",
       " 'away_relief_SO9_mean': 9.22508661291138,\n",
       " 'home_relief_SO9_std': 2.6134341164163004,\n",
       " 'away_relief_SO9_std': 3.0899328518818394,\n",
       " 'home_relief_SOW_mean': 3.1558268891602226,\n",
       " 'away_relief_SOW_mean': 3.1030719980299812,\n",
       " 'home_relief_SOW_std': 1.492014920756687,\n",
       " 'away_relief_SOW_std': 2.232003240134943,\n",
       " 'home_relief_GO_O_mean': 0.2224458738579946,\n",
       " 'away_relief_GO_O_mean': 0.128578634221935,\n",
       " 'home_relief_GO_O_std': 0.10394406474035589,\n",
       " 'away_relief_GO_O_std': 0.049192513983606106,\n",
       " 'home_relief_FO_O_mean': 0.09072703919343661,\n",
       " 'away_relief_FO_O_mean': 0.1328882721340574,\n",
       " 'home_relief_FO_O_std': 0.03293692433381359,\n",
       " 'away_relief_FO_O_std': 0.03728435394954092,\n",
       " 'home_relief_PO_O_mean': 0.04516112873102823,\n",
       " 'away_relief_PO_O_mean': 0.08751202164689299,\n",
       " 'home_relief_PO_O_std': 0.03179535160229334,\n",
       " 'away_relief_PO_O_std': 0.05577631693937886,\n",
       " 'home_relief_LO_O_mean': 0.049273724385662715,\n",
       " 'away_relief_LO_O_mean': 0.06363441448623346,\n",
       " 'home_relief_LO_O_std': 0.020418548028243298,\n",
       " 'away_relief_LO_O_std': 0.019974845379248818,\n",
       " 'home_hitters_BA_mean': 0.26301592985394456,\n",
       " 'home_hitters_BA_std': 0.26301592985394456,\n",
       " 'away_hitters_BA_mean': 0.25257271316144964,\n",
       " 'away_hitters_BA_std': 0.25257271316144964,\n",
       " 'home_hitters_SLG_mean': 0.30117103002117407,\n",
       " 'home_hitters_SLG_std': 0.30117103002117407,\n",
       " 'away_hitters_SLG_mean': 0.29657220719440763,\n",
       " 'away_hitters_SLG_std': 0.29657220719440763,\n",
       " 'home_hitters_OBP_mean': 0.3280493298730094,\n",
       " 'home_hitters_OBP_std': 0.3280493298730094,\n",
       " 'away_hitters_OBP_mean': 0.31869093004148696,\n",
       " 'away_hitters_OBP_std': 0.31869093004148696,\n",
       " 'home_hitters_PA_per_Game_mean': 3.906608627078921,\n",
       " 'home_hitters_PA_per_Game_std': 3.906608627078921,\n",
       " 'away_hitters_PA_per_Game_mean': 3.3042639911635865,\n",
       " 'away_hitters_PA_per_Game_std': 3.3042639911635865,\n",
       " 'home_hitters_GO_O_mean': 0.18329630404737488,\n",
       " 'home_hitters_GO_O_std': 0.18329630404737488,\n",
       " 'away_hitters_GO_O_mean': 0.20622988756768537,\n",
       " 'away_hitters_GO_O_std': 0.20622988756768537,\n",
       " 'home_hitters_FO_O_mean': 0.13420655124222783,\n",
       " 'home_hitters_FO_O_std': 0.13420655124222783,\n",
       " 'away_hitters_FO_O_mean': 0.11345748711122375,\n",
       " 'away_hitters_FO_O_std': 0.11345748711122375,\n",
       " 'home_hitters_PO_O_mean': 0.05725143796206997,\n",
       " 'home_hitters_PO_O_std': 0.05725143796206997,\n",
       " 'away_hitters_PO_O_mean': 0.04880299117574259,\n",
       " 'away_hitters_PO_O_std': 0.04880299117574259,\n",
       " 'home_hitters_LO_O_mean': 0.05832614251082843,\n",
       " 'home_hitters_LO_O_std': 0.05832614251082843,\n",
       " 'away_hitters_LO_O_mean': 0.05360977799243095,\n",
       " 'away_hitters_LO_O_std': 0.05360977799243095,\n",
       " 'ID': '2019/06/11/nynmlb-nyamlb-1'}"
      ]
     },
     "execution_count": 32,
     "metadata": {},
     "output_type": "execute_result"
    }
   ],
   "source": [
    "game = game_agg_stats(game_test.agg_stats(session))\n",
    "game"
   ]
  },
  {
   "cell_type": "markdown",
   "metadata": {},
   "source": [
    "### write the first game to a csv"
   ]
  },
  {
   "cell_type": "code",
   "execution_count": 33,
   "metadata": {},
   "outputs": [],
   "source": [
    "import csv\n",
    "filename=\"/Users/schlinkertc/code/mlb_predictions/mlb_predictions/dataset.csv\"\n",
    "keys=game.keys()\n",
    "\n",
    "f = open(filename, \"w\")\n",
    "writer = csv.DictWriter(\n",
    "    f, fieldnames=keys)\n",
    "writer.writeheader()\n",
    "writer.writerows(\n",
    "    [game])\n",
    "f.close()"
   ]
  },
  {
   "cell_type": "code",
   "execution_count": 34,
   "metadata": {},
   "outputs": [],
   "source": [
    "chunk = sql_alch_schema.chunk\n",
    "filename=\"/Users/schlinkertc/code/mlb_predictions/mlb_predictions/dataset.csv\"\n",
    "game_records = session.query(Game).filter(Game.type=='R').all()\n",
    "\n",
    "import csv"
   ]
  },
  {
   "cell_type": "markdown",
   "metadata": {},
   "source": [
    "### update the existing csv\n",
    "- check the existing csv \n",
    "    - i need to add an ID to the dicts first "
   ]
  },
  {
   "cell_type": "code",
   "execution_count": 35,
   "metadata": {},
   "outputs": [],
   "source": [
    "def create_write_gameAggStats(session,game_records,limit=None,chunk_size=50):\n",
    "    \"\"\"\n",
    "    Takes in a session, a list of Game instances, and optional limit and chunk size.\n",
    "    1) Checks the current dataset for games that are already added \n",
    "    2) Removes potential duplicates from the passed list of game_records\n",
    "    3) creates the relevant game stats for the remaining game_records\n",
    "    4) updates the dataset.csv file with the new games\n",
    "    \"\"\"\n",
    "    # Check existing games\n",
    "    reader = csv.DictReader(open(filename))\n",
    "    already_added = [row for row in reader]\n",
    "    dupe_IDs = [x['ID'] for x in already_added]\n",
    "    game_records = [game for game in game_records if game.id not in dupe_IDs]\n",
    "    chunks = chunk(chunk_size,game_records)\n",
    "    keys=already_added[0].keys()\n",
    "    count = 1\n",
    "    for chunk_ in chunks[1:]:\n",
    "        print(f'starting chunk {count} of {len(chunks[1:])}')\n",
    "        \n",
    "        temp_reader = csv.DictReader(open(filename))\n",
    "        current_data = [row for row in temp_reader]\n",
    "        \n",
    "        for game_record in chunk_:\n",
    "            game = game_agg_stats(game_record.agg_stats(session))\n",
    "            if game!= None:\n",
    "                current_data.append(game)\n",
    "                print('.')\n",
    "        f = open(filename, \"w\")\n",
    "        writer = csv.DictWriter(f, fieldnames=keys)\n",
    "        writer.writeheader()\n",
    "        writer.writerows(current_data)\n",
    "        f.close()\n",
    "            \n",
    "        count+=1          "
   ]
  },
  {
   "cell_type": "code",
   "execution_count": null,
   "metadata": {
    "scrolled": false
   },
   "outputs": [
    {
     "name": "stdout",
     "output_type": "stream",
     "text": [
      "starting chunk 1 of 242\n",
      ".\n",
      ".\n",
      ".\n",
      ".\n",
      ".\n",
      ".\n",
      ".\n",
      ".\n",
      ".\n",
      ".\n",
      "starting chunk 2 of 242\n",
      ".\n",
      ".\n",
      ".\n",
      ".\n",
      ".\n",
      ".\n",
      ".\n",
      ".\n",
      ".\n",
      ".\n",
      "starting chunk 3 of 242\n",
      ".\n",
      ".\n",
      ".\n",
      ".\n",
      ".\n",
      ".\n",
      ".\n",
      ".\n",
      ".\n",
      ".\n",
      "starting chunk 4 of 242\n",
      ".\n",
      ".\n",
      ".\n",
      ".\n",
      ".\n",
      ".\n",
      ".\n",
      ".\n",
      ".\n",
      ".\n",
      "starting chunk 5 of 242\n",
      ".\n",
      ".\n",
      ".\n",
      ".\n",
      ".\n",
      ".\n",
      ".\n",
      ".\n",
      ".\n",
      ".\n",
      "starting chunk 6 of 242\n",
      ".\n",
      ".\n",
      ".\n",
      ".\n",
      ".\n",
      ".\n",
      ".\n",
      ".\n",
      ".\n",
      ".\n",
      "starting chunk 7 of 242\n",
      ".\n",
      ".\n",
      ".\n",
      ".\n",
      ".\n",
      ".\n",
      ".\n",
      ".\n",
      ".\n",
      ".\n",
      "starting chunk 8 of 242\n",
      ".\n",
      ".\n",
      ".\n",
      ".\n",
      ".\n",
      ".\n",
      ".\n",
      ".\n",
      ".\n",
      ".\n",
      "starting chunk 9 of 242\n",
      ".\n",
      ".\n",
      ".\n",
      ".\n",
      ".\n",
      ".\n",
      ".\n",
      ".\n",
      ".\n",
      ".\n",
      "starting chunk 10 of 242\n",
      ".\n",
      ".\n",
      ".\n",
      ".\n",
      ".\n",
      ".\n",
      ".\n",
      ".\n",
      ".\n",
      ".\n",
      "starting chunk 11 of 242\n",
      ".\n",
      ".\n",
      ".\n",
      ".\n",
      ".\n",
      ".\n",
      ".\n",
      ".\n",
      ".\n",
      ".\n",
      "starting chunk 12 of 242\n",
      ".\n",
      ".\n",
      ".\n",
      ".\n",
      ".\n",
      ".\n",
      ".\n",
      ".\n",
      ".\n",
      ".\n",
      "starting chunk 13 of 242\n",
      ".\n",
      ".\n",
      ".\n",
      ".\n",
      ".\n",
      ".\n",
      ".\n",
      ".\n",
      ".\n",
      ".\n",
      "starting chunk 14 of 242\n",
      ".\n",
      ".\n",
      ".\n",
      ".\n",
      ".\n",
      ".\n",
      ".\n",
      ".\n",
      ".\n",
      ".\n",
      "starting chunk 15 of 242\n",
      ".\n",
      ".\n",
      ".\n",
      ".\n",
      ".\n",
      ".\n",
      ".\n",
      ".\n",
      ".\n",
      ".\n",
      "starting chunk 16 of 242\n",
      ".\n",
      ".\n",
      ".\n",
      ".\n",
      ".\n",
      ".\n",
      ".\n",
      ".\n",
      ".\n",
      ".\n",
      "starting chunk 17 of 242\n",
      ".\n",
      ".\n",
      ".\n",
      ".\n",
      ".\n",
      ".\n",
      ".\n",
      ".\n",
      ".\n",
      ".\n",
      "starting chunk 18 of 242\n",
      ".\n",
      ".\n",
      ".\n",
      ".\n",
      ".\n",
      ".\n",
      ".\n",
      ".\n",
      ".\n",
      ".\n",
      "starting chunk 19 of 242\n",
      ".\n",
      ".\n",
      ".\n",
      ".\n",
      ".\n",
      ".\n",
      ".\n",
      ".\n",
      ".\n",
      ".\n",
      "starting chunk 20 of 242\n",
      ".\n",
      ".\n",
      ".\n",
      ".\n",
      ".\n",
      ".\n",
      ".\n",
      ".\n",
      ".\n",
      ".\n",
      "starting chunk 21 of 242\n",
      ".\n",
      ".\n",
      ".\n",
      ".\n",
      ".\n",
      ".\n",
      ".\n",
      ".\n",
      ".\n",
      ".\n",
      "starting chunk 22 of 242\n",
      ".\n",
      ".\n",
      ".\n",
      ".\n",
      ".\n",
      ".\n",
      ".\n",
      ".\n",
      ".\n",
      ".\n",
      "starting chunk 23 of 242\n",
      ".\n",
      ".\n",
      ".\n",
      ".\n",
      ".\n",
      ".\n",
      ".\n",
      ".\n",
      ".\n",
      ".\n",
      "starting chunk 24 of 242\n",
      ".\n",
      ".\n",
      ".\n",
      ".\n",
      ".\n",
      ".\n",
      ".\n",
      ".\n",
      ".\n",
      ".\n",
      "starting chunk 25 of 242\n",
      ".\n",
      ".\n",
      ".\n",
      ".\n",
      ".\n",
      ".\n",
      ".\n",
      ".\n",
      ".\n",
      ".\n",
      "starting chunk 26 of 242\n",
      ".\n",
      ".\n",
      ".\n",
      ".\n",
      ".\n",
      ".\n",
      ".\n",
      ".\n",
      ".\n",
      ".\n",
      "starting chunk 27 of 242\n",
      ".\n",
      ".\n",
      ".\n",
      ".\n",
      ".\n",
      ".\n",
      ".\n",
      ".\n",
      ".\n",
      ".\n",
      "starting chunk 28 of 242\n",
      ".\n",
      ".\n",
      ".\n",
      ".\n",
      ".\n",
      ".\n",
      ".\n",
      ".\n",
      ".\n",
      ".\n",
      "starting chunk 29 of 242\n",
      ".\n",
      ".\n",
      ".\n",
      ".\n",
      ".\n",
      ".\n",
      ".\n",
      ".\n",
      ".\n",
      ".\n",
      "starting chunk 30 of 242\n",
      ".\n",
      ".\n",
      ".\n",
      ".\n",
      ".\n",
      ".\n",
      ".\n",
      ".\n",
      ".\n",
      ".\n",
      "starting chunk 31 of 242\n",
      ".\n",
      ".\n",
      ".\n",
      ".\n",
      ".\n",
      ".\n",
      ".\n",
      ".\n",
      ".\n",
      ".\n",
      "starting chunk 32 of 242\n",
      ".\n",
      ".\n",
      ".\n",
      ".\n",
      ".\n",
      ".\n",
      ".\n",
      ".\n",
      ".\n",
      ".\n",
      "starting chunk 33 of 242\n",
      ".\n",
      ".\n",
      ".\n",
      ".\n",
      ".\n",
      ".\n",
      ".\n"
     ]
    }
   ],
   "source": [
    "games=create_write_gameAggStats(session,game_records,chunk_size=10)"
   ]
  },
  {
   "cell_type": "code",
   "execution_count": null,
   "metadata": {},
   "outputs": [],
   "source": []
  }
 ],
 "metadata": {
  "kernelspec": {
   "display_name": "Python 3",
   "language": "python",
   "name": "python3"
  },
  "language_info": {
   "codemirror_mode": {
    "name": "ipython",
    "version": 3
   },
   "file_extension": ".py",
   "mimetype": "text/x-python",
   "name": "python",
   "nbconvert_exporter": "python",
   "pygments_lexer": "ipython3",
   "version": "3.7.3"
  }
 },
 "nbformat": 4,
 "nbformat_minor": 2
}
