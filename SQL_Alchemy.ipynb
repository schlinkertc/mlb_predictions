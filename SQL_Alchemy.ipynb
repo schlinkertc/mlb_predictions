{
 "cells": [
  {
   "cell_type": "code",
   "execution_count": 1,
   "metadata": {},
   "outputs": [],
   "source": [
    "import config\n",
    "import sqlalchemy\n",
    "import functions\n",
    "import statsapi as mlb\n",
    "import sql_alch_schema\n",
    "from datetime import datetime"
   ]
  },
  {
   "cell_type": "code",
   "execution_count": 36,
   "metadata": {},
   "outputs": [],
   "source": [
    "from sqlalchemy.ext.declarative import declarative_base\n",
    "from sqlalchemy import Column, Integer, String,DateTime,Date,Time,Boolean\n",
    "from sqlalchemy import ForeignKey,and_\n",
    "from sqlalchemy.orm import relationship\n",
    "from sqlalchemy.schema import Table\n",
    "from sqlalchemy import distinct"
   ]
  },
  {
   "cell_type": "code",
   "execution_count": 37,
   "metadata": {},
   "outputs": [],
   "source": [
    "_sql_alchemy_connection = (\n",
    "                                f'mysql+mysqlconnector://'\n",
    "                                f'{config.user}:{config.password}'\n",
    "                                f'@{config.host}:{config.port}'\n",
    "                                f'/{config.schema}'\n",
    "                           )\n",
    "## Create the engine \n",
    "db = sqlalchemy.create_engine(_sql_alchemy_connection,\n",
    "                              echo = False,\n",
    "                              connect_args = {'ssl_disabled' : True,})"
   ]
  },
  {
   "cell_type": "code",
   "execution_count": 38,
   "metadata": {},
   "outputs": [],
   "source": [
    "Base = sql_alch_schema.Base\n",
    "\n",
    "Game = sql_alch_schema.Game\n",
    "Play = sql_alch_schema.Play\n",
    "Team = sql_alch_schema.Team\n",
    "GameTeamLink = sql_alch_schema.GameTeamLink\n",
    "Person = sql_alch_schema.Person\n",
    "\n",
    "\n",
    "from sqlalchemy.orm import sessionmaker\n",
    "Session = sessionmaker(bind=db)\n",
    "session = Session()"
   ]
  },
  {
   "cell_type": "code",
   "execution_count": 39,
   "metadata": {},
   "outputs": [],
   "source": [
    "Base.metadata.create_all(db)"
   ]
  },
  {
   "cell_type": "code",
   "execution_count": 40,
   "metadata": {},
   "outputs": [],
   "source": [
    "import sqlalchemy_schemadisplay\n",
    "from sqlalchemy import MetaData\n",
    "\n",
    "schema_viz = sqlalchemy_schemadisplay.create_schema_graph(metadata=MetaData(db))\n",
    "schema_viz.write_png('dbschema.png')"
   ]
  },
  {
   "cell_type": "markdown",
   "metadata": {},
   "source": [
    "A Game record queried from mysql has a .teams attribute that retuns two GameTeamLink records as shown below"
   ]
  },
  {
   "cell_type": "code",
   "execution_count": 41,
   "metadata": {},
   "outputs": [
    {
     "name": "stdout",
     "output_type": "stream",
     "text": [
      "<Game(pk='566086',id='2019/03/28/anamlb-oakmlb-1')>\n"
     ]
    }
   ],
   "source": [
    "test_gameId = '2019/03/28/anamlb-oakmlb-1'\n",
    "game_test = session.query(Game).filter_by(id=test_gameId).one()\n",
    "\n",
    "print(game_test)"
   ]
  },
  {
   "cell_type": "code",
   "execution_count": 42,
   "metadata": {},
   "outputs": [
    {
     "data": {
      "text/plain": [
       "[<GameTeam(game_id='2019/03/28/anamlb-oakmlb-1',team_id='108')>,\n",
       " <GameTeam(game_id='2019/03/28/anamlb-oakmlb-1',team_id='133')>]"
      ]
     },
     "execution_count": 42,
     "metadata": {},
     "output_type": "execute_result"
    }
   ],
   "source": [
    "game_test.teams"
   ]
  },
  {
   "cell_type": "code",
   "execution_count": 43,
   "metadata": {},
   "outputs": [],
   "source": [
    "play_test = session.query(Play).first()"
   ]
  },
  {
   "cell_type": "code",
   "execution_count": 44,
   "metadata": {},
   "outputs": [
    {
     "data": {
      "text/plain": [
       "645277"
      ]
     },
     "execution_count": 44,
     "metadata": {},
     "output_type": "execute_result"
    }
   ],
   "source": [
    "play_test.batter_id"
   ]
  },
  {
   "cell_type": "code",
   "execution_count": 45,
   "metadata": {},
   "outputs": [
    {
     "data": {
      "text/plain": [
       "<Game(pk='533881',id='2018/03/01/atlmlb-detmlb-1')>"
      ]
     },
     "execution_count": 45,
     "metadata": {},
     "output_type": "execute_result"
    }
   ],
   "source": [
    "play_test.game"
   ]
  },
  {
   "cell_type": "markdown",
   "metadata": {},
   "source": [
    "A game_team object can access the associated game record and team record as well as plays for that game"
   ]
  },
  {
   "cell_type": "code",
   "execution_count": 46,
   "metadata": {},
   "outputs": [
    {
     "name": "stdout",
     "output_type": "stream",
     "text": [
      "<GameTeam(game_id='2019/03/28/anamlb-oakmlb-1',team_id='108')> \n",
      "\n",
      "<Team(name='Los Angeles Angels')> \n",
      "\n",
      "405395 \n",
      "\n"
     ]
    },
    {
     "data": {
      "text/plain": [
       "[<Play(game_id='2019/03/28/anamlb-oakmlb-1',atBatIndex='0')>,\n",
       " <Play(game_id='2019/03/28/anamlb-oakmlb-1',atBatIndex='1')>,\n",
       " <Play(game_id='2019/03/28/anamlb-oakmlb-1',atBatIndex='10')>,\n",
       " <Play(game_id='2019/03/28/anamlb-oakmlb-1',atBatIndex='11')>,\n",
       " <Play(game_id='2019/03/28/anamlb-oakmlb-1',atBatIndex='12')>,\n",
       " <Play(game_id='2019/03/28/anamlb-oakmlb-1',atBatIndex='13')>,\n",
       " <Play(game_id='2019/03/28/anamlb-oakmlb-1',atBatIndex='14')>,\n",
       " <Play(game_id='2019/03/28/anamlb-oakmlb-1',atBatIndex='15')>,\n",
       " <Play(game_id='2019/03/28/anamlb-oakmlb-1',atBatIndex='16')>,\n",
       " <Play(game_id='2019/03/28/anamlb-oakmlb-1',atBatIndex='17')>,\n",
       " <Play(game_id='2019/03/28/anamlb-oakmlb-1',atBatIndex='18')>,\n",
       " <Play(game_id='2019/03/28/anamlb-oakmlb-1',atBatIndex='19')>,\n",
       " <Play(game_id='2019/03/28/anamlb-oakmlb-1',atBatIndex='2')>,\n",
       " <Play(game_id='2019/03/28/anamlb-oakmlb-1',atBatIndex='20')>,\n",
       " <Play(game_id='2019/03/28/anamlb-oakmlb-1',atBatIndex='21')>,\n",
       " <Play(game_id='2019/03/28/anamlb-oakmlb-1',atBatIndex='22')>,\n",
       " <Play(game_id='2019/03/28/anamlb-oakmlb-1',atBatIndex='23')>,\n",
       " <Play(game_id='2019/03/28/anamlb-oakmlb-1',atBatIndex='24')>,\n",
       " <Play(game_id='2019/03/28/anamlb-oakmlb-1',atBatIndex='25')>,\n",
       " <Play(game_id='2019/03/28/anamlb-oakmlb-1',atBatIndex='26')>,\n",
       " <Play(game_id='2019/03/28/anamlb-oakmlb-1',atBatIndex='27')>,\n",
       " <Play(game_id='2019/03/28/anamlb-oakmlb-1',atBatIndex='28')>,\n",
       " <Play(game_id='2019/03/28/anamlb-oakmlb-1',atBatIndex='29')>,\n",
       " <Play(game_id='2019/03/28/anamlb-oakmlb-1',atBatIndex='3')>,\n",
       " <Play(game_id='2019/03/28/anamlb-oakmlb-1',atBatIndex='30')>,\n",
       " <Play(game_id='2019/03/28/anamlb-oakmlb-1',atBatIndex='31')>,\n",
       " <Play(game_id='2019/03/28/anamlb-oakmlb-1',atBatIndex='32')>,\n",
       " <Play(game_id='2019/03/28/anamlb-oakmlb-1',atBatIndex='33')>,\n",
       " <Play(game_id='2019/03/28/anamlb-oakmlb-1',atBatIndex='34')>,\n",
       " <Play(game_id='2019/03/28/anamlb-oakmlb-1',atBatIndex='35')>,\n",
       " <Play(game_id='2019/03/28/anamlb-oakmlb-1',atBatIndex='36')>,\n",
       " <Play(game_id='2019/03/28/anamlb-oakmlb-1',atBatIndex='37')>,\n",
       " <Play(game_id='2019/03/28/anamlb-oakmlb-1',atBatIndex='38')>,\n",
       " <Play(game_id='2019/03/28/anamlb-oakmlb-1',atBatIndex='39')>,\n",
       " <Play(game_id='2019/03/28/anamlb-oakmlb-1',atBatIndex='4')>,\n",
       " <Play(game_id='2019/03/28/anamlb-oakmlb-1',atBatIndex='40')>,\n",
       " <Play(game_id='2019/03/28/anamlb-oakmlb-1',atBatIndex='41')>,\n",
       " <Play(game_id='2019/03/28/anamlb-oakmlb-1',atBatIndex='42')>,\n",
       " <Play(game_id='2019/03/28/anamlb-oakmlb-1',atBatIndex='43')>,\n",
       " <Play(game_id='2019/03/28/anamlb-oakmlb-1',atBatIndex='44')>,\n",
       " <Play(game_id='2019/03/28/anamlb-oakmlb-1',atBatIndex='45')>,\n",
       " <Play(game_id='2019/03/28/anamlb-oakmlb-1',atBatIndex='46')>,\n",
       " <Play(game_id='2019/03/28/anamlb-oakmlb-1',atBatIndex='47')>,\n",
       " <Play(game_id='2019/03/28/anamlb-oakmlb-1',atBatIndex='48')>,\n",
       " <Play(game_id='2019/03/28/anamlb-oakmlb-1',atBatIndex='49')>,\n",
       " <Play(game_id='2019/03/28/anamlb-oakmlb-1',atBatIndex='5')>,\n",
       " <Play(game_id='2019/03/28/anamlb-oakmlb-1',atBatIndex='50')>,\n",
       " <Play(game_id='2019/03/28/anamlb-oakmlb-1',atBatIndex='51')>,\n",
       " <Play(game_id='2019/03/28/anamlb-oakmlb-1',atBatIndex='52')>,\n",
       " <Play(game_id='2019/03/28/anamlb-oakmlb-1',atBatIndex='53')>,\n",
       " <Play(game_id='2019/03/28/anamlb-oakmlb-1',atBatIndex='54')>,\n",
       " <Play(game_id='2019/03/28/anamlb-oakmlb-1',atBatIndex='55')>,\n",
       " <Play(game_id='2019/03/28/anamlb-oakmlb-1',atBatIndex='56')>,\n",
       " <Play(game_id='2019/03/28/anamlb-oakmlb-1',atBatIndex='57')>,\n",
       " <Play(game_id='2019/03/28/anamlb-oakmlb-1',atBatIndex='58')>,\n",
       " <Play(game_id='2019/03/28/anamlb-oakmlb-1',atBatIndex='59')>,\n",
       " <Play(game_id='2019/03/28/anamlb-oakmlb-1',atBatIndex='6')>,\n",
       " <Play(game_id='2019/03/28/anamlb-oakmlb-1',atBatIndex='60')>,\n",
       " <Play(game_id='2019/03/28/anamlb-oakmlb-1',atBatIndex='61')>,\n",
       " <Play(game_id='2019/03/28/anamlb-oakmlb-1',atBatIndex='62')>,\n",
       " <Play(game_id='2019/03/28/anamlb-oakmlb-1',atBatIndex='63')>,\n",
       " <Play(game_id='2019/03/28/anamlb-oakmlb-1',atBatIndex='64')>,\n",
       " <Play(game_id='2019/03/28/anamlb-oakmlb-1',atBatIndex='7')>,\n",
       " <Play(game_id='2019/03/28/anamlb-oakmlb-1',atBatIndex='8')>,\n",
       " <Play(game_id='2019/03/28/anamlb-oakmlb-1',atBatIndex='9')>]"
      ]
     },
     "execution_count": 46,
     "metadata": {},
     "output_type": "execute_result"
    }
   ],
   "source": [
    "game_team_test = game_test.teams[0]\n",
    "\n",
    "print(game_team_test,'\\n')\n",
    "print(game_team_test.team,'\\n')\n",
    "print(game_team_test.player_1_id,'\\n')\n",
    "game_team_test.game.plays"
   ]
  },
  {
   "cell_type": "code",
   "execution_count": 47,
   "metadata": {},
   "outputs": [
    {
     "data": {
      "text/plain": [
       "<Team(name='Los Angeles Angels')>"
      ]
     },
     "execution_count": 47,
     "metadata": {},
     "output_type": "execute_result"
    }
   ],
   "source": [
    "team_test = game_team_test.team\n",
    "team_test"
   ]
  },
  {
   "cell_type": "code",
   "execution_count": 48,
   "metadata": {},
   "outputs": [
    {
     "data": {
      "text/plain": [
       "[<GameTeam(game_id='2019/02/23/sfnmlb-anamlb-1',team_id='108')>,\n",
       " <GameTeam(game_id='2019/02/24/anamlb-lanmlb-1',team_id='108')>,\n",
       " <GameTeam(game_id='2019/02/24/cinmlb-anamlb-2',team_id='108')>,\n",
       " <GameTeam(game_id='2019/02/25/milmlb-anamlb-1',team_id='108')>,\n",
       " <GameTeam(game_id='2019/02/26/anamlb-oakmlb-1',team_id='108')>,\n",
       " <GameTeam(game_id='2019/02/27/anamlb-colmlb-1',team_id='108')>,\n",
       " <GameTeam(game_id='2019/02/28/texmlb-anamlb-1',team_id='108')>,\n",
       " <GameTeam(game_id='2019/03/01/kcamlb-anamlb-1',team_id='108')>,\n",
       " <GameTeam(game_id='2019/03/02/anamlb-cinmlb-1',team_id='108')>,\n",
       " <GameTeam(game_id='2019/03/03/oakmlb-anamlb-1',team_id='108')>,\n",
       " <GameTeam(game_id='2019/03/04/anamlb-chamlb-1',team_id='108')>,\n",
       " <GameTeam(game_id='2019/03/05/chnmlb-anamlb-1',team_id='108')>,\n",
       " <GameTeam(game_id='2019/03/06/anamlb-colmlb-1',team_id='108')>,\n",
       " <GameTeam(game_id='2019/03/07/anamlb-kcamlb-1',team_id='108')>,\n",
       " <GameTeam(game_id='2019/03/07/lanmlb-anamlb-2',team_id='108')>,\n",
       " <GameTeam(game_id='2019/03/08/chamlb-anamlb-1',team_id='108')>,\n",
       " <GameTeam(game_id='2019/03/09/anamlb-chnmlb-1',team_id='108')>,\n",
       " <GameTeam(game_id='2019/03/09/milmlb-anamlb-2',team_id='108')>,\n",
       " <GameTeam(game_id='2019/03/10/seamlb-anamlb-2',team_id='108')>,\n",
       " <GameTeam(game_id='2019/03/11/anamlb-texmlb-1',team_id='108')>,\n",
       " <GameTeam(game_id='2019/03/13/sdnmlb-anamlb-1',team_id='108')>,\n",
       " <GameTeam(game_id='2019/03/14/anamlb-milmlb-1',team_id='108')>,\n",
       " <GameTeam(game_id='2019/03/15/anamlb-sfnmlb-1',team_id='108')>,\n",
       " <GameTeam(game_id='2019/03/15/arimlb-anamlb-2',team_id='108')>,\n",
       " <GameTeam(game_id='2019/03/16/clemlb-anamlb-1',team_id='108')>,\n",
       " <GameTeam(game_id='2019/03/17/anamlb-sdnmlb-1',team_id='108')>,\n",
       " <GameTeam(game_id='2019/03/19/colmlb-anamlb-1',team_id='108')>,\n",
       " <GameTeam(game_id='2019/03/20/anamlb-clemlb-1',team_id='108')>,\n",
       " <GameTeam(game_id='2019/03/21/anamlb-arimlb-1',team_id='108')>,\n",
       " <GameTeam(game_id='2019/03/22/anamlb-seamlb-2',team_id='108')>,\n",
       " <GameTeam(game_id='2019/03/22/chamlb-anamlb-1',team_id='108')>,\n",
       " <GameTeam(game_id='2019/03/23/anamlb-sdnmlb-1',team_id='108')>,\n",
       " <GameTeam(game_id='2019/03/24/lanmlb-anamlb-1',team_id='108')>,\n",
       " <GameTeam(game_id='2019/03/25/lanmlb-anamlb-1',team_id='108')>,\n",
       " <GameTeam(game_id='2019/03/26/anamlb-lanmlb-1',team_id='108')>,\n",
       " <GameTeam(game_id='2019/03/28/anamlb-oakmlb-1',team_id='108')>,\n",
       " <GameTeam(game_id='2019/03/29/anamlb-oakmlb-1',team_id='108')>,\n",
       " <GameTeam(game_id='2019/03/30/anamlb-oakmlb-1',team_id='108')>,\n",
       " <GameTeam(game_id='2019/03/31/anamlb-oakmlb-1',team_id='108')>,\n",
       " <GameTeam(game_id='2019/04/01/anamlb-seamlb-1',team_id='108')>,\n",
       " <GameTeam(game_id='2019/04/02/anamlb-seamlb-1',team_id='108')>,\n",
       " <GameTeam(game_id='2019/04/04/texmlb-anamlb-1',team_id='108')>,\n",
       " <GameTeam(game_id='2019/04/05/texmlb-anamlb-1',team_id='108')>,\n",
       " <GameTeam(game_id='2019/04/06/texmlb-anamlb-1',team_id='108')>,\n",
       " <GameTeam(game_id='2019/04/07/texmlb-anamlb-1',team_id='108')>,\n",
       " <GameTeam(game_id='2019/04/08/milmlb-anamlb-1',team_id='108')>,\n",
       " <GameTeam(game_id='2019/04/09/milmlb-anamlb-1',team_id='108')>,\n",
       " <GameTeam(game_id='2019/04/10/milmlb-anamlb-1',team_id='108')>,\n",
       " <GameTeam(game_id='2019/04/12/anamlb-chnmlb-1',team_id='108')>,\n",
       " <GameTeam(game_id='2019/04/13/anamlb-chnmlb-1',team_id='108')>,\n",
       " <GameTeam(game_id='2019/04/15/anamlb-texmlb-1',team_id='108')>,\n",
       " <GameTeam(game_id='2019/04/16/anamlb-texmlb-1',team_id='108')>,\n",
       " <GameTeam(game_id='2019/04/17/anamlb-texmlb-1',team_id='108')>,\n",
       " <GameTeam(game_id='2019/04/18/seamlb-anamlb-1',team_id='108')>,\n",
       " <GameTeam(game_id='2019/04/19/seamlb-anamlb-1',team_id='108')>,\n",
       " <GameTeam(game_id='2019/04/20/seamlb-anamlb-1',team_id='108')>,\n",
       " <GameTeam(game_id='2019/04/21/seamlb-anamlb-1',team_id='108')>,\n",
       " <GameTeam(game_id='2019/04/22/nyamlb-anamlb-1',team_id='108')>,\n",
       " <GameTeam(game_id='2019/04/23/nyamlb-anamlb-1',team_id='108')>,\n",
       " <GameTeam(game_id='2019/04/24/nyamlb-anamlb-1',team_id='108')>,\n",
       " <GameTeam(game_id='2019/04/25/nyamlb-anamlb-1',team_id='108')>,\n",
       " <GameTeam(game_id='2019/04/26/anamlb-kcamlb-1',team_id='108')>,\n",
       " <GameTeam(game_id='2019/04/27/anamlb-kcamlb-1',team_id='108')>,\n",
       " <GameTeam(game_id='2019/04/28/anamlb-kcamlb-1',team_id='108')>,\n",
       " <GameTeam(game_id='2019/04/30/tormlb-anamlb-1',team_id='108')>,\n",
       " <GameTeam(game_id='2019/05/01/tormlb-anamlb-1',team_id='108')>,\n",
       " <GameTeam(game_id='2019/05/02/tormlb-anamlb-1',team_id='108')>,\n",
       " <GameTeam(game_id='2019/05/04/houmlb-anamlb-1',team_id='108')>,\n",
       " <GameTeam(game_id='2019/05/05/houmlb-anamlb-1',team_id='108')>,\n",
       " <GameTeam(game_id='2019/05/07/anamlb-detmlb-1',team_id='108')>,\n",
       " <GameTeam(game_id='2019/05/08/anamlb-detmlb-1',team_id='108')>,\n",
       " <GameTeam(game_id='2019/05/09/anamlb-detmlb-1',team_id='108')>,\n",
       " <GameTeam(game_id='2019/05/10/anamlb-balmlb-1',team_id='108')>,\n",
       " <GameTeam(game_id='2019/05/11/anamlb-balmlb-1',team_id='108')>,\n",
       " <GameTeam(game_id='2019/05/12/anamlb-balmlb-1',team_id='108')>,\n",
       " <GameTeam(game_id='2019/05/13/anamlb-minmlb-1',team_id='108')>,\n",
       " <GameTeam(game_id='2019/05/14/anamlb-minmlb-1',team_id='108')>,\n",
       " <GameTeam(game_id='2019/05/15/anamlb-minmlb-1',team_id='108')>,\n",
       " <GameTeam(game_id='2019/05/17/kcamlb-anamlb-1',team_id='108')>,\n",
       " <GameTeam(game_id='2019/05/18/kcamlb-anamlb-1',team_id='108')>,\n",
       " <GameTeam(game_id='2019/05/19/kcamlb-anamlb-1',team_id='108')>,\n",
       " <GameTeam(game_id='2019/05/20/minmlb-anamlb-1',team_id='108')>,\n",
       " <GameTeam(game_id='2019/05/21/minmlb-anamlb-1',team_id='108')>,\n",
       " <GameTeam(game_id='2019/05/23/minmlb-anamlb-1',team_id='108')>,\n",
       " <GameTeam(game_id='2019/05/24/texmlb-anamlb-1',team_id='108')>,\n",
       " <GameTeam(game_id='2019/05/25/texmlb-anamlb-1',team_id='108')>,\n",
       " <GameTeam(game_id='2019/05/26/texmlb-anamlb-1',team_id='108')>,\n",
       " <GameTeam(game_id='2019/05/27/anamlb-oakmlb-1',team_id='108')>,\n",
       " <GameTeam(game_id='2019/05/28/anamlb-oakmlb-1',team_id='108')>,\n",
       " <GameTeam(game_id='2019/05/29/anamlb-oakmlb-1',team_id='108')>,\n",
       " <GameTeam(game_id='2019/05/30/anamlb-seamlb-1',team_id='108')>,\n",
       " <GameTeam(game_id='2019/05/31/anamlb-seamlb-1',team_id='108')>,\n",
       " <GameTeam(game_id='2019/06/01/anamlb-seamlb-1',team_id='108')>,\n",
       " <GameTeam(game_id='2019/06/02/anamlb-seamlb-1',team_id='108')>,\n",
       " <GameTeam(game_id='2019/06/03/anamlb-chnmlb-1',team_id='108')>,\n",
       " <GameTeam(game_id='2019/06/04/oakmlb-anamlb-1',team_id='108')>,\n",
       " <GameTeam(game_id='2019/06/05/oakmlb-anamlb-1',team_id='108')>,\n",
       " <GameTeam(game_id='2019/06/06/oakmlb-anamlb-1',team_id='108')>,\n",
       " <GameTeam(game_id='2019/06/07/seamlb-anamlb-1',team_id='108')>,\n",
       " <GameTeam(game_id='2019/06/08/seamlb-anamlb-1',team_id='108')>,\n",
       " <GameTeam(game_id='2019/06/09/seamlb-anamlb-1',team_id='108')>,\n",
       " <GameTeam(game_id='2019/06/10/lanmlb-anamlb-1',team_id='108')>,\n",
       " <GameTeam(game_id='2019/06/11/lanmlb-anamlb-1',team_id='108')>,\n",
       " <GameTeam(game_id='2019/06/13/anamlb-tbamlb-1',team_id='108')>,\n",
       " <GameTeam(game_id='2019/06/14/anamlb-tbamlb-1',team_id='108')>,\n",
       " <GameTeam(game_id='2019/06/15/anamlb-tbamlb-1',team_id='108')>,\n",
       " <GameTeam(game_id='2019/06/16/anamlb-tbamlb-1',team_id='108')>,\n",
       " <GameTeam(game_id='2019/06/17/anamlb-tormlb-1',team_id='108')>,\n",
       " <GameTeam(game_id='2019/06/18/anamlb-tormlb-1',team_id='108')>,\n",
       " <GameTeam(game_id='2019/06/19/anamlb-tormlb-1',team_id='108')>,\n",
       " <GameTeam(game_id='2019/06/20/anamlb-tormlb-1',team_id='108')>,\n",
       " <GameTeam(game_id='2019/06/21/anamlb-slnmlb-1',team_id='108')>,\n",
       " <GameTeam(game_id='2019/06/22/anamlb-slnmlb-1',team_id='108')>,\n",
       " <GameTeam(game_id='2019/06/23/anamlb-slnmlb-1',team_id='108')>,\n",
       " <GameTeam(game_id='2019/06/25/cinmlb-anamlb-1',team_id='108')>,\n",
       " <GameTeam(game_id='2019/06/26/cinmlb-anamlb-1',team_id='108')>,\n",
       " <GameTeam(game_id='2019/06/27/oakmlb-anamlb-1',team_id='108')>,\n",
       " <GameTeam(game_id='2019/06/28/oakmlb-anamlb-1',team_id='108')>,\n",
       " <GameTeam(game_id='2019/06/29/oakmlb-anamlb-1',team_id='108')>,\n",
       " <GameTeam(game_id='2019/06/30/oakmlb-anamlb-1',team_id='108')>,\n",
       " <GameTeam(game_id='2019/07/02/anamlb-texmlb-1',team_id='108')>,\n",
       " <GameTeam(game_id='2019/07/03/anamlb-texmlb-1',team_id='108')>,\n",
       " <GameTeam(game_id='2019/07/04/anamlb-texmlb-1',team_id='108')>,\n",
       " <GameTeam(game_id='2019/07/05/anamlb-houmlb-1',team_id='108')>,\n",
       " <GameTeam(game_id='2019/07/06/anamlb-houmlb-1',team_id='108')>,\n",
       " <GameTeam(game_id='2019/07/07/anamlb-houmlb-1',team_id='108')>,\n",
       " <GameTeam(game_id='2019/07/12/seamlb-anamlb-1',team_id='108')>,\n",
       " <GameTeam(game_id='2019/07/13/seamlb-anamlb-1',team_id='108')>,\n",
       " <GameTeam(game_id='2019/07/14/seamlb-anamlb-1',team_id='108')>,\n",
       " <GameTeam(game_id='2019/07/15/houmlb-anamlb-1',team_id='108')>,\n",
       " <GameTeam(game_id='2019/07/16/houmlb-anamlb-1',team_id='108')>,\n",
       " <GameTeam(game_id='2019/07/17/houmlb-anamlb-1',team_id='108')>,\n",
       " <GameTeam(game_id='2019/07/18/houmlb-anamlb-1',team_id='108')>,\n",
       " <GameTeam(game_id='2019/07/19/anamlb-seamlb-1',team_id='108')>,\n",
       " <GameTeam(game_id='2019/07/20/anamlb-seamlb-1',team_id='108')>,\n",
       " <GameTeam(game_id='2019/07/21/anamlb-seamlb-1',team_id='108')>,\n",
       " <GameTeam(game_id='2019/07/23/anamlb-lanmlb-1',team_id='108')>,\n",
       " <GameTeam(game_id='2019/07/24/anamlb-lanmlb-1',team_id='108')>,\n",
       " <GameTeam(game_id='2019/07/25/balmlb-anamlb-1',team_id='108')>,\n",
       " <GameTeam(game_id='2019/07/26/balmlb-anamlb-1',team_id='108')>,\n",
       " <GameTeam(game_id='2019/07/27/balmlb-anamlb-1',team_id='108')>,\n",
       " <GameTeam(game_id='2019/07/28/balmlb-anamlb-1',team_id='108')>,\n",
       " <GameTeam(game_id='2019/07/29/detmlb-anamlb-1',team_id='108')>,\n",
       " <GameTeam(game_id='2019/07/30/detmlb-anamlb-1',team_id='108')>,\n",
       " <GameTeam(game_id='2019/07/31/detmlb-anamlb-1',team_id='108')>,\n",
       " <GameTeam(game_id='2019/08/02/anamlb-clemlb-1',team_id='108')>,\n",
       " <GameTeam(game_id='2019/08/03/anamlb-clemlb-1',team_id='108')>,\n",
       " <GameTeam(game_id='2019/08/04/anamlb-clemlb-1',team_id='108')>,\n",
       " <GameTeam(game_id='2019/08/05/anamlb-cinmlb-1',team_id='108')>,\n",
       " <GameTeam(game_id='2019/08/06/anamlb-cinmlb-1',team_id='108')>,\n",
       " <GameTeam(game_id='2019/08/08/anamlb-bosmlb-1',team_id='108')>,\n",
       " <GameTeam(game_id='2019/08/09/anamlb-bosmlb-1',team_id='108')>,\n",
       " <GameTeam(game_id='2019/08/10/anamlb-bosmlb-1',team_id='108')>,\n",
       " <GameTeam(game_id='2019/08/11/anamlb-bosmlb-1',team_id='108')>,\n",
       " <GameTeam(game_id='2019/08/12/pitmlb-anamlb-1',team_id='108')>,\n",
       " <GameTeam(game_id='2019/08/13/pitmlb-anamlb-1',team_id='108')>,\n",
       " <GameTeam(game_id='2019/08/14/pitmlb-anamlb-1',team_id='108')>,\n",
       " <GameTeam(game_id='2019/08/15/chamlb-anamlb-1',team_id='108')>,\n",
       " <GameTeam(game_id='2019/08/16/chamlb-anamlb-1',team_id='108')>,\n",
       " <GameTeam(game_id='2019/08/17/chamlb-anamlb-1',team_id='108')>,\n",
       " <GameTeam(game_id='2019/08/18/chamlb-anamlb-1',team_id='108')>,\n",
       " <GameTeam(game_id='2019/08/19/anamlb-texmlb-1',team_id='108')>,\n",
       " <GameTeam(game_id='2019/08/20/anamlb-texmlb-1',team_id='108')>,\n",
       " <GameTeam(game_id='2019/08/20/anamlb-texmlb-2',team_id='108')>,\n",
       " <GameTeam(game_id='2019/08/21/anamlb-texmlb-1',team_id='108')>,\n",
       " <GameTeam(game_id='2019/08/23/anamlb-houmlb-1',team_id='108')>,\n",
       " <GameTeam(game_id='2019/08/24/anamlb-houmlb-1',team_id='108')>,\n",
       " <GameTeam(game_id='2019/08/25/anamlb-houmlb-1',team_id='108')>,\n",
       " <GameTeam(game_id='2019/08/27/texmlb-anamlb-1',team_id='108')>,\n",
       " <GameTeam(game_id='2019/08/28/texmlb-anamlb-1',team_id='108')>,\n",
       " <GameTeam(game_id='2019/08/30/bosmlb-anamlb-1',team_id='108')>,\n",
       " <GameTeam(game_id='2019/08/31/bosmlb-anamlb-1',team_id='108')>,\n",
       " <GameTeam(game_id='2019/09/01/bosmlb-anamlb-1',team_id='108')>,\n",
       " <GameTeam(game_id='2019/09/03/anamlb-oakmlb-1',team_id='108')>,\n",
       " <GameTeam(game_id='2019/09/04/anamlb-oakmlb-1',team_id='108')>,\n",
       " <GameTeam(game_id='2019/09/05/anamlb-oakmlb-1',team_id='108')>,\n",
       " <GameTeam(game_id='2019/09/06/anamlb-chamlb-1',team_id='108')>,\n",
       " <GameTeam(game_id='2019/09/07/anamlb-chamlb-1',team_id='108')>,\n",
       " <GameTeam(game_id='2019/09/08/anamlb-chamlb-1',team_id='108')>,\n",
       " <GameTeam(game_id='2019/09/09/clemlb-anamlb-1',team_id='108')>,\n",
       " <GameTeam(game_id='2019/09/10/clemlb-anamlb-1',team_id='108')>,\n",
       " <GameTeam(game_id='2019/09/11/clemlb-anamlb-1',team_id='108')>,\n",
       " <GameTeam(game_id='2019/09/13/tbamlb-anamlb-1',team_id='108')>,\n",
       " <GameTeam(game_id='2019/09/14/tbamlb-anamlb-1',team_id='108')>,\n",
       " <GameTeam(game_id='2019/09/15/tbamlb-anamlb-1',team_id='108')>,\n",
       " <GameTeam(game_id='2019/09/17/anamlb-nyamlb-1',team_id='108')>,\n",
       " <GameTeam(game_id='2019/09/18/anamlb-nyamlb-1',team_id='108')>,\n",
       " <GameTeam(game_id='2019/09/19/anamlb-nyamlb-1',team_id='108')>,\n",
       " <GameTeam(game_id='2019/09/20/anamlb-houmlb-1',team_id='108')>,\n",
       " <GameTeam(game_id='2019/09/21/anamlb-houmlb-1',team_id='108')>,\n",
       " <GameTeam(game_id='2019/09/22/anamlb-houmlb-1',team_id='108')>,\n",
       " <GameTeam(game_id='2019/09/24/oakmlb-anamlb-1',team_id='108')>,\n",
       " <GameTeam(game_id='2019/09/25/oakmlb-anamlb-1',team_id='108')>,\n",
       " <GameTeam(game_id='2019/09/26/houmlb-anamlb-1',team_id='108')>,\n",
       " <GameTeam(game_id='2019/09/27/houmlb-anamlb-1',team_id='108')>,\n",
       " <GameTeam(game_id='2019/09/28/houmlb-anamlb-1',team_id='108')>,\n",
       " <GameTeam(game_id='2019/09/29/houmlb-anamlb-1',team_id='108')>]"
      ]
     },
     "execution_count": 48,
     "metadata": {},
     "output_type": "execute_result"
    }
   ],
   "source": [
    "team_test.games"
   ]
  },
  {
   "cell_type": "markdown",
   "metadata": {},
   "source": [
    "we can also access players through a game_team_object"
   ]
  },
  {
   "cell_type": "code",
   "execution_count": 49,
   "metadata": {},
   "outputs": [
    {
     "data": {
      "text/plain": [
       "True"
      ]
     },
     "execution_count": 49,
     "metadata": {},
     "output_type": "execute_result"
    }
   ],
   "source": [
    "[x for x in game_team_test.players(session)]==[x for x in game_team_test.players(session)][0:None]"
   ]
  },
  {
   "cell_type": "code",
   "execution_count": 50,
   "metadata": {},
   "outputs": [
    {
     "data": {
      "text/plain": [
       "<generator object players at 0x12548f318>"
      ]
     },
     "execution_count": 50,
     "metadata": {},
     "output_type": "execute_result"
    }
   ],
   "source": [
    "game_test.teams[0].players(session)"
   ]
  },
  {
   "cell_type": "markdown",
   "metadata": {},
   "source": [
    "## Player's Table "
   ]
  },
  {
   "cell_type": "code",
   "execution_count": 51,
   "metadata": {},
   "outputs": [],
   "source": [
    "mike_trout_id = 545361"
   ]
  },
  {
   "cell_type": "code",
   "execution_count": 52,
   "metadata": {},
   "outputs": [],
   "source": [
    "mike_trout_person = session.query(Person).filter(Person.id==mike_trout_id).one()"
   ]
  },
  {
   "cell_type": "code",
   "execution_count": 53,
   "metadata": {},
   "outputs": [
    {
     "data": {
      "text/plain": [
       "'Outfielder'"
      ]
     },
     "execution_count": 53,
     "metadata": {},
     "output_type": "execute_result"
    }
   ],
   "source": [
    "mike_trout_person.primaryPosition_type"
   ]
  },
  {
   "cell_type": "code",
   "execution_count": 54,
   "metadata": {},
   "outputs": [
    {
     "data": {
      "text/plain": [
       "[('Pitcher'), ('Outfielder'), ('Hitter'), ('Infielder'), ('Catcher')]"
      ]
     },
     "execution_count": 54,
     "metadata": {},
     "output_type": "execute_result"
    }
   ],
   "source": [
    "session.query(distinct(Person.primaryPosition_type)).all()"
   ]
  },
  {
   "cell_type": "markdown",
   "metadata": {},
   "source": [
    "## Let's find some player stats\n",
    "Eventually, we want team stats. But lets start with a single player"
   ]
  },
  {
   "cell_type": "code",
   "execution_count": 55,
   "metadata": {},
   "outputs": [],
   "source": [
    "# look at all possible values for the event from a play \n",
    "play_events = [item for sublist in session.query(distinct(Play.event)).all() for item in sublist]\n",
    "play_eventTypes = [item for sublist in session.query(distinct(Play.eventType)).all() for item in sublist]"
   ]
  },
  {
   "cell_type": "code",
   "execution_count": 56,
   "metadata": {},
   "outputs": [
    {
     "data": {
      "text/plain": [
       "['Double',\n",
       " 'Hit By Pitch',\n",
       " 'Strikeout',\n",
       " 'Lineout',\n",
       " 'Home Run',\n",
       " 'Flyout',\n",
       " 'Groundout',\n",
       " 'Single',\n",
       " 'Pop Out',\n",
       " 'Forceout',\n",
       " 'Field Error',\n",
       " 'Double Play',\n",
       " 'Sac Fly',\n",
       " 'Walk',\n",
       " 'Bunt Groundout',\n",
       " 'Triple',\n",
       " 'Grounded Into DP',\n",
       " 'Caught Stealing 2B',\n",
       " 'Sac Bunt',\n",
       " 'Strikeout Double Play',\n",
       " 'Catcher Interference',\n",
       " 'Fielders Choice',\n",
       " 'Fielders Choice Out',\n",
       " 'Runner Out',\n",
       " 'Batter Interference',\n",
       " 'Fan Interference',\n",
       " 'Intent Walk',\n",
       " 'Sac Fly Double Play',\n",
       " 'Pickoff 1B',\n",
       " 'Bunt Pop Out',\n",
       " 'Pickoff Caught Stealing 2',\n",
       " 'Caught Stealing Home',\n",
       " 'Bunt Lineout',\n",
       " 'Game Advisory',\n",
       " 'Batter Out',\n",
       " 'Pickoff Caught Stealing 3',\n",
       " 'Caught Stealing 3B',\n",
       " 'Pickoff Caught Stealing H',\n",
       " 'Runner Double Play',\n",
       " 'Pickoff 2B',\n",
       " 'Wild Pitch',\n",
       " 'Pickoff 3B',\n",
       " 'Triple Play',\n",
       " 'Sac Bunt Double Play',\n",
       " 'Passed Ball',\n",
       " 'Stolen Base 2B',\n",
       " 'Pickoff Error 1B']"
      ]
     },
     "execution_count": 56,
     "metadata": {},
     "output_type": "execute_result"
    }
   ],
   "source": [
    "play_events"
   ]
  },
  {
   "cell_type": "code",
   "execution_count": 57,
   "metadata": {},
   "outputs": [
    {
     "data": {
      "text/plain": [
       "[None, None, None, None]"
      ]
     },
     "execution_count": 57,
     "metadata": {},
     "output_type": "execute_result"
    }
   ],
   "source": [
    "sacs = [x for x in play_events if 'Sac' in x]\n",
    "no_ab = ['Hit By Pitch',\n",
    "        'Walk',\n",
    "        'Intent Walk',\n",
    "        'Catcher Interference',\n",
    "        'Fan Interference']\n",
    "[no_ab.append(x) for x in sacs]\n"
   ]
  },
  {
   "cell_type": "code",
   "execution_count": 58,
   "metadata": {},
   "outputs": [],
   "source": [
    "hits = [\n",
    "    'Single',\n",
    "    'Double',\n",
    "    'Triple',\n",
    "    'Home Run',\n",
    "]"
   ]
  },
  {
   "cell_type": "code",
   "execution_count": 59,
   "metadata": {},
   "outputs": [],
   "source": [
    "def hitter_stats(session,player_id,game_record=None,date=None):\n",
    "    \"\"\"\n",
    "    function takes in sql alchemy session, an instance of the Game class, and a player id.\n",
    "    returns player stats up until the date of the relevant game.\n",
    "    \"\"\"\n",
    "    if game_record==None and date==None:\n",
    "        print('error: must specify a game or date')\n",
    "    elif game_record!=None and date!=None:\n",
    "        print('error: must specify either a date or a game. not both')\n",
    "    else:\n",
    "        if game_record:\n",
    "            date = game_record.dateTime\n",
    "        else:\n",
    "            date=date\n",
    "        stats = {}\n",
    "        PAs = []\n",
    "        hits = [\n",
    "                    'Single',\n",
    "                    'Double',\n",
    "                    'Triple',\n",
    "                    'Home Run',\n",
    "                ]\n",
    "        for game, play in session.query(Game,Play).\\\n",
    "                        filter(Game.id==Play.game_id).\\\n",
    "                        filter(and_(Game.type=='R',Game.dateTime<date)).\\\n",
    "                        filter(Play.batter_id==player_id).\\\n",
    "                        all():\n",
    "            PAs.append(play)\n",
    "        player_hits = [x for x in PAs if x.event in hits]\n",
    "        at_bats = [x for x in PAs if x.event not in no_ab]\n",
    "        stats['player_id'] = player_id\n",
    "        stats['plate_appearances'] = len(PAs)\n",
    "        stats['at_bats'] = len(at_bats)\n",
    "        stats['hits']=len(player_hits)\n",
    "        stats['singles']=len([x for x in PAs if x.event=='Single'])\n",
    "        stats['doubles']=len([x for x in PAs if x.event=='Double'])\n",
    "        stats['triples']=len([x for x in PAs if x.event=='Triple'])\n",
    "        stats['home_runs']=len([x for x in PAs if x.event=='Home Run'])\n",
    "        stats['walks']=len([x for x in PAs if x.event=='Walk'])\n",
    "        return stats"
   ]
  },
  {
   "cell_type": "code",
   "execution_count": 60,
   "metadata": {},
   "outputs": [],
   "source": [
    "game_record_test = session.query(Game).filter(Game.dateTime<datetime(2019,6,3)).all()[-1]\n",
    "trout_stats = hitter_stats(session,mike_trout_id,date=datetime.today())"
   ]
  },
  {
   "cell_type": "code",
   "execution_count": 61,
   "metadata": {},
   "outputs": [
    {
     "data": {
      "text/plain": [
       "{'player_id': 545361,\n",
       " 'plate_appearances': 600,\n",
       " 'at_bats': 469,\n",
       " 'hits': 136,\n",
       " 'singles': 63,\n",
       " 'doubles': 26,\n",
       " 'triples': 2,\n",
       " 'home_runs': 45,\n",
       " 'walks': 96}"
      ]
     },
     "execution_count": 61,
     "metadata": {},
     "output_type": "execute_result"
    }
   ],
   "source": [
    "trout_stats"
   ]
  },
  {
   "cell_type": "code",
   "execution_count": 62,
   "metadata": {},
   "outputs": [],
   "source": [
    "import pandas as pd\n",
    "def game_players_stats(session,game_record):    \n",
    "    for team in game_record.teams:\n",
    "        if team.team_id==game_record_test.homeTeam_id:\n",
    "            home_player_stats = [hitter_stats(session,x,game_record) for x in team.players(session)]\n",
    "            for player in home_player_stats:\n",
    "                player['home_away']='home'\n",
    "        else:\n",
    "            away_player_stats=[hitter_stats(session,x,game_record) for x in team.players(session)]\n",
    "            for player in away_player_stats:\n",
    "                player['home_away']='away'\n",
    "    df = pd.DataFrame.from_dict(home_player_stats)\n",
    "    df = df.append(pd.DataFrame.from_dict(away_player_stats))\n",
    "    df.reset_index(inplace=True)\n",
    "    return df"
   ]
  },
  {
   "cell_type": "code",
   "execution_count": 63,
   "metadata": {},
   "outputs": [
    {
     "ename": "ArgumentError",
     "evalue": "Object <Person(nameSlug='michael-lorenzen-547179')> is not legal as a SQL literal value",
     "output_type": "error",
     "traceback": [
      "\u001b[0;31m---------------------------------------------------------------------------\u001b[0m",
      "\u001b[0;31mArgumentError\u001b[0m                             Traceback (most recent call last)",
      "\u001b[0;32m<ipython-input-63-9c7989b75739>\u001b[0m in \u001b[0;36m<module>\u001b[0;34m\u001b[0m\n\u001b[0;32m----> 1\u001b[0;31m \u001b[0mplayers_df_test\u001b[0m \u001b[0;34m=\u001b[0m \u001b[0mgame_players_stats\u001b[0m\u001b[0;34m(\u001b[0m\u001b[0msession\u001b[0m\u001b[0;34m,\u001b[0m\u001b[0mgame_record_test\u001b[0m\u001b[0;34m)\u001b[0m\u001b[0;34m\u001b[0m\u001b[0;34m\u001b[0m\u001b[0m\n\u001b[0m",
      "\u001b[0;32m<ipython-input-62-a62361cafa9e>\u001b[0m in \u001b[0;36mgame_players_stats\u001b[0;34m(session, game_record)\u001b[0m\n\u001b[1;32m      3\u001b[0m     \u001b[0;32mfor\u001b[0m \u001b[0mteam\u001b[0m \u001b[0;32min\u001b[0m \u001b[0mgame_record\u001b[0m\u001b[0;34m.\u001b[0m\u001b[0mteams\u001b[0m\u001b[0;34m:\u001b[0m\u001b[0;34m\u001b[0m\u001b[0;34m\u001b[0m\u001b[0m\n\u001b[1;32m      4\u001b[0m         \u001b[0;32mif\u001b[0m \u001b[0mteam\u001b[0m\u001b[0;34m.\u001b[0m\u001b[0mteam_id\u001b[0m\u001b[0;34m==\u001b[0m\u001b[0mgame_record_test\u001b[0m\u001b[0;34m.\u001b[0m\u001b[0mhomeTeam_id\u001b[0m\u001b[0;34m:\u001b[0m\u001b[0;34m\u001b[0m\u001b[0;34m\u001b[0m\u001b[0m\n\u001b[0;32m----> 5\u001b[0;31m             \u001b[0mhome_player_stats\u001b[0m \u001b[0;34m=\u001b[0m \u001b[0;34m[\u001b[0m\u001b[0mhitter_stats\u001b[0m\u001b[0;34m(\u001b[0m\u001b[0msession\u001b[0m\u001b[0;34m,\u001b[0m\u001b[0mx\u001b[0m\u001b[0;34m,\u001b[0m\u001b[0mgame_record\u001b[0m\u001b[0;34m)\u001b[0m \u001b[0;32mfor\u001b[0m \u001b[0mx\u001b[0m \u001b[0;32min\u001b[0m \u001b[0mteam\u001b[0m\u001b[0;34m.\u001b[0m\u001b[0mplayers\u001b[0m\u001b[0;34m(\u001b[0m\u001b[0msession\u001b[0m\u001b[0;34m)\u001b[0m\u001b[0;34m]\u001b[0m\u001b[0;34m\u001b[0m\u001b[0;34m\u001b[0m\u001b[0m\n\u001b[0m\u001b[1;32m      6\u001b[0m             \u001b[0;32mfor\u001b[0m \u001b[0mplayer\u001b[0m \u001b[0;32min\u001b[0m \u001b[0mhome_player_stats\u001b[0m\u001b[0;34m:\u001b[0m\u001b[0;34m\u001b[0m\u001b[0;34m\u001b[0m\u001b[0m\n\u001b[1;32m      7\u001b[0m                 \u001b[0mplayer\u001b[0m\u001b[0;34m[\u001b[0m\u001b[0;34m'home_away'\u001b[0m\u001b[0;34m]\u001b[0m\u001b[0;34m=\u001b[0m\u001b[0;34m'home'\u001b[0m\u001b[0;34m\u001b[0m\u001b[0;34m\u001b[0m\u001b[0m\n",
      "\u001b[0;32m<ipython-input-62-a62361cafa9e>\u001b[0m in \u001b[0;36m<listcomp>\u001b[0;34m(.0)\u001b[0m\n\u001b[1;32m      3\u001b[0m     \u001b[0;32mfor\u001b[0m \u001b[0mteam\u001b[0m \u001b[0;32min\u001b[0m \u001b[0mgame_record\u001b[0m\u001b[0;34m.\u001b[0m\u001b[0mteams\u001b[0m\u001b[0;34m:\u001b[0m\u001b[0;34m\u001b[0m\u001b[0;34m\u001b[0m\u001b[0m\n\u001b[1;32m      4\u001b[0m         \u001b[0;32mif\u001b[0m \u001b[0mteam\u001b[0m\u001b[0;34m.\u001b[0m\u001b[0mteam_id\u001b[0m\u001b[0;34m==\u001b[0m\u001b[0mgame_record_test\u001b[0m\u001b[0;34m.\u001b[0m\u001b[0mhomeTeam_id\u001b[0m\u001b[0;34m:\u001b[0m\u001b[0;34m\u001b[0m\u001b[0;34m\u001b[0m\u001b[0m\n\u001b[0;32m----> 5\u001b[0;31m             \u001b[0mhome_player_stats\u001b[0m \u001b[0;34m=\u001b[0m \u001b[0;34m[\u001b[0m\u001b[0mhitter_stats\u001b[0m\u001b[0;34m(\u001b[0m\u001b[0msession\u001b[0m\u001b[0;34m,\u001b[0m\u001b[0mx\u001b[0m\u001b[0;34m,\u001b[0m\u001b[0mgame_record\u001b[0m\u001b[0;34m)\u001b[0m \u001b[0;32mfor\u001b[0m \u001b[0mx\u001b[0m \u001b[0;32min\u001b[0m \u001b[0mteam\u001b[0m\u001b[0;34m.\u001b[0m\u001b[0mplayers\u001b[0m\u001b[0;34m(\u001b[0m\u001b[0msession\u001b[0m\u001b[0;34m)\u001b[0m\u001b[0;34m]\u001b[0m\u001b[0;34m\u001b[0m\u001b[0;34m\u001b[0m\u001b[0m\n\u001b[0m\u001b[1;32m      6\u001b[0m             \u001b[0;32mfor\u001b[0m \u001b[0mplayer\u001b[0m \u001b[0;32min\u001b[0m \u001b[0mhome_player_stats\u001b[0m\u001b[0;34m:\u001b[0m\u001b[0;34m\u001b[0m\u001b[0;34m\u001b[0m\u001b[0m\n\u001b[1;32m      7\u001b[0m                 \u001b[0mplayer\u001b[0m\u001b[0;34m[\u001b[0m\u001b[0;34m'home_away'\u001b[0m\u001b[0;34m]\u001b[0m\u001b[0;34m=\u001b[0m\u001b[0;34m'home'\u001b[0m\u001b[0;34m\u001b[0m\u001b[0;34m\u001b[0m\u001b[0m\n",
      "\u001b[0;32m<ipython-input-59-30fe6c244bb4>\u001b[0m in \u001b[0;36mhitter_stats\u001b[0;34m(session, player_id, game_record, date)\u001b[0m\n\u001b[1;32m     24\u001b[0m                         \u001b[0mfilter\u001b[0m\u001b[0;34m(\u001b[0m\u001b[0mGame\u001b[0m\u001b[0;34m.\u001b[0m\u001b[0mid\u001b[0m\u001b[0;34m==\u001b[0m\u001b[0mPlay\u001b[0m\u001b[0;34m.\u001b[0m\u001b[0mgame_id\u001b[0m\u001b[0;34m)\u001b[0m\u001b[0;34m.\u001b[0m\u001b[0;31m\\\u001b[0m\u001b[0;34m\u001b[0m\u001b[0;34m\u001b[0m\u001b[0m\n\u001b[1;32m     25\u001b[0m                         \u001b[0mfilter\u001b[0m\u001b[0;34m(\u001b[0m\u001b[0mand_\u001b[0m\u001b[0;34m(\u001b[0m\u001b[0mGame\u001b[0m\u001b[0;34m.\u001b[0m\u001b[0mtype\u001b[0m\u001b[0;34m==\u001b[0m\u001b[0;34m'R'\u001b[0m\u001b[0;34m,\u001b[0m\u001b[0mGame\u001b[0m\u001b[0;34m.\u001b[0m\u001b[0mdateTime\u001b[0m\u001b[0;34m<\u001b[0m\u001b[0mdate\u001b[0m\u001b[0;34m)\u001b[0m\u001b[0;34m)\u001b[0m\u001b[0;34m.\u001b[0m\u001b[0;31m\\\u001b[0m\u001b[0;34m\u001b[0m\u001b[0;34m\u001b[0m\u001b[0m\n\u001b[0;32m---> 26\u001b[0;31m                         \u001b[0mfilter\u001b[0m\u001b[0;34m(\u001b[0m\u001b[0mPlay\u001b[0m\u001b[0;34m.\u001b[0m\u001b[0mbatter_id\u001b[0m\u001b[0;34m==\u001b[0m\u001b[0mplayer_id\u001b[0m\u001b[0;34m)\u001b[0m\u001b[0;34m.\u001b[0m\u001b[0;31m\\\u001b[0m\u001b[0;34m\u001b[0m\u001b[0;34m\u001b[0m\u001b[0m\n\u001b[0m\u001b[1;32m     27\u001b[0m                         \u001b[0mall\u001b[0m\u001b[0;34m(\u001b[0m\u001b[0;34m)\u001b[0m\u001b[0;34m:\u001b[0m\u001b[0;34m\u001b[0m\u001b[0;34m\u001b[0m\u001b[0m\n\u001b[1;32m     28\u001b[0m             \u001b[0mPAs\u001b[0m\u001b[0;34m.\u001b[0m\u001b[0mappend\u001b[0m\u001b[0;34m(\u001b[0m\u001b[0mplay\u001b[0m\u001b[0;34m)\u001b[0m\u001b[0;34m\u001b[0m\u001b[0;34m\u001b[0m\u001b[0m\n",
      "\u001b[0;32m//anaconda3/lib/python3.7/site-packages/sqlalchemy/sql/operators.py\u001b[0m in \u001b[0;36m__eq__\u001b[0;34m(self, other)\u001b[0m\n\u001b[1;32m    363\u001b[0m \u001b[0;34m\u001b[0m\u001b[0m\n\u001b[1;32m    364\u001b[0m         \"\"\"\n\u001b[0;32m--> 365\u001b[0;31m         \u001b[0;32mreturn\u001b[0m \u001b[0mself\u001b[0m\u001b[0;34m.\u001b[0m\u001b[0moperate\u001b[0m\u001b[0;34m(\u001b[0m\u001b[0meq\u001b[0m\u001b[0;34m,\u001b[0m \u001b[0mother\u001b[0m\u001b[0;34m)\u001b[0m\u001b[0;34m\u001b[0m\u001b[0;34m\u001b[0m\u001b[0m\n\u001b[0m\u001b[1;32m    366\u001b[0m \u001b[0;34m\u001b[0m\u001b[0m\n\u001b[1;32m    367\u001b[0m     \u001b[0;32mdef\u001b[0m \u001b[0m__ne__\u001b[0m\u001b[0;34m(\u001b[0m\u001b[0mself\u001b[0m\u001b[0;34m,\u001b[0m \u001b[0mother\u001b[0m\u001b[0;34m)\u001b[0m\u001b[0;34m:\u001b[0m\u001b[0;34m\u001b[0m\u001b[0;34m\u001b[0m\u001b[0m\n",
      "\u001b[0;32m//anaconda3/lib/python3.7/site-packages/sqlalchemy/orm/attributes.py\u001b[0m in \u001b[0;36moperate\u001b[0;34m(self, op, *other, **kwargs)\u001b[0m\n\u001b[1;32m    215\u001b[0m \u001b[0;34m\u001b[0m\u001b[0m\n\u001b[1;32m    216\u001b[0m     \u001b[0;32mdef\u001b[0m \u001b[0moperate\u001b[0m\u001b[0;34m(\u001b[0m\u001b[0mself\u001b[0m\u001b[0;34m,\u001b[0m \u001b[0mop\u001b[0m\u001b[0;34m,\u001b[0m \u001b[0;34m*\u001b[0m\u001b[0mother\u001b[0m\u001b[0;34m,\u001b[0m \u001b[0;34m**\u001b[0m\u001b[0mkwargs\u001b[0m\u001b[0;34m)\u001b[0m\u001b[0;34m:\u001b[0m\u001b[0;34m\u001b[0m\u001b[0;34m\u001b[0m\u001b[0m\n\u001b[0;32m--> 217\u001b[0;31m         \u001b[0;32mreturn\u001b[0m \u001b[0mop\u001b[0m\u001b[0;34m(\u001b[0m\u001b[0mself\u001b[0m\u001b[0;34m.\u001b[0m\u001b[0mcomparator\u001b[0m\u001b[0;34m,\u001b[0m \u001b[0;34m*\u001b[0m\u001b[0mother\u001b[0m\u001b[0;34m,\u001b[0m \u001b[0;34m**\u001b[0m\u001b[0mkwargs\u001b[0m\u001b[0;34m)\u001b[0m\u001b[0;34m\u001b[0m\u001b[0;34m\u001b[0m\u001b[0m\n\u001b[0m\u001b[1;32m    218\u001b[0m \u001b[0;34m\u001b[0m\u001b[0m\n\u001b[1;32m    219\u001b[0m     \u001b[0;32mdef\u001b[0m \u001b[0mreverse_operate\u001b[0m\u001b[0;34m(\u001b[0m\u001b[0mself\u001b[0m\u001b[0;34m,\u001b[0m \u001b[0mop\u001b[0m\u001b[0;34m,\u001b[0m \u001b[0mother\u001b[0m\u001b[0;34m,\u001b[0m \u001b[0;34m**\u001b[0m\u001b[0mkwargs\u001b[0m\u001b[0;34m)\u001b[0m\u001b[0;34m:\u001b[0m\u001b[0;34m\u001b[0m\u001b[0;34m\u001b[0m\u001b[0m\n",
      "\u001b[0;32m//anaconda3/lib/python3.7/site-packages/sqlalchemy/sql/operators.py\u001b[0m in \u001b[0;36m__eq__\u001b[0;34m(self, other)\u001b[0m\n\u001b[1;32m    363\u001b[0m \u001b[0;34m\u001b[0m\u001b[0m\n\u001b[1;32m    364\u001b[0m         \"\"\"\n\u001b[0;32m--> 365\u001b[0;31m         \u001b[0;32mreturn\u001b[0m \u001b[0mself\u001b[0m\u001b[0;34m.\u001b[0m\u001b[0moperate\u001b[0m\u001b[0;34m(\u001b[0m\u001b[0meq\u001b[0m\u001b[0;34m,\u001b[0m \u001b[0mother\u001b[0m\u001b[0;34m)\u001b[0m\u001b[0;34m\u001b[0m\u001b[0;34m\u001b[0m\u001b[0m\n\u001b[0m\u001b[1;32m    366\u001b[0m \u001b[0;34m\u001b[0m\u001b[0m\n\u001b[1;32m    367\u001b[0m     \u001b[0;32mdef\u001b[0m \u001b[0m__ne__\u001b[0m\u001b[0;34m(\u001b[0m\u001b[0mself\u001b[0m\u001b[0;34m,\u001b[0m \u001b[0mother\u001b[0m\u001b[0;34m)\u001b[0m\u001b[0;34m:\u001b[0m\u001b[0;34m\u001b[0m\u001b[0;34m\u001b[0m\u001b[0m\n",
      "\u001b[0;32m//anaconda3/lib/python3.7/site-packages/sqlalchemy/orm/properties.py\u001b[0m in \u001b[0;36moperate\u001b[0;34m(self, op, *other, **kwargs)\u001b[0m\n\u001b[1;32m    313\u001b[0m \u001b[0;34m\u001b[0m\u001b[0m\n\u001b[1;32m    314\u001b[0m         \u001b[0;32mdef\u001b[0m \u001b[0moperate\u001b[0m\u001b[0;34m(\u001b[0m\u001b[0mself\u001b[0m\u001b[0;34m,\u001b[0m \u001b[0mop\u001b[0m\u001b[0;34m,\u001b[0m \u001b[0;34m*\u001b[0m\u001b[0mother\u001b[0m\u001b[0;34m,\u001b[0m \u001b[0;34m**\u001b[0m\u001b[0mkwargs\u001b[0m\u001b[0;34m)\u001b[0m\u001b[0;34m:\u001b[0m\u001b[0;34m\u001b[0m\u001b[0;34m\u001b[0m\u001b[0m\n\u001b[0;32m--> 315\u001b[0;31m             \u001b[0;32mreturn\u001b[0m \u001b[0mop\u001b[0m\u001b[0;34m(\u001b[0m\u001b[0mself\u001b[0m\u001b[0;34m.\u001b[0m\u001b[0m__clause_element__\u001b[0m\u001b[0;34m(\u001b[0m\u001b[0;34m)\u001b[0m\u001b[0;34m,\u001b[0m \u001b[0;34m*\u001b[0m\u001b[0mother\u001b[0m\u001b[0;34m,\u001b[0m \u001b[0;34m**\u001b[0m\u001b[0mkwargs\u001b[0m\u001b[0;34m)\u001b[0m\u001b[0;34m\u001b[0m\u001b[0;34m\u001b[0m\u001b[0m\n\u001b[0m\u001b[1;32m    316\u001b[0m \u001b[0;34m\u001b[0m\u001b[0m\n\u001b[1;32m    317\u001b[0m         \u001b[0;32mdef\u001b[0m \u001b[0mreverse_operate\u001b[0m\u001b[0;34m(\u001b[0m\u001b[0mself\u001b[0m\u001b[0;34m,\u001b[0m \u001b[0mop\u001b[0m\u001b[0;34m,\u001b[0m \u001b[0mother\u001b[0m\u001b[0;34m,\u001b[0m \u001b[0;34m**\u001b[0m\u001b[0mkwargs\u001b[0m\u001b[0;34m)\u001b[0m\u001b[0;34m:\u001b[0m\u001b[0;34m\u001b[0m\u001b[0;34m\u001b[0m\u001b[0m\n",
      "\u001b[0;32m//anaconda3/lib/python3.7/site-packages/sqlalchemy/sql/annotation.py\u001b[0m in \u001b[0;36m__eq__\u001b[0;34m(self, other)\u001b[0m\n\u001b[1;32m    102\u001b[0m     \u001b[0;32mdef\u001b[0m \u001b[0m__eq__\u001b[0m\u001b[0;34m(\u001b[0m\u001b[0mself\u001b[0m\u001b[0;34m,\u001b[0m \u001b[0mother\u001b[0m\u001b[0;34m)\u001b[0m\u001b[0;34m:\u001b[0m\u001b[0;34m\u001b[0m\u001b[0;34m\u001b[0m\u001b[0m\n\u001b[1;32m    103\u001b[0m         \u001b[0;32mif\u001b[0m \u001b[0misinstance\u001b[0m\u001b[0;34m(\u001b[0m\u001b[0mself\u001b[0m\u001b[0;34m.\u001b[0m\u001b[0m__element\u001b[0m\u001b[0;34m,\u001b[0m \u001b[0moperators\u001b[0m\u001b[0;34m.\u001b[0m\u001b[0mColumnOperators\u001b[0m\u001b[0;34m)\u001b[0m\u001b[0;34m:\u001b[0m\u001b[0;34m\u001b[0m\u001b[0;34m\u001b[0m\u001b[0m\n\u001b[0;32m--> 104\u001b[0;31m             \u001b[0;32mreturn\u001b[0m \u001b[0mself\u001b[0m\u001b[0;34m.\u001b[0m\u001b[0m__element\u001b[0m\u001b[0;34m.\u001b[0m\u001b[0m__class__\u001b[0m\u001b[0;34m.\u001b[0m\u001b[0m__eq__\u001b[0m\u001b[0;34m(\u001b[0m\u001b[0mself\u001b[0m\u001b[0;34m,\u001b[0m \u001b[0mother\u001b[0m\u001b[0;34m)\u001b[0m\u001b[0;34m\u001b[0m\u001b[0;34m\u001b[0m\u001b[0m\n\u001b[0m\u001b[1;32m    105\u001b[0m         \u001b[0;32melse\u001b[0m\u001b[0;34m:\u001b[0m\u001b[0;34m\u001b[0m\u001b[0;34m\u001b[0m\u001b[0m\n\u001b[1;32m    106\u001b[0m             \u001b[0;32mreturn\u001b[0m \u001b[0mhash\u001b[0m\u001b[0;34m(\u001b[0m\u001b[0mother\u001b[0m\u001b[0;34m)\u001b[0m \u001b[0;34m==\u001b[0m \u001b[0mhash\u001b[0m\u001b[0;34m(\u001b[0m\u001b[0mself\u001b[0m\u001b[0;34m)\u001b[0m\u001b[0;34m\u001b[0m\u001b[0;34m\u001b[0m\u001b[0m\n",
      "\u001b[0;32m//anaconda3/lib/python3.7/site-packages/sqlalchemy/sql/operators.py\u001b[0m in \u001b[0;36m__eq__\u001b[0;34m(self, other)\u001b[0m\n\u001b[1;32m    363\u001b[0m \u001b[0;34m\u001b[0m\u001b[0m\n\u001b[1;32m    364\u001b[0m         \"\"\"\n\u001b[0;32m--> 365\u001b[0;31m         \u001b[0;32mreturn\u001b[0m \u001b[0mself\u001b[0m\u001b[0;34m.\u001b[0m\u001b[0moperate\u001b[0m\u001b[0;34m(\u001b[0m\u001b[0meq\u001b[0m\u001b[0;34m,\u001b[0m \u001b[0mother\u001b[0m\u001b[0;34m)\u001b[0m\u001b[0;34m\u001b[0m\u001b[0;34m\u001b[0m\u001b[0m\n\u001b[0m\u001b[1;32m    366\u001b[0m \u001b[0;34m\u001b[0m\u001b[0m\n\u001b[1;32m    367\u001b[0m     \u001b[0;32mdef\u001b[0m \u001b[0m__ne__\u001b[0m\u001b[0;34m(\u001b[0m\u001b[0mself\u001b[0m\u001b[0;34m,\u001b[0m \u001b[0mother\u001b[0m\u001b[0;34m)\u001b[0m\u001b[0;34m:\u001b[0m\u001b[0;34m\u001b[0m\u001b[0;34m\u001b[0m\u001b[0m\n",
      "\u001b[0;32m//anaconda3/lib/python3.7/site-packages/sqlalchemy/sql/elements.py\u001b[0m in \u001b[0;36moperate\u001b[0;34m(self, op, *other, **kwargs)\u001b[0m\n\u001b[1;32m    723\u001b[0m \u001b[0;34m\u001b[0m\u001b[0m\n\u001b[1;32m    724\u001b[0m     \u001b[0;32mdef\u001b[0m \u001b[0moperate\u001b[0m\u001b[0;34m(\u001b[0m\u001b[0mself\u001b[0m\u001b[0;34m,\u001b[0m \u001b[0mop\u001b[0m\u001b[0;34m,\u001b[0m \u001b[0;34m*\u001b[0m\u001b[0mother\u001b[0m\u001b[0;34m,\u001b[0m \u001b[0;34m**\u001b[0m\u001b[0mkwargs\u001b[0m\u001b[0;34m)\u001b[0m\u001b[0;34m:\u001b[0m\u001b[0;34m\u001b[0m\u001b[0;34m\u001b[0m\u001b[0m\n\u001b[0;32m--> 725\u001b[0;31m         \u001b[0;32mreturn\u001b[0m \u001b[0mop\u001b[0m\u001b[0;34m(\u001b[0m\u001b[0mself\u001b[0m\u001b[0;34m.\u001b[0m\u001b[0mcomparator\u001b[0m\u001b[0;34m,\u001b[0m \u001b[0;34m*\u001b[0m\u001b[0mother\u001b[0m\u001b[0;34m,\u001b[0m \u001b[0;34m**\u001b[0m\u001b[0mkwargs\u001b[0m\u001b[0;34m)\u001b[0m\u001b[0;34m\u001b[0m\u001b[0;34m\u001b[0m\u001b[0m\n\u001b[0m\u001b[1;32m    726\u001b[0m \u001b[0;34m\u001b[0m\u001b[0m\n\u001b[1;32m    727\u001b[0m     \u001b[0;32mdef\u001b[0m \u001b[0mreverse_operate\u001b[0m\u001b[0;34m(\u001b[0m\u001b[0mself\u001b[0m\u001b[0;34m,\u001b[0m \u001b[0mop\u001b[0m\u001b[0;34m,\u001b[0m \u001b[0mother\u001b[0m\u001b[0;34m,\u001b[0m \u001b[0;34m**\u001b[0m\u001b[0mkwargs\u001b[0m\u001b[0;34m)\u001b[0m\u001b[0;34m:\u001b[0m\u001b[0;34m\u001b[0m\u001b[0;34m\u001b[0m\u001b[0m\n",
      "\u001b[0;32m//anaconda3/lib/python3.7/site-packages/sqlalchemy/sql/operators.py\u001b[0m in \u001b[0;36m__eq__\u001b[0;34m(self, other)\u001b[0m\n\u001b[1;32m    363\u001b[0m \u001b[0;34m\u001b[0m\u001b[0m\n\u001b[1;32m    364\u001b[0m         \"\"\"\n\u001b[0;32m--> 365\u001b[0;31m         \u001b[0;32mreturn\u001b[0m \u001b[0mself\u001b[0m\u001b[0;34m.\u001b[0m\u001b[0moperate\u001b[0m\u001b[0;34m(\u001b[0m\u001b[0meq\u001b[0m\u001b[0;34m,\u001b[0m \u001b[0mother\u001b[0m\u001b[0;34m)\u001b[0m\u001b[0;34m\u001b[0m\u001b[0;34m\u001b[0m\u001b[0m\n\u001b[0m\u001b[1;32m    366\u001b[0m \u001b[0;34m\u001b[0m\u001b[0m\n\u001b[1;32m    367\u001b[0m     \u001b[0;32mdef\u001b[0m \u001b[0m__ne__\u001b[0m\u001b[0;34m(\u001b[0m\u001b[0mself\u001b[0m\u001b[0;34m,\u001b[0m \u001b[0mother\u001b[0m\u001b[0;34m)\u001b[0m\u001b[0;34m:\u001b[0m\u001b[0;34m\u001b[0m\u001b[0;34m\u001b[0m\u001b[0m\n",
      "\u001b[0;32m<string>\u001b[0m in \u001b[0;36m<lambda>\u001b[0;34m(self, op, *other, **kwargs)\u001b[0m\n",
      "\u001b[0;32m//anaconda3/lib/python3.7/site-packages/sqlalchemy/sql/type_api.py\u001b[0m in \u001b[0;36moperate\u001b[0;34m(self, default_comparator, op, *other, **kwargs)\u001b[0m\n\u001b[1;32m     65\u001b[0m         \u001b[0;32mdef\u001b[0m \u001b[0moperate\u001b[0m\u001b[0;34m(\u001b[0m\u001b[0mself\u001b[0m\u001b[0;34m,\u001b[0m \u001b[0mdefault_comparator\u001b[0m\u001b[0;34m,\u001b[0m \u001b[0mop\u001b[0m\u001b[0;34m,\u001b[0m \u001b[0;34m*\u001b[0m\u001b[0mother\u001b[0m\u001b[0;34m,\u001b[0m \u001b[0;34m**\u001b[0m\u001b[0mkwargs\u001b[0m\u001b[0;34m)\u001b[0m\u001b[0;34m:\u001b[0m\u001b[0;34m\u001b[0m\u001b[0;34m\u001b[0m\u001b[0m\n\u001b[1;32m     66\u001b[0m             \u001b[0mo\u001b[0m \u001b[0;34m=\u001b[0m \u001b[0mdefault_comparator\u001b[0m\u001b[0;34m.\u001b[0m\u001b[0moperator_lookup\u001b[0m\u001b[0;34m[\u001b[0m\u001b[0mop\u001b[0m\u001b[0;34m.\u001b[0m\u001b[0m__name__\u001b[0m\u001b[0;34m]\u001b[0m\u001b[0;34m\u001b[0m\u001b[0;34m\u001b[0m\u001b[0m\n\u001b[0;32m---> 67\u001b[0;31m             \u001b[0;32mreturn\u001b[0m \u001b[0mo\u001b[0m\u001b[0;34m[\u001b[0m\u001b[0;36m0\u001b[0m\u001b[0;34m]\u001b[0m\u001b[0;34m(\u001b[0m\u001b[0mself\u001b[0m\u001b[0;34m.\u001b[0m\u001b[0mexpr\u001b[0m\u001b[0;34m,\u001b[0m \u001b[0mop\u001b[0m\u001b[0;34m,\u001b[0m \u001b[0;34m*\u001b[0m\u001b[0;34m(\u001b[0m\u001b[0mother\u001b[0m \u001b[0;34m+\u001b[0m \u001b[0mo\u001b[0m\u001b[0;34m[\u001b[0m\u001b[0;36m1\u001b[0m\u001b[0;34m:\u001b[0m\u001b[0;34m]\u001b[0m\u001b[0;34m)\u001b[0m\u001b[0;34m,\u001b[0m \u001b[0;34m**\u001b[0m\u001b[0mkwargs\u001b[0m\u001b[0;34m)\u001b[0m\u001b[0;34m\u001b[0m\u001b[0;34m\u001b[0m\u001b[0m\n\u001b[0m\u001b[1;32m     68\u001b[0m \u001b[0;34m\u001b[0m\u001b[0m\n\u001b[1;32m     69\u001b[0m         \u001b[0;34m@\u001b[0m\u001b[0mutil\u001b[0m\u001b[0;34m.\u001b[0m\u001b[0mdependencies\u001b[0m\u001b[0;34m(\u001b[0m\u001b[0;34m\"sqlalchemy.sql.default_comparator\"\u001b[0m\u001b[0;34m)\u001b[0m\u001b[0;34m\u001b[0m\u001b[0;34m\u001b[0m\u001b[0m\n",
      "\u001b[0;32m//anaconda3/lib/python3.7/site-packages/sqlalchemy/sql/default_comparator.py\u001b[0m in \u001b[0;36m_boolean_compare\u001b[0;34m(expr, op, obj, negate, reverse, _python_is_types, result_type, **kwargs)\u001b[0m\n\u001b[1;32m    103\u001b[0m                 )\n\u001b[1;32m    104\u001b[0m     \u001b[0;32melse\u001b[0m\u001b[0;34m:\u001b[0m\u001b[0;34m\u001b[0m\u001b[0;34m\u001b[0m\u001b[0m\n\u001b[0;32m--> 105\u001b[0;31m         \u001b[0mobj\u001b[0m \u001b[0;34m=\u001b[0m \u001b[0m_check_literal\u001b[0m\u001b[0;34m(\u001b[0m\u001b[0mexpr\u001b[0m\u001b[0;34m,\u001b[0m \u001b[0mop\u001b[0m\u001b[0;34m,\u001b[0m \u001b[0mobj\u001b[0m\u001b[0;34m)\u001b[0m\u001b[0;34m\u001b[0m\u001b[0;34m\u001b[0m\u001b[0m\n\u001b[0m\u001b[1;32m    106\u001b[0m \u001b[0;34m\u001b[0m\u001b[0m\n\u001b[1;32m    107\u001b[0m     \u001b[0;32mif\u001b[0m \u001b[0mreverse\u001b[0m\u001b[0;34m:\u001b[0m\u001b[0;34m\u001b[0m\u001b[0;34m\u001b[0m\u001b[0m\n",
      "\u001b[0;32m//anaconda3/lib/python3.7/site-packages/sqlalchemy/sql/default_comparator.py\u001b[0m in \u001b[0;36m_check_literal\u001b[0;34m(expr, operator, other, bindparam_type)\u001b[0m\n\u001b[1;32m    371\u001b[0m         \u001b[0;32mreturn\u001b[0m \u001b[0mother\u001b[0m\u001b[0;34m.\u001b[0m\u001b[0mas_scalar\u001b[0m\u001b[0;34m(\u001b[0m\u001b[0;34m)\u001b[0m\u001b[0;34m\u001b[0m\u001b[0;34m\u001b[0m\u001b[0m\n\u001b[1;32m    372\u001b[0m     \u001b[0;32melif\u001b[0m \u001b[0;32mnot\u001b[0m \u001b[0misinstance\u001b[0m\u001b[0;34m(\u001b[0m\u001b[0mother\u001b[0m\u001b[0;34m,\u001b[0m \u001b[0mVisitable\u001b[0m\u001b[0;34m)\u001b[0m\u001b[0;34m:\u001b[0m\u001b[0;34m\u001b[0m\u001b[0;34m\u001b[0m\u001b[0m\n\u001b[0;32m--> 373\u001b[0;31m         \u001b[0;32mreturn\u001b[0m \u001b[0mexpr\u001b[0m\u001b[0;34m.\u001b[0m\u001b[0m_bind_param\u001b[0m\u001b[0;34m(\u001b[0m\u001b[0moperator\u001b[0m\u001b[0;34m,\u001b[0m \u001b[0mother\u001b[0m\u001b[0;34m,\u001b[0m \u001b[0mtype_\u001b[0m\u001b[0;34m=\u001b[0m\u001b[0mbindparam_type\u001b[0m\u001b[0;34m)\u001b[0m\u001b[0;34m\u001b[0m\u001b[0;34m\u001b[0m\u001b[0m\n\u001b[0m\u001b[1;32m    374\u001b[0m     \u001b[0;32melse\u001b[0m\u001b[0;34m:\u001b[0m\u001b[0;34m\u001b[0m\u001b[0;34m\u001b[0m\u001b[0m\n\u001b[1;32m    375\u001b[0m         \u001b[0;32mreturn\u001b[0m \u001b[0mother\u001b[0m\u001b[0;34m\u001b[0m\u001b[0;34m\u001b[0m\u001b[0m\n",
      "\u001b[0;32m//anaconda3/lib/python3.7/site-packages/sqlalchemy/sql/elements.py\u001b[0m in \u001b[0;36m_bind_param\u001b[0;34m(self, operator, obj, type_)\u001b[0m\n\u001b[1;32m   4115\u001b[0m             \u001b[0m_compared_to_type\u001b[0m\u001b[0;34m=\u001b[0m\u001b[0mself\u001b[0m\u001b[0;34m.\u001b[0m\u001b[0mtype\u001b[0m\u001b[0;34m,\u001b[0m\u001b[0;34m\u001b[0m\u001b[0;34m\u001b[0m\u001b[0m\n\u001b[1;32m   4116\u001b[0m             \u001b[0mtype_\u001b[0m\u001b[0;34m=\u001b[0m\u001b[0mtype_\u001b[0m\u001b[0;34m,\u001b[0m\u001b[0;34m\u001b[0m\u001b[0;34m\u001b[0m\u001b[0m\n\u001b[0;32m-> 4117\u001b[0;31m             \u001b[0munique\u001b[0m\u001b[0;34m=\u001b[0m\u001b[0;32mTrue\u001b[0m\u001b[0;34m,\u001b[0m\u001b[0;34m\u001b[0m\u001b[0;34m\u001b[0m\u001b[0m\n\u001b[0m\u001b[1;32m   4118\u001b[0m         )\n\u001b[1;32m   4119\u001b[0m \u001b[0;34m\u001b[0m\u001b[0m\n",
      "\u001b[0;32m//anaconda3/lib/python3.7/site-packages/sqlalchemy/sql/elements.py\u001b[0m in \u001b[0;36m__init__\u001b[0;34m(self, key, value, type_, unique, required, quote, callable_, expanding, isoutparam, _compared_to_operator, _compared_to_type)\u001b[0m\n\u001b[1;32m   1191\u001b[0m             \u001b[0;32mif\u001b[0m \u001b[0m_compared_to_type\u001b[0m \u001b[0;32mis\u001b[0m \u001b[0;32mnot\u001b[0m \u001b[0;32mNone\u001b[0m\u001b[0;34m:\u001b[0m\u001b[0;34m\u001b[0m\u001b[0;34m\u001b[0m\u001b[0m\n\u001b[1;32m   1192\u001b[0m                 self.type = _compared_to_type.coerce_compared_value(\n\u001b[0;32m-> 1193\u001b[0;31m                     \u001b[0m_compared_to_operator\u001b[0m\u001b[0;34m,\u001b[0m \u001b[0mvalue\u001b[0m\u001b[0;34m\u001b[0m\u001b[0;34m\u001b[0m\u001b[0m\n\u001b[0m\u001b[1;32m   1194\u001b[0m                 )\n\u001b[1;32m   1195\u001b[0m             \u001b[0;32melse\u001b[0m\u001b[0;34m:\u001b[0m\u001b[0;34m\u001b[0m\u001b[0;34m\u001b[0m\u001b[0m\n",
      "\u001b[0;32m//anaconda3/lib/python3.7/site-packages/sqlalchemy/sql/type_api.py\u001b[0m in \u001b[0;36mcoerce_compared_value\u001b[0;34m(self, op, value)\u001b[0m\n\u001b[1;32m    561\u001b[0m \u001b[0;34m\u001b[0m\u001b[0m\n\u001b[1;32m    562\u001b[0m         \"\"\"\n\u001b[0;32m--> 563\u001b[0;31m         \u001b[0m_coerced_type\u001b[0m \u001b[0;34m=\u001b[0m \u001b[0m_resolve_value_to_type\u001b[0m\u001b[0;34m(\u001b[0m\u001b[0mvalue\u001b[0m\u001b[0;34m)\u001b[0m\u001b[0;34m\u001b[0m\u001b[0;34m\u001b[0m\u001b[0m\n\u001b[0m\u001b[1;32m    564\u001b[0m         if (\n\u001b[1;32m    565\u001b[0m             \u001b[0m_coerced_type\u001b[0m \u001b[0;32mis\u001b[0m \u001b[0mNULLTYPE\u001b[0m\u001b[0;34m\u001b[0m\u001b[0;34m\u001b[0m\u001b[0m\n",
      "\u001b[0;32m//anaconda3/lib/python3.7/site-packages/sqlalchemy/sql/sqltypes.py\u001b[0m in \u001b[0;36m_resolve_value_to_type\u001b[0;34m(value)\u001b[0m\n\u001b[1;32m   2985\u001b[0m         ):\n\u001b[1;32m   2986\u001b[0m             raise exc.ArgumentError(\n\u001b[0;32m-> 2987\u001b[0;31m                 \u001b[0;34m\"Object %r is not legal as a SQL literal value\"\u001b[0m \u001b[0;34m%\u001b[0m \u001b[0mvalue\u001b[0m\u001b[0;34m\u001b[0m\u001b[0;34m\u001b[0m\u001b[0m\n\u001b[0m\u001b[1;32m   2988\u001b[0m             )\n\u001b[1;32m   2989\u001b[0m         \u001b[0;32mreturn\u001b[0m \u001b[0mNULLTYPE\u001b[0m\u001b[0;34m\u001b[0m\u001b[0;34m\u001b[0m\u001b[0m\n",
      "\u001b[0;31mArgumentError\u001b[0m: Object <Person(nameSlug='michael-lorenzen-547179')> is not legal as a SQL literal value"
     ]
    }
   ],
   "source": [
    "players_df_test = game_players_stats(session,game_record_test)"
   ]
  },
  {
   "cell_type": "code",
   "execution_count": 64,
   "metadata": {},
   "outputs": [
    {
     "ename": "NameError",
     "evalue": "name 'players_df_test' is not defined",
     "output_type": "error",
     "traceback": [
      "\u001b[0;31m---------------------------------------------------------------------------\u001b[0m",
      "\u001b[0;31mNameError\u001b[0m                                 Traceback (most recent call last)",
      "\u001b[0;32m<ipython-input-64-e61a9f41be91>\u001b[0m in \u001b[0;36m<module>\u001b[0;34m\u001b[0m\n\u001b[0;32m----> 1\u001b[0;31m \u001b[0mplayers_df_test\u001b[0m\u001b[0;34m\u001b[0m\u001b[0;34m\u001b[0m\u001b[0m\n\u001b[0m",
      "\u001b[0;31mNameError\u001b[0m: name 'players_df_test' is not defined"
     ]
    }
   ],
   "source": [
    "players_df_test"
   ]
  },
  {
   "cell_type": "code",
   "execution_count": 65,
   "metadata": {},
   "outputs": [],
   "source": [
    "gameTeam_record_test = game_record_test.teams[0]"
   ]
  },
  {
   "cell_type": "code",
   "execution_count": 67,
   "metadata": {},
   "outputs": [
    {
     "data": {
      "text/plain": [
       "<generator object players at 0x1278adc78>"
      ]
     },
     "execution_count": 67,
     "metadata": {},
     "output_type": "execute_result"
    }
   ],
   "source": [
    "gameTeam_record_test.players(session)"
   ]
  },
  {
   "cell_type": "markdown",
   "metadata": {},
   "source": [
    "Plot cumulative hits for a player"
   ]
  },
  {
   "cell_type": "code",
   "execution_count": 68,
   "metadata": {},
   "outputs": [],
   "source": [
    "import matplotlib.pyplot as plt"
   ]
  },
  {
   "cell_type": "code",
   "execution_count": 69,
   "metadata": {},
   "outputs": [],
   "source": [
    "ordered_games = session.query(Game).filter(Game.type=='R').order_by(Game.dateTime).all()"
   ]
  },
  {
   "cell_type": "code",
   "execution_count": 70,
   "metadata": {},
   "outputs": [],
   "source": [
    "trout_PAs = session.query(Play).filter(Play.batter_id==mike_trout_id).all()"
   ]
  },
  {
   "cell_type": "code",
   "execution_count": 71,
   "metadata": {},
   "outputs": [],
   "source": [
    "trout_hit_dict = [{'time':x.startTime,'event':x.event} for x in trout_PAs if x.event in hits]"
   ]
  },
  {
   "cell_type": "code",
   "execution_count": 72,
   "metadata": {},
   "outputs": [],
   "source": [
    "trout_hit_dates = [x['time'] for x in trout_hit_dict if x]\n",
    "trout_hit_dates.sort()\n",
    "trout_hit_dates = trout_hit_dates[1:]"
   ]
  },
  {
   "cell_type": "code",
   "execution_count": 73,
   "metadata": {},
   "outputs": [],
   "source": [
    "count = 1\n",
    "trout_cum_hits = []\n",
    "for hit_date in trout_hit_dates:\n",
    "    trout_cum_hits.append({'date':hit_date,'cum_hits':count})\n",
    "    count+=1"
   ]
  },
  {
   "cell_type": "code",
   "execution_count": 74,
   "metadata": {},
   "outputs": [],
   "source": [
    "dates = [x['date'] for x in trout_cum_hits]\n",
    "cum_hits = [x['cum_hits'] for x in trout_cum_hits]"
   ]
  },
  {
   "cell_type": "code",
   "execution_count": 75,
   "metadata": {},
   "outputs": [
    {
     "name": "stderr",
     "output_type": "stream",
     "text": [
      "//anaconda3/lib/python3.7/site-packages/pandas/plotting/_matplotlib/converter.py:103: FutureWarning: Using an implicitly registered datetime converter for a matplotlib plotting method. The converter was registered by pandas on import. Future versions of pandas will require you to explicitly register matplotlib converters.\n",
      "\n",
      "To register the converters:\n",
      "\t>>> from pandas.plotting import register_matplotlib_converters\n",
      "\t>>> register_matplotlib_converters()\n",
      "  warnings.warn(msg, FutureWarning)\n"
     ]
    },
    {
     "data": {
      "text/plain": [
       "[<matplotlib.lines.Line2D at 0x127d2bc88>]"
      ]
     },
     "execution_count": 75,
     "metadata": {},
     "output_type": "execute_result"
    },
    {
     "data": {
      "image/png": "[encoded data removed]",
      "text/plain": [
       "<Figure size 432x288 with 1 Axes>"
      ]
     },
     "metadata": {
      "needs_background": "light"
     },
     "output_type": "display_data"
    }
   ],
   "source": [
    "plt.plot_date(x=dates,y=cum_hits,xdate=True)"
   ]
  },
  {
   "cell_type": "markdown",
   "metadata": {},
   "source": [
    "## Person.plays\n",
    "It would be nice to have a person.plays method. I think it would require a PersonPlaysLink table "
   ]
  },
  {
   "cell_type": "markdown",
   "metadata": {},
   "source": [
    "## Relevent Stats\n",
    "- a method on a person instance that takes in a game\n",
    "- determines whether a player is a:\n",
    "    - 1)pitcher 1a) starter 1b) bullpen 1c)length \n",
    "    - 2) hitter 2a) reg_hitter 3a) irr_hitter\n",
    "- returns the relevent cumulative stats for that player"
   ]
  },
  {
   "cell_type": "code",
   "execution_count": 76,
   "metadata": {},
   "outputs": [
    {
     "data": {
      "text/plain": [
       "545361"
      ]
     },
     "execution_count": 76,
     "metadata": {},
     "output_type": "execute_result"
    }
   ],
   "source": [
    "mike_trout_id"
   ]
  },
  {
   "cell_type": "code",
   "execution_count": 77,
   "metadata": {},
   "outputs": [],
   "source": [
    "most_recent_game = session.query(Game).order_by(Game.dateTime.desc()).first()"
   ]
  },
  {
   "cell_type": "code",
   "execution_count": 78,
   "metadata": {},
   "outputs": [],
   "source": [
    "mike_trout_person = session.query(Person).filter(Person.id==mike_trout_id).one()"
   ]
  },
  {
   "cell_type": "code",
   "execution_count": 79,
   "metadata": {},
   "outputs": [
    {
     "data": {
      "text/plain": [
       "'Outfielder'"
      ]
     },
     "execution_count": 79,
     "metadata": {},
     "output_type": "execute_result"
    }
   ],
   "source": [
    "mike_trout_person.primaryPosition_type"
   ]
  },
  {
   "cell_type": "code",
   "execution_count": 80,
   "metadata": {},
   "outputs": [],
   "source": [
    "query = session.query(Game,Play).\\\n",
    "                filter(Game.id==Play.game_id).\\\n",
    "                filter(and_(Game.type=='R',Game.dateTime<datetime.today())).\\\n",
    "                filter(Play.batter_id==mike_trout_id).\\\n",
    "                all()[:5]\n"
   ]
  },
  {
   "cell_type": "code",
   "execution_count": 81,
   "metadata": {},
   "outputs": [
    {
     "data": {
      "text/plain": [
       "[<Play(game_id='2019/03/28/anamlb-oakmlb-1',atBatIndex='1')>,\n",
       " <Play(game_id='2019/03/28/anamlb-oakmlb-1',atBatIndex='24')>,\n",
       " <Play(game_id='2019/03/28/anamlb-oakmlb-1',atBatIndex='40')>,\n",
       " <Play(game_id='2019/03/28/anamlb-oakmlb-1',atBatIndex='56')>,\n",
       " <Play(game_id='2019/03/29/anamlb-oakmlb-1',atBatIndex='1')>]"
      ]
     },
     "execution_count": 81,
     "metadata": {},
     "output_type": "execute_result"
    }
   ],
   "source": [
    "[x[1] for x in query]"
   ]
  },
  {
   "cell_type": "code",
   "execution_count": 82,
   "metadata": {},
   "outputs": [
    {
     "data": {
      "text/plain": [
       "[<Game(pk='566086',id='2019/03/28/anamlb-oakmlb-1')>,\n",
       " <Play(game_id='2019/03/28/anamlb-oakmlb-1',atBatIndex='1')>,\n",
       " <Game(pk='566086',id='2019/03/28/anamlb-oakmlb-1')>,\n",
       " <Play(game_id='2019/03/28/anamlb-oakmlb-1',atBatIndex='24')>,\n",
       " <Game(pk='566086',id='2019/03/28/anamlb-oakmlb-1')>,\n",
       " <Play(game_id='2019/03/28/anamlb-oakmlb-1',atBatIndex='40')>,\n",
       " <Game(pk='566086',id='2019/03/28/anamlb-oakmlb-1')>,\n",
       " <Play(game_id='2019/03/28/anamlb-oakmlb-1',atBatIndex='56')>,\n",
       " <Game(pk='566087',id='2019/03/29/anamlb-oakmlb-1')>,\n",
       " <Play(game_id='2019/03/29/anamlb-oakmlb-1',atBatIndex='1')>]"
      ]
     },
     "execution_count": 82,
     "metadata": {},
     "output_type": "execute_result"
    }
   ],
   "source": [
    "[item for sublist in query for item in sublist]"
   ]
  },
  {
   "cell_type": "code",
   "execution_count": 83,
   "metadata": {},
   "outputs": [],
   "source": [
    "# remember to add the self argument here when you're done testing \n",
    "def relevant_stats(self,game_record):\n",
    "    \"\"\"\n",
    "    Method of ther Person instance. Takes in a game record \n",
    "    \"\"\"\n",
    "    date=game_record.dateTime\n",
    "    stat_line = {}\n",
    "    if self.primaryPosition_type in ['Hitter','Outfielder','Infielder','Catcher']:\n",
    "        query = session.query(Game,Play).\\\n",
    "                        filter(Game.id==Play.game_id).\\\n",
    "                        filter(and_(Game.type=='R',Game.dateTime<date)).\\\n",
    "                        filter(Play.batter_id==self.id).\\\n",
    "                        all()\n",
    "    if self.primaryPosition_type=='Pitcher':\n",
    "        query = session.query(Game,Play).\\\n",
    "                        filter(Game.id==Play.game_id).\\\n",
    "                        filter(and_(Game.type=='R',Game.dateTime<date)).\\\n",
    "                        filter(Play.pitcher_id==self.id).\\\n",
    "                        all()\n",
    "    plays=[x[1] for x in query]\n",
    "    singles = [x for x in plays if x.event=='Single']\n",
    "    doubles = [x for x in plays if x.event=='Double']\n",
    "    triples = [x for x in plays if x.event=='Triple']\n",
    "    home_runs = [x for x in plays if x.event=='Home Run']\n",
    "    walks = [x for x in plays if x.event=='Walk']\n",
    "    \n",
    "    stat_line['Position_type']=self.primaryPosition_type\n",
    "    stat_line['PAs'] = len(plays)\n",
    "    stat_line['hits']=len(singles)+len(doubles)+len(triples)+len(home_runs)\n",
    "    stat_line['doubles']=len(doubles)\n",
    "    stat_line['triples']=len(triples)\n",
    "    stat_line['home_runs']=len(home_runs)\n",
    "    stat_line['walks']=len(walks)\n",
    "        \n",
    "    return stat_line\n",
    "\n",
    "Person.relevant_stats = relevant_stats"
   ]
  },
  {
   "cell_type": "code",
   "execution_count": 84,
   "metadata": {},
   "outputs": [
    {
     "data": {
      "text/plain": [
       "{'Position_type': 'Outfielder',\n",
       " 'PAs': 600,\n",
       " 'hits': 136,\n",
       " 'doubles': 26,\n",
       " 'triples': 2,\n",
       " 'home_runs': 45,\n",
       " 'walks': 96}"
      ]
     },
     "execution_count": 84,
     "metadata": {},
     "output_type": "execute_result"
    }
   ],
   "source": [
    "mike_trout_person.relevant_stats(most_recent_game)"
   ]
  },
  {
   "cell_type": "code",
   "execution_count": 93,
   "metadata": {},
   "outputs": [
    {
     "data": {
      "text/plain": [
       "[32, 32]"
      ]
     },
     "execution_count": 93,
     "metadata": {},
     "output_type": "execute_result"
    }
   ],
   "source": [
    "[len(list(x.players(session))) for x in most_recent_game.teams]"
   ]
  },
  {
   "cell_type": "code",
   "execution_count": 88,
   "metadata": {},
   "outputs": [],
   "source": [
    "for x in [x.players(session) for x in most_recent_game.teams]:\n",
    "    df=pd.DataFrame.from_dict([y.relevant_stats(most_recent_game) for y in x])"
   ]
  },
  {
   "cell_type": "code",
   "execution_count": 89,
   "metadata": {},
   "outputs": [
    {
     "data": {
      "text/html": [
       "<div>\n",
       "<style scoped>\n",
       "    .dataframe tbody tr th:only-of-type {\n",
       "        vertical-align: middle;\n",
       "    }\n",
       "\n",
       "    .dataframe tbody tr th {\n",
       "        vertical-align: top;\n",
       "    }\n",
       "\n",
       "    .dataframe thead th {\n",
       "        text-align: right;\n",
       "    }\n",
       "</style>\n",
       "<table border=\"1\" class=\"dataframe\">\n",
       "  <thead>\n",
       "    <tr style=\"text-align: right;\">\n",
       "      <th></th>\n",
       "      <th>Position_type</th>\n",
       "      <th>PAs</th>\n",
       "      <th>hits</th>\n",
       "      <th>doubles</th>\n",
       "      <th>triples</th>\n",
       "      <th>home_runs</th>\n",
       "      <th>walks</th>\n",
       "    </tr>\n",
       "  </thead>\n",
       "  <tbody>\n",
       "    <tr>\n",
       "      <td>0</td>\n",
       "      <td>Pitcher</td>\n",
       "      <td>76</td>\n",
       "      <td>22</td>\n",
       "      <td>2</td>\n",
       "      <td>0</td>\n",
       "      <td>7</td>\n",
       "      <td>4</td>\n",
       "    </tr>\n",
       "    <tr>\n",
       "      <td>1</td>\n",
       "      <td>Catcher</td>\n",
       "      <td>360</td>\n",
       "      <td>70</td>\n",
       "      <td>16</td>\n",
       "      <td>0</td>\n",
       "      <td>12</td>\n",
       "      <td>32</td>\n",
       "    </tr>\n",
       "    <tr>\n",
       "      <td>2</td>\n",
       "      <td>Pitcher</td>\n",
       "      <td>334</td>\n",
       "      <td>81</td>\n",
       "      <td>16</td>\n",
       "      <td>1</td>\n",
       "      <td>11</td>\n",
       "      <td>31</td>\n",
       "    </tr>\n",
       "    <tr>\n",
       "      <td>3</td>\n",
       "      <td>Pitcher</td>\n",
       "      <td>260</td>\n",
       "      <td>63</td>\n",
       "      <td>10</td>\n",
       "      <td>3</td>\n",
       "      <td>11</td>\n",
       "      <td>13</td>\n",
       "    </tr>\n",
       "    <tr>\n",
       "      <td>4</td>\n",
       "      <td>Pitcher</td>\n",
       "      <td>16</td>\n",
       "      <td>5</td>\n",
       "      <td>0</td>\n",
       "      <td>0</td>\n",
       "      <td>1</td>\n",
       "      <td>4</td>\n",
       "    </tr>\n",
       "    <tr>\n",
       "      <td>5</td>\n",
       "      <td>Infielder</td>\n",
       "      <td>333</td>\n",
       "      <td>70</td>\n",
       "      <td>14</td>\n",
       "      <td>0</td>\n",
       "      <td>20</td>\n",
       "      <td>19</td>\n",
       "    </tr>\n",
       "    <tr>\n",
       "      <td>6</td>\n",
       "      <td>Pitcher</td>\n",
       "      <td>105</td>\n",
       "      <td>22</td>\n",
       "      <td>6</td>\n",
       "      <td>0</td>\n",
       "      <td>6</td>\n",
       "      <td>8</td>\n",
       "    </tr>\n",
       "    <tr>\n",
       "      <td>7</td>\n",
       "      <td>Pitcher</td>\n",
       "      <td>843</td>\n",
       "      <td>161</td>\n",
       "      <td>25</td>\n",
       "      <td>5</td>\n",
       "      <td>24</td>\n",
       "      <td>52</td>\n",
       "    </tr>\n",
       "    <tr>\n",
       "      <td>8</td>\n",
       "      <td>Outfielder</td>\n",
       "      <td>656</td>\n",
       "      <td>158</td>\n",
       "      <td>25</td>\n",
       "      <td>7</td>\n",
       "      <td>15</td>\n",
       "      <td>65</td>\n",
       "    </tr>\n",
       "    <tr>\n",
       "      <td>9</td>\n",
       "      <td>Pitcher</td>\n",
       "      <td>694</td>\n",
       "      <td>144</td>\n",
       "      <td>43</td>\n",
       "      <td>0</td>\n",
       "      <td>18</td>\n",
       "      <td>31</td>\n",
       "    </tr>\n",
       "    <tr>\n",
       "      <td>10</td>\n",
       "      <td>Infielder</td>\n",
       "      <td>13</td>\n",
       "      <td>2</td>\n",
       "      <td>1</td>\n",
       "      <td>0</td>\n",
       "      <td>0</td>\n",
       "      <td>1</td>\n",
       "    </tr>\n",
       "    <tr>\n",
       "      <td>11</td>\n",
       "      <td>Pitcher</td>\n",
       "      <td>216</td>\n",
       "      <td>32</td>\n",
       "      <td>7</td>\n",
       "      <td>1</td>\n",
       "      <td>6</td>\n",
       "      <td>36</td>\n",
       "    </tr>\n",
       "    <tr>\n",
       "      <td>12</td>\n",
       "      <td>Infielder</td>\n",
       "      <td>32</td>\n",
       "      <td>7</td>\n",
       "      <td>0</td>\n",
       "      <td>0</td>\n",
       "      <td>0</td>\n",
       "      <td>1</td>\n",
       "    </tr>\n",
       "    <tr>\n",
       "      <td>13</td>\n",
       "      <td>Outfielder</td>\n",
       "      <td>97</td>\n",
       "      <td>22</td>\n",
       "      <td>7</td>\n",
       "      <td>0</td>\n",
       "      <td>1</td>\n",
       "      <td>7</td>\n",
       "    </tr>\n",
       "    <tr>\n",
       "      <td>14</td>\n",
       "      <td>Pitcher</td>\n",
       "      <td>6</td>\n",
       "      <td>3</td>\n",
       "      <td>2</td>\n",
       "      <td>0</td>\n",
       "      <td>0</td>\n",
       "      <td>2</td>\n",
       "    </tr>\n",
       "    <tr>\n",
       "      <td>15</td>\n",
       "      <td>Infielder</td>\n",
       "      <td>569</td>\n",
       "      <td>155</td>\n",
       "      <td>37</td>\n",
       "      <td>5</td>\n",
       "      <td>19</td>\n",
       "      <td>41</td>\n",
       "    </tr>\n",
       "    <tr>\n",
       "      <td>16</td>\n",
       "      <td>Outfielder</td>\n",
       "      <td>37</td>\n",
       "      <td>11</td>\n",
       "      <td>1</td>\n",
       "      <td>1</td>\n",
       "      <td>0</td>\n",
       "      <td>6</td>\n",
       "    </tr>\n",
       "    <tr>\n",
       "      <td>17</td>\n",
       "      <td>Pitcher</td>\n",
       "      <td>836</td>\n",
       "      <td>169</td>\n",
       "      <td>37</td>\n",
       "      <td>1</td>\n",
       "      <td>24</td>\n",
       "      <td>68</td>\n",
       "    </tr>\n",
       "    <tr>\n",
       "      <td>18</td>\n",
       "      <td>Pitcher</td>\n",
       "      <td>287</td>\n",
       "      <td>66</td>\n",
       "      <td>12</td>\n",
       "      <td>2</td>\n",
       "      <td>10</td>\n",
       "      <td>14</td>\n",
       "    </tr>\n",
       "    <tr>\n",
       "      <td>19</td>\n",
       "      <td>Catcher</td>\n",
       "      <td>2</td>\n",
       "      <td>0</td>\n",
       "      <td>0</td>\n",
       "      <td>0</td>\n",
       "      <td>0</td>\n",
       "      <td>0</td>\n",
       "    </tr>\n",
       "    <tr>\n",
       "      <td>20</td>\n",
       "      <td>Pitcher</td>\n",
       "      <td>713</td>\n",
       "      <td>153</td>\n",
       "      <td>38</td>\n",
       "      <td>3</td>\n",
       "      <td>22</td>\n",
       "      <td>48</td>\n",
       "    </tr>\n",
       "    <tr>\n",
       "      <td>21</td>\n",
       "      <td>Catcher</td>\n",
       "      <td>11</td>\n",
       "      <td>1</td>\n",
       "      <td>0</td>\n",
       "      <td>0</td>\n",
       "      <td>0</td>\n",
       "      <td>0</td>\n",
       "    </tr>\n",
       "    <tr>\n",
       "      <td>22</td>\n",
       "      <td>Pitcher</td>\n",
       "      <td>295</td>\n",
       "      <td>74</td>\n",
       "      <td>19</td>\n",
       "      <td>0</td>\n",
       "      <td>7</td>\n",
       "      <td>32</td>\n",
       "    </tr>\n",
       "    <tr>\n",
       "      <td>23</td>\n",
       "      <td>Outfielder</td>\n",
       "      <td>617</td>\n",
       "      <td>138</td>\n",
       "      <td>32</td>\n",
       "      <td>3</td>\n",
       "      <td>17</td>\n",
       "      <td>32</td>\n",
       "    </tr>\n",
       "    <tr>\n",
       "      <td>24</td>\n",
       "      <td>Pitcher</td>\n",
       "      <td>175</td>\n",
       "      <td>33</td>\n",
       "      <td>9</td>\n",
       "      <td>2</td>\n",
       "      <td>5</td>\n",
       "      <td>11</td>\n",
       "    </tr>\n",
       "    <tr>\n",
       "      <td>25</td>\n",
       "      <td>Pitcher</td>\n",
       "      <td>216</td>\n",
       "      <td>46</td>\n",
       "      <td>7</td>\n",
       "      <td>0</td>\n",
       "      <td>10</td>\n",
       "      <td>17</td>\n",
       "    </tr>\n",
       "    <tr>\n",
       "      <td>26</td>\n",
       "      <td>Outfielder</td>\n",
       "      <td>660</td>\n",
       "      <td>153</td>\n",
       "      <td>32</td>\n",
       "      <td>5</td>\n",
       "      <td>34</td>\n",
       "      <td>105</td>\n",
       "    </tr>\n",
       "    <tr>\n",
       "      <td>27</td>\n",
       "      <td>Pitcher</td>\n",
       "      <td>298</td>\n",
       "      <td>64</td>\n",
       "      <td>14</td>\n",
       "      <td>0</td>\n",
       "      <td>5</td>\n",
       "      <td>23</td>\n",
       "    </tr>\n",
       "    <tr>\n",
       "      <td>28</td>\n",
       "      <td>Infielder</td>\n",
       "      <td>43</td>\n",
       "      <td>5</td>\n",
       "      <td>0</td>\n",
       "      <td>0</td>\n",
       "      <td>2</td>\n",
       "      <td>3</td>\n",
       "    </tr>\n",
       "    <tr>\n",
       "      <td>29</td>\n",
       "      <td>Infielder</td>\n",
       "      <td>190</td>\n",
       "      <td>44</td>\n",
       "      <td>9</td>\n",
       "      <td>0</td>\n",
       "      <td>6</td>\n",
       "      <td>17</td>\n",
       "    </tr>\n",
       "    <tr>\n",
       "      <td>30</td>\n",
       "      <td>Catcher</td>\n",
       "      <td>309</td>\n",
       "      <td>74</td>\n",
       "      <td>11</td>\n",
       "      <td>0</td>\n",
       "      <td>17</td>\n",
       "      <td>19</td>\n",
       "    </tr>\n",
       "    <tr>\n",
       "      <td>31</td>\n",
       "      <td>Infielder</td>\n",
       "      <td>145</td>\n",
       "      <td>33</td>\n",
       "      <td>2</td>\n",
       "      <td>0</td>\n",
       "      <td>2</td>\n",
       "      <td>9</td>\n",
       "    </tr>\n",
       "  </tbody>\n",
       "</table>\n",
       "</div>"
      ],
      "text/plain": [
       "   Position_type  PAs  hits  doubles  triples  home_runs  walks\n",
       "0        Pitcher   76    22        2        0          7      4\n",
       "1        Catcher  360    70       16        0         12     32\n",
       "2        Pitcher  334    81       16        1         11     31\n",
       "3        Pitcher  260    63       10        3         11     13\n",
       "4        Pitcher   16     5        0        0          1      4\n",
       "5      Infielder  333    70       14        0         20     19\n",
       "6        Pitcher  105    22        6        0          6      8\n",
       "7        Pitcher  843   161       25        5         24     52\n",
       "8     Outfielder  656   158       25        7         15     65\n",
       "9        Pitcher  694   144       43        0         18     31\n",
       "10     Infielder   13     2        1        0          0      1\n",
       "11       Pitcher  216    32        7        1          6     36\n",
       "12     Infielder   32     7        0        0          0      1\n",
       "13    Outfielder   97    22        7        0          1      7\n",
       "14       Pitcher    6     3        2        0          0      2\n",
       "15     Infielder  569   155       37        5         19     41\n",
       "16    Outfielder   37    11        1        1          0      6\n",
       "17       Pitcher  836   169       37        1         24     68\n",
       "18       Pitcher  287    66       12        2         10     14\n",
       "19       Catcher    2     0        0        0          0      0\n",
       "20       Pitcher  713   153       38        3         22     48\n",
       "21       Catcher   11     1        0        0          0      0\n",
       "22       Pitcher  295    74       19        0          7     32\n",
       "23    Outfielder  617   138       32        3         17     32\n",
       "24       Pitcher  175    33        9        2          5     11\n",
       "25       Pitcher  216    46        7        0         10     17\n",
       "26    Outfielder  660   153       32        5         34    105\n",
       "27       Pitcher  298    64       14        0          5     23\n",
       "28     Infielder   43     5        0        0          2      3\n",
       "29     Infielder  190    44        9        0          6     17\n",
       "30       Catcher  309    74       11        0         17     19\n",
       "31     Infielder  145    33        2        0          2      9"
      ]
     },
     "execution_count": 89,
     "metadata": {},
     "output_type": "execute_result"
    }
   ],
   "source": [
    "df"
   ]
  },
  {
   "cell_type": "code",
   "execution_count": 116,
   "metadata": {},
   "outputs": [
    {
     "data": {
      "text/plain": [
       "113"
      ]
     },
     "execution_count": 116,
     "metadata": {},
     "output_type": "execute_result"
    }
   ],
   "source": [
    "game_record_test.homeTeam_id"
   ]
  },
  {
   "cell_type": "code",
   "execution_count": 113,
   "metadata": {},
   "outputs": [
    {
     "data": {
      "text/plain": [
       "113"
      ]
     },
     "execution_count": 113,
     "metadata": {},
     "output_type": "execute_result"
    }
   ],
   "source": [
    "game_record_test.teams[0].team_id"
   ]
  },
  {
   "cell_type": "code",
   "execution_count": 119,
   "metadata": {},
   "outputs": [],
   "source": [
    "def game_relevant_stats(session,gameTeam_record):\n",
    "    game_record = gameTeam_record.game\n",
    "    stats = []\n",
    "    for team in game_record.teams:\n",
    "        stats_dicts = [player.relevant_stats(game_record) for player in team.players(session)]\n",
    "        for stats_dict in stats_dicts:\n",
    "            if team.team_id==game_record.homeTeam_id:\n",
    "                stats_dict['home']=1\n",
    "            else:\n",
    "                stats_dict['home']=0\n",
    "        stats.append(stats_dicts)\n",
    "    return [item for sublist in stats for item in sublist]"
   ]
  },
  {
   "cell_type": "code",
   "execution_count": 120,
   "metadata": {},
   "outputs": [],
   "source": [
    "game_df = pd.DataFrame.from_dict(game_relevant_stats(session,gameTeam_record_test))"
   ]
  },
  {
   "cell_type": "code",
   "execution_count": 121,
   "metadata": {},
   "outputs": [
    {
     "data": {
      "text/html": [
       "<div>\n",
       "<style scoped>\n",
       "    .dataframe tbody tr th:only-of-type {\n",
       "        vertical-align: middle;\n",
       "    }\n",
       "\n",
       "    .dataframe tbody tr th {\n",
       "        vertical-align: top;\n",
       "    }\n",
       "\n",
       "    .dataframe thead th {\n",
       "        text-align: right;\n",
       "    }\n",
       "</style>\n",
       "<table border=\"1\" class=\"dataframe\">\n",
       "  <thead>\n",
       "    <tr style=\"text-align: right;\">\n",
       "      <th></th>\n",
       "      <th>Position_type</th>\n",
       "      <th>PAs</th>\n",
       "      <th>hits</th>\n",
       "      <th>doubles</th>\n",
       "      <th>triples</th>\n",
       "      <th>home_runs</th>\n",
       "      <th>walks</th>\n",
       "      <th>home</th>\n",
       "    </tr>\n",
       "  </thead>\n",
       "  <tbody>\n",
       "    <tr>\n",
       "      <td>0</td>\n",
       "      <td>Pitcher</td>\n",
       "      <td>135</td>\n",
       "      <td>33</td>\n",
       "      <td>4</td>\n",
       "      <td>0</td>\n",
       "      <td>3</td>\n",
       "      <td>9</td>\n",
       "      <td>1</td>\n",
       "    </tr>\n",
       "    <tr>\n",
       "      <td>1</td>\n",
       "      <td>Outfielder</td>\n",
       "      <td>199</td>\n",
       "      <td>43</td>\n",
       "      <td>8</td>\n",
       "      <td>0</td>\n",
       "      <td>10</td>\n",
       "      <td>14</td>\n",
       "      <td>1</td>\n",
       "    </tr>\n",
       "    <tr>\n",
       "      <td>2</td>\n",
       "      <td>Outfielder</td>\n",
       "      <td>217</td>\n",
       "      <td>43</td>\n",
       "      <td>4</td>\n",
       "      <td>0</td>\n",
       "      <td>10</td>\n",
       "      <td>12</td>\n",
       "      <td>1</td>\n",
       "    </tr>\n",
       "    <tr>\n",
       "      <td>3</td>\n",
       "      <td>Pitcher</td>\n",
       "      <td>96</td>\n",
       "      <td>17</td>\n",
       "      <td>2</td>\n",
       "      <td>0</td>\n",
       "      <td>2</td>\n",
       "      <td>10</td>\n",
       "      <td>1</td>\n",
       "    </tr>\n",
       "    <tr>\n",
       "      <td>4</td>\n",
       "      <td>Outfielder</td>\n",
       "      <td>131</td>\n",
       "      <td>32</td>\n",
       "      <td>6</td>\n",
       "      <td>2</td>\n",
       "      <td>4</td>\n",
       "      <td>12</td>\n",
       "      <td>1</td>\n",
       "    </tr>\n",
       "    <tr>\n",
       "      <td>5</td>\n",
       "      <td>Infielder</td>\n",
       "      <td>225</td>\n",
       "      <td>48</td>\n",
       "      <td>9</td>\n",
       "      <td>1</td>\n",
       "      <td>4</td>\n",
       "      <td>24</td>\n",
       "      <td>1</td>\n",
       "    </tr>\n",
       "    <tr>\n",
       "      <td>6</td>\n",
       "      <td>Pitcher</td>\n",
       "      <td>77</td>\n",
       "      <td>18</td>\n",
       "      <td>4</td>\n",
       "      <td>0</td>\n",
       "      <td>3</td>\n",
       "      <td>10</td>\n",
       "      <td>1</td>\n",
       "    </tr>\n",
       "    <tr>\n",
       "      <td>7</td>\n",
       "      <td>Pitcher</td>\n",
       "      <td>235</td>\n",
       "      <td>55</td>\n",
       "      <td>11</td>\n",
       "      <td>1</td>\n",
       "      <td>14</td>\n",
       "      <td>16</td>\n",
       "      <td>1</td>\n",
       "    </tr>\n",
       "    <tr>\n",
       "      <td>8</td>\n",
       "      <td>Pitcher</td>\n",
       "      <td>110</td>\n",
       "      <td>24</td>\n",
       "      <td>8</td>\n",
       "      <td>0</td>\n",
       "      <td>4</td>\n",
       "      <td>6</td>\n",
       "      <td>1</td>\n",
       "    </tr>\n",
       "    <tr>\n",
       "      <td>9</td>\n",
       "      <td>Infielder</td>\n",
       "      <td>199</td>\n",
       "      <td>57</td>\n",
       "      <td>9</td>\n",
       "      <td>2</td>\n",
       "      <td>4</td>\n",
       "      <td>7</td>\n",
       "      <td>1</td>\n",
       "    </tr>\n",
       "    <tr>\n",
       "      <td>10</td>\n",
       "      <td>Catcher</td>\n",
       "      <td>95</td>\n",
       "      <td>24</td>\n",
       "      <td>6</td>\n",
       "      <td>0</td>\n",
       "      <td>2</td>\n",
       "      <td>7</td>\n",
       "      <td>1</td>\n",
       "    </tr>\n",
       "    <tr>\n",
       "      <td>11</td>\n",
       "      <td>Pitcher</td>\n",
       "      <td>233</td>\n",
       "      <td>46</td>\n",
       "      <td>8</td>\n",
       "      <td>1</td>\n",
       "      <td>4</td>\n",
       "      <td>21</td>\n",
       "      <td>1</td>\n",
       "    </tr>\n",
       "    <tr>\n",
       "      <td>12</td>\n",
       "      <td>Infielder</td>\n",
       "      <td>174</td>\n",
       "      <td>33</td>\n",
       "      <td>4</td>\n",
       "      <td>0</td>\n",
       "      <td>5</td>\n",
       "      <td>10</td>\n",
       "      <td>1</td>\n",
       "    </tr>\n",
       "    <tr>\n",
       "      <td>13</td>\n",
       "      <td>Pitcher</td>\n",
       "      <td>109</td>\n",
       "      <td>26</td>\n",
       "      <td>6</td>\n",
       "      <td>2</td>\n",
       "      <td>2</td>\n",
       "      <td>6</td>\n",
       "      <td>1</td>\n",
       "    </tr>\n",
       "    <tr>\n",
       "      <td>14</td>\n",
       "      <td>Pitcher</td>\n",
       "      <td>271</td>\n",
       "      <td>62</td>\n",
       "      <td>13</td>\n",
       "      <td>1</td>\n",
       "      <td>4</td>\n",
       "      <td>24</td>\n",
       "      <td>1</td>\n",
       "    </tr>\n",
       "    <tr>\n",
       "      <td>15</td>\n",
       "      <td>Outfielder</td>\n",
       "      <td>27</td>\n",
       "      <td>5</td>\n",
       "      <td>1</td>\n",
       "      <td>0</td>\n",
       "      <td>0</td>\n",
       "      <td>3</td>\n",
       "      <td>1</td>\n",
       "    </tr>\n",
       "    <tr>\n",
       "      <td>16</td>\n",
       "      <td>Infielder</td>\n",
       "      <td>149</td>\n",
       "      <td>34</td>\n",
       "      <td>2</td>\n",
       "      <td>1</td>\n",
       "      <td>17</td>\n",
       "      <td>13</td>\n",
       "      <td>1</td>\n",
       "    </tr>\n",
       "    <tr>\n",
       "      <td>17</td>\n",
       "      <td>Catcher</td>\n",
       "      <td>149</td>\n",
       "      <td>26</td>\n",
       "      <td>3</td>\n",
       "      <td>0</td>\n",
       "      <td>5</td>\n",
       "      <td>17</td>\n",
       "      <td>1</td>\n",
       "    </tr>\n",
       "    <tr>\n",
       "      <td>18</td>\n",
       "      <td>Infielder</td>\n",
       "      <td>80</td>\n",
       "      <td>16</td>\n",
       "      <td>3</td>\n",
       "      <td>0</td>\n",
       "      <td>5</td>\n",
       "      <td>3</td>\n",
       "      <td>1</td>\n",
       "    </tr>\n",
       "    <tr>\n",
       "      <td>19</td>\n",
       "      <td>Infielder</td>\n",
       "      <td>243</td>\n",
       "      <td>58</td>\n",
       "      <td>12</td>\n",
       "      <td>0</td>\n",
       "      <td>14</td>\n",
       "      <td>24</td>\n",
       "      <td>1</td>\n",
       "    </tr>\n",
       "    <tr>\n",
       "      <td>20</td>\n",
       "      <td>Pitcher</td>\n",
       "      <td>256</td>\n",
       "      <td>63</td>\n",
       "      <td>12</td>\n",
       "      <td>0</td>\n",
       "      <td>11</td>\n",
       "      <td>14</td>\n",
       "      <td>1</td>\n",
       "    </tr>\n",
       "    <tr>\n",
       "      <td>21</td>\n",
       "      <td>Pitcher</td>\n",
       "      <td>283</td>\n",
       "      <td>45</td>\n",
       "      <td>6</td>\n",
       "      <td>0</td>\n",
       "      <td>5</td>\n",
       "      <td>32</td>\n",
       "      <td>1</td>\n",
       "    </tr>\n",
       "    <tr>\n",
       "      <td>22</td>\n",
       "      <td>Pitcher</td>\n",
       "      <td>101</td>\n",
       "      <td>21</td>\n",
       "      <td>4</td>\n",
       "      <td>0</td>\n",
       "      <td>3</td>\n",
       "      <td>8</td>\n",
       "      <td>1</td>\n",
       "    </tr>\n",
       "    <tr>\n",
       "      <td>23</td>\n",
       "      <td>Pitcher</td>\n",
       "      <td>82</td>\n",
       "      <td>17</td>\n",
       "      <td>2</td>\n",
       "      <td>0</td>\n",
       "      <td>4</td>\n",
       "      <td>5</td>\n",
       "      <td>1</td>\n",
       "    </tr>\n",
       "    <tr>\n",
       "      <td>24</td>\n",
       "      <td>Pitcher</td>\n",
       "      <td>20</td>\n",
       "      <td>3</td>\n",
       "      <td>0</td>\n",
       "      <td>0</td>\n",
       "      <td>1</td>\n",
       "      <td>0</td>\n",
       "      <td>1</td>\n",
       "    </tr>\n",
       "    <tr>\n",
       "      <td>25</td>\n",
       "      <td>Outfielder</td>\n",
       "      <td>64</td>\n",
       "      <td>13</td>\n",
       "      <td>5</td>\n",
       "      <td>0</td>\n",
       "      <td>0</td>\n",
       "      <td>7</td>\n",
       "      <td>0</td>\n",
       "    </tr>\n",
       "    <tr>\n",
       "      <td>26</td>\n",
       "      <td>Pitcher</td>\n",
       "      <td>84</td>\n",
       "      <td>18</td>\n",
       "      <td>7</td>\n",
       "      <td>0</td>\n",
       "      <td>2</td>\n",
       "      <td>5</td>\n",
       "      <td>0</td>\n",
       "    </tr>\n",
       "    <tr>\n",
       "      <td>27</td>\n",
       "      <td>Pitcher</td>\n",
       "      <td>105</td>\n",
       "      <td>22</td>\n",
       "      <td>7</td>\n",
       "      <td>0</td>\n",
       "      <td>3</td>\n",
       "      <td>6</td>\n",
       "      <td>0</td>\n",
       "    </tr>\n",
       "    <tr>\n",
       "      <td>28</td>\n",
       "      <td>Outfielder</td>\n",
       "      <td>257</td>\n",
       "      <td>59</td>\n",
       "      <td>6</td>\n",
       "      <td>2</td>\n",
       "      <td>5</td>\n",
       "      <td>24</td>\n",
       "      <td>0</td>\n",
       "    </tr>\n",
       "    <tr>\n",
       "      <td>29</td>\n",
       "      <td>Pitcher</td>\n",
       "      <td>309</td>\n",
       "      <td>64</td>\n",
       "      <td>11</td>\n",
       "      <td>0</td>\n",
       "      <td>9</td>\n",
       "      <td>21</td>\n",
       "      <td>0</td>\n",
       "    </tr>\n",
       "    <tr>\n",
       "      <td>30</td>\n",
       "      <td>Outfielder</td>\n",
       "      <td>211</td>\n",
       "      <td>53</td>\n",
       "      <td>12</td>\n",
       "      <td>1</td>\n",
       "      <td>10</td>\n",
       "      <td>29</td>\n",
       "      <td>0</td>\n",
       "    </tr>\n",
       "    <tr>\n",
       "      <td>31</td>\n",
       "      <td>Catcher</td>\n",
       "      <td>140</td>\n",
       "      <td>29</td>\n",
       "      <td>6</td>\n",
       "      <td>0</td>\n",
       "      <td>2</td>\n",
       "      <td>11</td>\n",
       "      <td>0</td>\n",
       "    </tr>\n",
       "    <tr>\n",
       "      <td>32</td>\n",
       "      <td>Pitcher</td>\n",
       "      <td>221</td>\n",
       "      <td>47</td>\n",
       "      <td>11</td>\n",
       "      <td>3</td>\n",
       "      <td>6</td>\n",
       "      <td>21</td>\n",
       "      <td>0</td>\n",
       "    </tr>\n",
       "    <tr>\n",
       "      <td>33</td>\n",
       "      <td>Pitcher</td>\n",
       "      <td>105</td>\n",
       "      <td>25</td>\n",
       "      <td>3</td>\n",
       "      <td>1</td>\n",
       "      <td>3</td>\n",
       "      <td>6</td>\n",
       "      <td>0</td>\n",
       "    </tr>\n",
       "    <tr>\n",
       "      <td>34</td>\n",
       "      <td>Catcher</td>\n",
       "      <td>109</td>\n",
       "      <td>27</td>\n",
       "      <td>4</td>\n",
       "      <td>0</td>\n",
       "      <td>5</td>\n",
       "      <td>5</td>\n",
       "      <td>0</td>\n",
       "    </tr>\n",
       "    <tr>\n",
       "      <td>35</td>\n",
       "      <td>Infielder</td>\n",
       "      <td>190</td>\n",
       "      <td>51</td>\n",
       "      <td>18</td>\n",
       "      <td>2</td>\n",
       "      <td>10</td>\n",
       "      <td>21</td>\n",
       "      <td>0</td>\n",
       "    </tr>\n",
       "    <tr>\n",
       "      <td>36</td>\n",
       "      <td>Pitcher</td>\n",
       "      <td>314</td>\n",
       "      <td>58</td>\n",
       "      <td>6</td>\n",
       "      <td>2</td>\n",
       "      <td>7</td>\n",
       "      <td>18</td>\n",
       "      <td>0</td>\n",
       "    </tr>\n",
       "    <tr>\n",
       "      <td>37</td>\n",
       "      <td>Pitcher</td>\n",
       "      <td>105</td>\n",
       "      <td>27</td>\n",
       "      <td>5</td>\n",
       "      <td>0</td>\n",
       "      <td>5</td>\n",
       "      <td>9</td>\n",
       "      <td>0</td>\n",
       "    </tr>\n",
       "    <tr>\n",
       "      <td>38</td>\n",
       "      <td>Infielder</td>\n",
       "      <td>205</td>\n",
       "      <td>39</td>\n",
       "      <td>6</td>\n",
       "      <td>0</td>\n",
       "      <td>8</td>\n",
       "      <td>21</td>\n",
       "      <td>0</td>\n",
       "    </tr>\n",
       "    <tr>\n",
       "      <td>39</td>\n",
       "      <td>Pitcher</td>\n",
       "      <td>28</td>\n",
       "      <td>3</td>\n",
       "      <td>1</td>\n",
       "      <td>0</td>\n",
       "      <td>1</td>\n",
       "      <td>4</td>\n",
       "      <td>0</td>\n",
       "    </tr>\n",
       "    <tr>\n",
       "      <td>40</td>\n",
       "      <td>Pitcher</td>\n",
       "      <td>48</td>\n",
       "      <td>14</td>\n",
       "      <td>1</td>\n",
       "      <td>0</td>\n",
       "      <td>3</td>\n",
       "      <td>2</td>\n",
       "      <td>0</td>\n",
       "    </tr>\n",
       "    <tr>\n",
       "      <td>41</td>\n",
       "      <td>Pitcher</td>\n",
       "      <td>103</td>\n",
       "      <td>21</td>\n",
       "      <td>5</td>\n",
       "      <td>0</td>\n",
       "      <td>2</td>\n",
       "      <td>10</td>\n",
       "      <td>0</td>\n",
       "    </tr>\n",
       "    <tr>\n",
       "      <td>42</td>\n",
       "      <td>Pitcher</td>\n",
       "      <td>49</td>\n",
       "      <td>11</td>\n",
       "      <td>2</td>\n",
       "      <td>0</td>\n",
       "      <td>0</td>\n",
       "      <td>4</td>\n",
       "      <td>0</td>\n",
       "    </tr>\n",
       "    <tr>\n",
       "      <td>43</td>\n",
       "      <td>Infielder</td>\n",
       "      <td>98</td>\n",
       "      <td>23</td>\n",
       "      <td>5</td>\n",
       "      <td>0</td>\n",
       "      <td>6</td>\n",
       "      <td>4</td>\n",
       "      <td>0</td>\n",
       "    </tr>\n",
       "    <tr>\n",
       "      <td>44</td>\n",
       "      <td>Outfielder</td>\n",
       "      <td>141</td>\n",
       "      <td>31</td>\n",
       "      <td>6</td>\n",
       "      <td>0</td>\n",
       "      <td>4</td>\n",
       "      <td>9</td>\n",
       "      <td>0</td>\n",
       "    </tr>\n",
       "    <tr>\n",
       "      <td>45</td>\n",
       "      <td>Infielder</td>\n",
       "      <td>85</td>\n",
       "      <td>22</td>\n",
       "      <td>5</td>\n",
       "      <td>1</td>\n",
       "      <td>2</td>\n",
       "      <td>4</td>\n",
       "      <td>0</td>\n",
       "    </tr>\n",
       "    <tr>\n",
       "      <td>46</td>\n",
       "      <td>Pitcher</td>\n",
       "      <td>112</td>\n",
       "      <td>31</td>\n",
       "      <td>8</td>\n",
       "      <td>0</td>\n",
       "      <td>5</td>\n",
       "      <td>8</td>\n",
       "      <td>0</td>\n",
       "    </tr>\n",
       "    <tr>\n",
       "      <td>47</td>\n",
       "      <td>Infielder</td>\n",
       "      <td>152</td>\n",
       "      <td>44</td>\n",
       "      <td>8</td>\n",
       "      <td>0</td>\n",
       "      <td>9</td>\n",
       "      <td>9</td>\n",
       "      <td>0</td>\n",
       "    </tr>\n",
       "    <tr>\n",
       "      <td>48</td>\n",
       "      <td>Outfielder</td>\n",
       "      <td>223</td>\n",
       "      <td>47</td>\n",
       "      <td>9</td>\n",
       "      <td>1</td>\n",
       "      <td>8</td>\n",
       "      <td>13</td>\n",
       "      <td>0</td>\n",
       "    </tr>\n",
       "    <tr>\n",
       "      <td>49</td>\n",
       "      <td>Pitcher</td>\n",
       "      <td>321</td>\n",
       "      <td>75</td>\n",
       "      <td>24</td>\n",
       "      <td>0</td>\n",
       "      <td>6</td>\n",
       "      <td>16</td>\n",
       "      <td>0</td>\n",
       "    </tr>\n",
       "  </tbody>\n",
       "</table>\n",
       "</div>"
      ],
      "text/plain": [
       "   Position_type  PAs  hits  doubles  triples  home_runs  walks  home\n",
       "0        Pitcher  135    33        4        0          3      9     1\n",
       "1     Outfielder  199    43        8        0         10     14     1\n",
       "2     Outfielder  217    43        4        0         10     12     1\n",
       "3        Pitcher   96    17        2        0          2     10     1\n",
       "4     Outfielder  131    32        6        2          4     12     1\n",
       "5      Infielder  225    48        9        1          4     24     1\n",
       "6        Pitcher   77    18        4        0          3     10     1\n",
       "7        Pitcher  235    55       11        1         14     16     1\n",
       "8        Pitcher  110    24        8        0          4      6     1\n",
       "9      Infielder  199    57        9        2          4      7     1\n",
       "10       Catcher   95    24        6        0          2      7     1\n",
       "11       Pitcher  233    46        8        1          4     21     1\n",
       "12     Infielder  174    33        4        0          5     10     1\n",
       "13       Pitcher  109    26        6        2          2      6     1\n",
       "14       Pitcher  271    62       13        1          4     24     1\n",
       "15    Outfielder   27     5        1        0          0      3     1\n",
       "16     Infielder  149    34        2        1         17     13     1\n",
       "17       Catcher  149    26        3        0          5     17     1\n",
       "18     Infielder   80    16        3        0          5      3     1\n",
       "19     Infielder  243    58       12        0         14     24     1\n",
       "20       Pitcher  256    63       12        0         11     14     1\n",
       "21       Pitcher  283    45        6        0          5     32     1\n",
       "22       Pitcher  101    21        4        0          3      8     1\n",
       "23       Pitcher   82    17        2        0          4      5     1\n",
       "24       Pitcher   20     3        0        0          1      0     1\n",
       "25    Outfielder   64    13        5        0          0      7     0\n",
       "26       Pitcher   84    18        7        0          2      5     0\n",
       "27       Pitcher  105    22        7        0          3      6     0\n",
       "28    Outfielder  257    59        6        2          5     24     0\n",
       "29       Pitcher  309    64       11        0          9     21     0\n",
       "30    Outfielder  211    53       12        1         10     29     0\n",
       "31       Catcher  140    29        6        0          2     11     0\n",
       "32       Pitcher  221    47       11        3          6     21     0\n",
       "33       Pitcher  105    25        3        1          3      6     0\n",
       "34       Catcher  109    27        4        0          5      5     0\n",
       "35     Infielder  190    51       18        2         10     21     0\n",
       "36       Pitcher  314    58        6        2          7     18     0\n",
       "37       Pitcher  105    27        5        0          5      9     0\n",
       "38     Infielder  205    39        6        0          8     21     0\n",
       "39       Pitcher   28     3        1        0          1      4     0\n",
       "40       Pitcher   48    14        1        0          3      2     0\n",
       "41       Pitcher  103    21        5        0          2     10     0\n",
       "42       Pitcher   49    11        2        0          0      4     0\n",
       "43     Infielder   98    23        5        0          6      4     0\n",
       "44    Outfielder  141    31        6        0          4      9     0\n",
       "45     Infielder   85    22        5        1          2      4     0\n",
       "46       Pitcher  112    31        8        0          5      8     0\n",
       "47     Infielder  152    44        8        0          9      9     0\n",
       "48    Outfielder  223    47        9        1          8     13     0\n",
       "49       Pitcher  321    75       24        0          6     16     0"
      ]
     },
     "execution_count": 121,
     "metadata": {},
     "output_type": "execute_result"
    }
   ],
   "source": [
    "game_df"
   ]
  },
  {
   "cell_type": "markdown",
   "metadata": {},
   "source": [
    "### Concatenate and average by team\n",
    "- home_starter.stats\n",
    "- home_bullpen.stats\n",
    "- home_length_pitcers.stats \n",
    "etc."
   ]
  },
  {
   "cell_type": "code",
   "execution_count": null,
   "metadata": {},
   "outputs": [],
   "source": []
  }
 ],
 "metadata": {
  "kernelspec": {
   "display_name": "Python 3",
   "language": "python",
   "name": "python3"
  },
  "language_info": {
   "codemirror_mode": {
    "name": "ipython",
    "version": 3
   },
   "file_extension": ".py",
   "mimetype": "text/x-python",
   "name": "python",
   "nbconvert_exporter": "python",
   "pygments_lexer": "ipython3",
   "version": "3.7.3"
  }
 },
 "nbformat": 4,
 "nbformat_minor": 2
}
