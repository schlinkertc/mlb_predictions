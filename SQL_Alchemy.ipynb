{
 "cells": [
  {
   "cell_type": "code",
   "execution_count": 41,
   "metadata": {},
   "outputs": [],
   "source": [
    "import config\n",
    "import sqlalchemy\n",
    "import functions\n",
    "import statsapi as mlb\n",
    "import sql_alch_schema\n",
    "from datetime import datetime"
   ]
  },
  {
   "cell_type": "code",
   "execution_count": 42,
   "metadata": {},
   "outputs": [],
   "source": [
    "from sqlalchemy.ext.declarative import declarative_base\n",
    "from sqlalchemy import Column, Integer, String,DateTime,Date,Time,Boolean\n",
    "from sqlalchemy import ForeignKey\n",
    "from sqlalchemy.orm import relationship\n",
    "from sqlalchemy.schema import Table\n",
    "from sqlalchemy import distinct"
   ]
  },
  {
   "cell_type": "code",
   "execution_count": 43,
   "metadata": {},
   "outputs": [],
   "source": [
    "_sql_alchemy_connection = (\n",
    "                                f'mysql+mysqlconnector://'\n",
    "                                f'{config.user}:{config.password}'\n",
    "                                f'@{config.host}:{config.port}'\n",
    "                                f'/{config.schema}'\n",
    "                           )\n",
    "## Create the engine \n",
    "db = sqlalchemy.create_engine(_sql_alchemy_connection,\n",
    "                              echo = False,\n",
    "                              connect_args = {'ssl_disabled' : True,})"
   ]
  },
  {
   "cell_type": "code",
   "execution_count": 50,
   "metadata": {},
   "outputs": [],
   "source": [
    "Base = sql_alch_schema.Base\n",
    "\n",
    "Game = sql_alch_schema.Game\n",
    "Play = sql_alch_schema.Play\n",
    "Team = sql_alch_schema.Team\n",
    "GameTeamLink = sql_alch_schema.GameTeamLink\n",
    "Person = sql_alch_schema.Person\n",
    "\n",
    "\n",
    "from sqlalchemy.orm import sessionmaker\n",
    "Session = sessionmaker(bind=db)\n",
    "session = Session()"
   ]
  },
  {
   "cell_type": "code",
   "execution_count": 51,
   "metadata": {},
   "outputs": [],
   "source": [
    "Base.metadata.create_all(db)"
   ]
  },
  {
   "cell_type": "markdown",
   "metadata": {},
   "source": [
    "A Game record queried from mysql has a .teams attribute that retuns two GameTeamLink records as shown below"
   ]
  },
  {
   "cell_type": "code",
   "execution_count": 6,
   "metadata": {},
   "outputs": [
    {
     "name": "stdout",
     "output_type": "stream",
     "text": [
      "<Game(pk='566086',id='2019/03/28/anamlb-oakmlb-1')>\n"
     ]
    }
   ],
   "source": [
    "test_gameId = '2019/03/28/anamlb-oakmlb-1'\n",
    "game_test = session.query(Game).filter_by(id=test_gameId).one()\n",
    "\n",
    "print(game_test)"
   ]
  },
  {
   "cell_type": "code",
   "execution_count": 7,
   "metadata": {},
   "outputs": [
    {
     "data": {
      "text/plain": [
       "[<GameTeam(game_id='2019/03/28/anamlb-oakmlb-1',team_id='108')>,\n",
       " <GameTeam(game_id='2019/03/28/anamlb-oakmlb-1',team_id='133')>]"
      ]
     },
     "execution_count": 7,
     "metadata": {},
     "output_type": "execute_result"
    }
   ],
   "source": [
    "game_test.teams"
   ]
  },
  {
   "cell_type": "code",
   "execution_count": 8,
   "metadata": {},
   "outputs": [],
   "source": [
    "play_test = session.query(Play).first()"
   ]
  },
  {
   "cell_type": "code",
   "execution_count": 9,
   "metadata": {},
   "outputs": [
    {
     "data": {
      "text/plain": [
       "<Game(pk='533881',id='2018/03/01/atlmlb-detmlb-1')>"
      ]
     },
     "execution_count": 9,
     "metadata": {},
     "output_type": "execute_result"
    }
   ],
   "source": [
    "play_test.game"
   ]
  },
  {
   "cell_type": "markdown",
   "metadata": {},
   "source": [
    "A game_team object can access the associated game record and team record as well as plays for that game"
   ]
  },
  {
   "cell_type": "code",
   "execution_count": 10,
   "metadata": {},
   "outputs": [
    {
     "name": "stdout",
     "output_type": "stream",
     "text": [
      "<GameTeam(game_id='2019/03/28/anamlb-oakmlb-1',team_id='108')> \n",
      "\n",
      "<Team(name='Los Angeles Angels')> \n",
      "\n",
      "405395 \n",
      "\n"
     ]
    },
    {
     "data": {
      "text/plain": [
       "[<Play(game_id='2019/03/28/anamlb-oakmlb-1',atBatIndex='0')>,\n",
       " <Play(game_id='2019/03/28/anamlb-oakmlb-1',atBatIndex='1')>,\n",
       " <Play(game_id='2019/03/28/anamlb-oakmlb-1',atBatIndex='10')>,\n",
       " <Play(game_id='2019/03/28/anamlb-oakmlb-1',atBatIndex='11')>,\n",
       " <Play(game_id='2019/03/28/anamlb-oakmlb-1',atBatIndex='12')>,\n",
       " <Play(game_id='2019/03/28/anamlb-oakmlb-1',atBatIndex='13')>,\n",
       " <Play(game_id='2019/03/28/anamlb-oakmlb-1',atBatIndex='14')>,\n",
       " <Play(game_id='2019/03/28/anamlb-oakmlb-1',atBatIndex='15')>,\n",
       " <Play(game_id='2019/03/28/anamlb-oakmlb-1',atBatIndex='16')>,\n",
       " <Play(game_id='2019/03/28/anamlb-oakmlb-1',atBatIndex='17')>,\n",
       " <Play(game_id='2019/03/28/anamlb-oakmlb-1',atBatIndex='18')>,\n",
       " <Play(game_id='2019/03/28/anamlb-oakmlb-1',atBatIndex='19')>,\n",
       " <Play(game_id='2019/03/28/anamlb-oakmlb-1',atBatIndex='2')>,\n",
       " <Play(game_id='2019/03/28/anamlb-oakmlb-1',atBatIndex='20')>,\n",
       " <Play(game_id='2019/03/28/anamlb-oakmlb-1',atBatIndex='21')>,\n",
       " <Play(game_id='2019/03/28/anamlb-oakmlb-1',atBatIndex='22')>,\n",
       " <Play(game_id='2019/03/28/anamlb-oakmlb-1',atBatIndex='23')>,\n",
       " <Play(game_id='2019/03/28/anamlb-oakmlb-1',atBatIndex='24')>,\n",
       " <Play(game_id='2019/03/28/anamlb-oakmlb-1',atBatIndex='25')>,\n",
       " <Play(game_id='2019/03/28/anamlb-oakmlb-1',atBatIndex='26')>,\n",
       " <Play(game_id='2019/03/28/anamlb-oakmlb-1',atBatIndex='27')>,\n",
       " <Play(game_id='2019/03/28/anamlb-oakmlb-1',atBatIndex='28')>,\n",
       " <Play(game_id='2019/03/28/anamlb-oakmlb-1',atBatIndex='29')>,\n",
       " <Play(game_id='2019/03/28/anamlb-oakmlb-1',atBatIndex='3')>,\n",
       " <Play(game_id='2019/03/28/anamlb-oakmlb-1',atBatIndex='30')>,\n",
       " <Play(game_id='2019/03/28/anamlb-oakmlb-1',atBatIndex='31')>,\n",
       " <Play(game_id='2019/03/28/anamlb-oakmlb-1',atBatIndex='32')>,\n",
       " <Play(game_id='2019/03/28/anamlb-oakmlb-1',atBatIndex='33')>,\n",
       " <Play(game_id='2019/03/28/anamlb-oakmlb-1',atBatIndex='34')>,\n",
       " <Play(game_id='2019/03/28/anamlb-oakmlb-1',atBatIndex='35')>,\n",
       " <Play(game_id='2019/03/28/anamlb-oakmlb-1',atBatIndex='36')>,\n",
       " <Play(game_id='2019/03/28/anamlb-oakmlb-1',atBatIndex='37')>,\n",
       " <Play(game_id='2019/03/28/anamlb-oakmlb-1',atBatIndex='38')>,\n",
       " <Play(game_id='2019/03/28/anamlb-oakmlb-1',atBatIndex='39')>,\n",
       " <Play(game_id='2019/03/28/anamlb-oakmlb-1',atBatIndex='4')>,\n",
       " <Play(game_id='2019/03/28/anamlb-oakmlb-1',atBatIndex='40')>,\n",
       " <Play(game_id='2019/03/28/anamlb-oakmlb-1',atBatIndex='41')>,\n",
       " <Play(game_id='2019/03/28/anamlb-oakmlb-1',atBatIndex='42')>,\n",
       " <Play(game_id='2019/03/28/anamlb-oakmlb-1',atBatIndex='43')>,\n",
       " <Play(game_id='2019/03/28/anamlb-oakmlb-1',atBatIndex='44')>,\n",
       " <Play(game_id='2019/03/28/anamlb-oakmlb-1',atBatIndex='45')>,\n",
       " <Play(game_id='2019/03/28/anamlb-oakmlb-1',atBatIndex='46')>,\n",
       " <Play(game_id='2019/03/28/anamlb-oakmlb-1',atBatIndex='47')>,\n",
       " <Play(game_id='2019/03/28/anamlb-oakmlb-1',atBatIndex='48')>,\n",
       " <Play(game_id='2019/03/28/anamlb-oakmlb-1',atBatIndex='49')>,\n",
       " <Play(game_id='2019/03/28/anamlb-oakmlb-1',atBatIndex='5')>,\n",
       " <Play(game_id='2019/03/28/anamlb-oakmlb-1',atBatIndex='50')>,\n",
       " <Play(game_id='2019/03/28/anamlb-oakmlb-1',atBatIndex='51')>,\n",
       " <Play(game_id='2019/03/28/anamlb-oakmlb-1',atBatIndex='52')>,\n",
       " <Play(game_id='2019/03/28/anamlb-oakmlb-1',atBatIndex='53')>,\n",
       " <Play(game_id='2019/03/28/anamlb-oakmlb-1',atBatIndex='54')>,\n",
       " <Play(game_id='2019/03/28/anamlb-oakmlb-1',atBatIndex='55')>,\n",
       " <Play(game_id='2019/03/28/anamlb-oakmlb-1',atBatIndex='56')>,\n",
       " <Play(game_id='2019/03/28/anamlb-oakmlb-1',atBatIndex='57')>,\n",
       " <Play(game_id='2019/03/28/anamlb-oakmlb-1',atBatIndex='58')>,\n",
       " <Play(game_id='2019/03/28/anamlb-oakmlb-1',atBatIndex='59')>,\n",
       " <Play(game_id='2019/03/28/anamlb-oakmlb-1',atBatIndex='6')>,\n",
       " <Play(game_id='2019/03/28/anamlb-oakmlb-1',atBatIndex='60')>,\n",
       " <Play(game_id='2019/03/28/anamlb-oakmlb-1',atBatIndex='61')>,\n",
       " <Play(game_id='2019/03/28/anamlb-oakmlb-1',atBatIndex='62')>,\n",
       " <Play(game_id='2019/03/28/anamlb-oakmlb-1',atBatIndex='63')>,\n",
       " <Play(game_id='2019/03/28/anamlb-oakmlb-1',atBatIndex='64')>,\n",
       " <Play(game_id='2019/03/28/anamlb-oakmlb-1',atBatIndex='7')>,\n",
       " <Play(game_id='2019/03/28/anamlb-oakmlb-1',atBatIndex='8')>,\n",
       " <Play(game_id='2019/03/28/anamlb-oakmlb-1',atBatIndex='9')>]"
      ]
     },
     "execution_count": 10,
     "metadata": {},
     "output_type": "execute_result"
    }
   ],
   "source": [
    "game_team_test = game_test.teams[0]\n",
    "\n",
    "print(game_team_test,'\\n')\n",
    "print(game_team_test.team,'\\n')\n",
    "print(game_team_test.player_1_id,'\\n')\n",
    "game_team_test.game.plays"
   ]
  },
  {
   "cell_type": "markdown",
   "metadata": {},
   "source": [
    "we can also access players through a game_team_object"
   ]
  },
  {
   "cell_type": "code",
   "execution_count": 11,
   "metadata": {},
   "outputs": [
    {
     "data": {
      "text/plain": [
       "True"
      ]
     },
     "execution_count": 11,
     "metadata": {},
     "output_type": "execute_result"
    }
   ],
   "source": [
    "[x for x in game_team_test.players()]==[x for x in game_team_test.players()][0:None]"
   ]
  },
  {
   "cell_type": "code",
   "execution_count": 12,
   "metadata": {},
   "outputs": [
    {
     "data": {
      "text/plain": [
       "<generator object players at 0x107ac10c0>"
      ]
     },
     "execution_count": 12,
     "metadata": {},
     "output_type": "execute_result"
    }
   ],
   "source": [
    "game_test.teams[0].players()"
   ]
  },
  {
   "cell_type": "markdown",
   "metadata": {},
   "source": [
    "## Player's Table "
   ]
  },
  {
   "cell_type": "code",
   "execution_count": 13,
   "metadata": {},
   "outputs": [],
   "source": [
    "mike_trout_id = 545361\n",
    "mike_trout = mlb.get('person',{'personId':mike_trout_id})"
   ]
  },
  {
   "cell_type": "code",
   "execution_count": 14,
   "metadata": {},
   "outputs": [],
   "source": [
    "\n",
    "all_players = {item for sublist in [g.all_players() for g in session.query(Game).all()] for item in sublist}"
   ]
  },
  {
   "cell_type": "code",
   "execution_count": 15,
   "metadata": {},
   "outputs": [],
   "source": [
    "players_list_test = list(all_players)[:50]\n",
    "#players_list_test"
   ]
  },
  {
   "cell_type": "code",
   "execution_count": 16,
   "metadata": {},
   "outputs": [
    {
     "data": {
      "text/plain": [
       "{'id': 545361,\n",
       " 'fullName': 'Mike Trout',\n",
       " 'link': '/api/v1/people/545361',\n",
       " 'firstName': 'Michael',\n",
       " 'lastName': 'Trout',\n",
       " 'primaryNumber': '27',\n",
       " 'birthDate': '1991-08-07',\n",
       " 'currentAge': 28,\n",
       " 'birthCity': 'Vineland',\n",
       " 'birthStateProvince': 'NJ',\n",
       " 'birthCountry': 'USA',\n",
       " 'height': \"6' 2\",\n",
       " 'weight': 235,\n",
       " 'active': True,\n",
       " 'primaryPosition': {'code': '8',\n",
       "  'name': 'Outfielder',\n",
       "  'type': 'Outfielder',\n",
       "  'abbreviation': 'CF'},\n",
       " 'useName': 'Mike',\n",
       " 'middleName': 'Nelson',\n",
       " 'boxscoreName': 'Trout',\n",
       " 'nickName': 'Kiiiiid',\n",
       " 'gender': 'M',\n",
       " 'isPlayer': True,\n",
       " 'isVerified': True,\n",
       " 'draftYear': 2009,\n",
       " 'mlbDebutDate': '2011-07-08',\n",
       " 'batSide': {'code': 'R', 'description': 'Right'},\n",
       " 'pitchHand': {'code': 'R', 'description': 'Right'},\n",
       " 'nameFirstLast': 'Mike Trout',\n",
       " 'nameSlug': 'mike-trout-545361',\n",
       " 'firstLastName': 'Mike Trout',\n",
       " 'lastFirstName': 'Trout, Mike',\n",
       " 'lastInitName': 'Trout, M',\n",
       " 'initLastName': 'M Trout',\n",
       " 'fullFMLName': 'Michael Nelson Trout',\n",
       " 'fullLFMName': 'Trout, Michael Nelson',\n",
       " 'strikeZoneTop': 3.44,\n",
       " 'strikeZoneBottom': 1.65}"
      ]
     },
     "execution_count": 16,
     "metadata": {},
     "output_type": "execute_result"
    }
   ],
   "source": [
    "mike_trout['people'][0]"
   ]
  },
  {
   "cell_type": "code",
   "execution_count": 17,
   "metadata": {},
   "outputs": [],
   "source": [
    "# from sqlalchemy import Float\n",
    "\n",
    "# class Person(Base):\n",
    "#     __tablename__ = 'games'\n",
    "#     __table_args__ = {'extend_existing': True}\n",
    "    \n",
    "#     id = Column(Integer, primary_key=True)\n",
    "#     fullName = Column(String(25))\n",
    "#     firstName = Column(String(25))\n",
    "#     lastName = Column(String(25))\n",
    "#     primaryNumber = Column(Integer)\n",
    "#     birthDate = Column(DateTime)\n",
    "#     currentAge = Column(Integer)\n",
    "#     birthCity = Column(String(25))\n",
    "#     birthCountry = Column(String(25))\n",
    "#     height = Column(String(25))\n",
    "#     weight = Column(Integer)\n",
    "#     active = Column(Boolean)\n",
    "#     primaryPosition_code = Column(String(10))\n",
    "#     primaryPosition_name = Column(String(25))\n",
    "#     primaryPosition_type = Column(String(25))\n",
    "#     primaryPosition_abbreviation = Column(String(25))\n",
    "#     gender = Column(String(5))\n",
    "#     isPlayer = Column(Boolean)\n",
    "#     isVerified = Column(Boolean)\n",
    "#     draftYear = Column(DateTime)\n",
    "#     mlbDebutDate = Column(DateTime)\n",
    "#     batSide = Column(String(10))\n",
    "#     pitchHand = Column(String(10))\n",
    "#     nameSlug = Column(String(30))\n",
    "#     fullFMLName = Column(String(50))\n",
    "#     strikeZoneTop = Column(Float)\n",
    "#     strikeZoneBottom = Column(Float)\n",
    "    \n",
    "#     def __repr__(self):\n",
    "#         return \"<Person(nameSlug='%s')>\" % self.nameSlug"
   ]
  },
  {
   "cell_type": "code",
   "execution_count": 65,
   "metadata": {},
   "outputs": [],
   "source": [
    "def create_personRecord(personId):\n",
    "    api_call = mlb.get('person',{'personId':personId})\n",
    "\n",
    "    person = api_call['people'][0]\n",
    "    person['birthDate'] = person.get('birthDate','1900-01-01')\n",
    "\n",
    "    \n",
    "    person_record = Person(id=person.get('id','null'),\n",
    "                           fullName=person.get('fullName','null'),\n",
    "                           firstName=person.get('firstName','null'),\n",
    "                           lastName=person.get('lastName','null'),\n",
    "                           primaryNumber=person.get('primaryNumber','null'),\n",
    "                           birthDate=datetime.strptime(person.get('birthDate','1900-01-01'),'%Y-%m-%d'),\n",
    "                           currentAge=person.get('currentAge','null'),\n",
    "                           birthCity=person.get('birthCity','null'),\n",
    "                           birthCountry=person.get('birthCountry','null'),\n",
    "                           height=person.get('height','null'),\n",
    "                           weight=person.get('weight','null'),\n",
    "                           active=person.get('active','null'),\n",
    "                           primaryPosition_code=person.get('primaryPosition',{'code':'null'})['code'],\n",
    "                           primaryPosition_name=person.get('primaryPosition',{'name':'null'})['name'],\n",
    "                           primaryPosition_type=person.get('primaryPosition',{'type':'null'})['type'],\n",
    "                           primaryPosition_abbreviation=person.get('primaryPosition',{'abbreviation':'null'})['abbreviation'],\n",
    "                           gender=person.get('gender','null'),\n",
    "                           isPlayer=person.get('isPlayer','null'),\n",
    "                           isVerified=person.get('isVerified','null'),\n",
    "                           draftYear=person.get('draftYear','null'),\n",
    "                           mlbDebutDate=datetime.strptime(person.get('mlbDebutDate','1900-01-01'),'%Y-%m-%d'),\n",
    "                           batSide=person.get('batSide',{'description':'null'})['description'],\n",
    "                           pitchHand=person.get('pitchHand',{'description':'null'})['description'],\n",
    "                           nameSlug=person.get('nameSlug','null'),\n",
    "                           fullFMLName=person.get('fullFMLName','null'),\n",
    "                           strikeZoneTop=person.get('strikeZoneTop','null'),\n",
    "                           strikeZoneBottom=person.get('strikeZoneBottom','null'),\n",
    "                          )\n",
    "    return person_record"
   ]
  },
  {
   "cell_type": "code",
   "execution_count": 66,
   "metadata": {},
   "outputs": [],
   "source": [
    "mike_trout_record = create_personRecord(mike_trout_id)"
   ]
  },
  {
   "cell_type": "code",
   "execution_count": 67,
   "metadata": {},
   "outputs": [
    {
     "data": {
      "text/plain": [
       "1.65"
      ]
     },
     "execution_count": 67,
     "metadata": {},
     "output_type": "execute_result"
    }
   ],
   "source": [
    "mike_trout_record.strikeZoneBottom"
   ]
  },
  {
   "cell_type": "code",
   "execution_count": 77,
   "metadata": {},
   "outputs": [],
   "source": [
    "session.add(mike_trout_record)"
   ]
  },
  {
   "cell_type": "code",
   "execution_count": 78,
   "metadata": {},
   "outputs": [],
   "source": [
    "session.commit()"
   ]
  },
  {
   "cell_type": "code",
   "execution_count": 80,
   "metadata": {},
   "outputs": [
    {
     "data": {
      "text/plain": [
       "[(545361)]"
      ]
     },
     "execution_count": 80,
     "metadata": {},
     "output_type": "execute_result"
    }
   ],
   "source": [
    "session.query(Person.id).all()"
   ]
  },
  {
   "cell_type": "code",
   "execution_count": 95,
   "metadata": {},
   "outputs": [],
   "source": [
    "def chunk(n,list_to_chunk):\n",
    "    return [ list_to_chunk[i:i+n] for i in range(0,len(list_to_chunk),n) ]\n",
    "\n",
    "def create_addPerson(session,personIds,chunk_size=50):\n",
    "    already_added = [item for sublist in session.query(Person.id).all() for item in sublist]\n",
    "    records=[]\n",
    "    \n",
    "    people_to_get = [person for person in personIds if person not in already_added]\n",
    "    \n",
    "    list_of_chunks = chunk(chunk_size,people_to_get)\n",
    "    count=1\n",
    "    \n",
    "    for _chunk in list_of_chunks:\n",
    "        try:\n",
    "            print(f'starting chunk {count} out of {len(list_of_chunks)}')\n",
    "            records = [create_personRecord(x) for x in _chunk]\n",
    "            session.add_all(records)\n",
    "            session.commit()\n",
    "            count+=1\n",
    "        except:\n",
    "            print('chunk failed. rolling back session and trying the next chunk')\n",
    "            session.rollback()\n",
    "            count+=1\n",
    "            continue"
   ]
  },
  {
   "cell_type": "code",
   "execution_count": 96,
   "metadata": {
    "scrolled": true
   },
   "outputs": [
    {
     "name": "stdout",
     "output_type": "stream",
     "text": [
      "starting chunk 1 out of 35\n",
      "starting chunk 2 out of 35\n",
      "starting chunk 3 out of 35\n",
      "starting chunk 4 out of 35\n",
      "starting chunk 5 out of 35\n",
      "starting chunk 6 out of 35\n",
      "starting chunk 7 out of 35\n",
      "starting chunk 8 out of 35\n",
      "starting chunk 9 out of 35\n",
      "starting chunk 10 out of 35\n",
      "starting chunk 11 out of 35\n",
      "starting chunk 12 out of 35\n",
      "starting chunk 13 out of 35\n",
      "starting chunk 14 out of 35\n",
      "starting chunk 15 out of 35\n",
      "starting chunk 16 out of 35\n",
      "starting chunk 17 out of 35\n",
      "starting chunk 18 out of 35\n",
      "starting chunk 19 out of 35\n",
      "starting chunk 20 out of 35\n",
      "starting chunk 21 out of 35\n",
      "starting chunk 22 out of 35\n",
      "starting chunk 23 out of 35\n",
      "starting chunk 24 out of 35\n",
      "starting chunk 25 out of 35\n",
      "starting chunk 26 out of 35\n",
      "starting chunk 27 out of 35\n",
      "starting chunk 28 out of 35\n",
      "starting chunk 29 out of 35\n",
      "starting chunk 30 out of 35\n",
      "starting chunk 31 out of 35\n",
      "starting chunk 32 out of 35\n",
      "starting chunk 33 out of 35\n",
      "starting chunk 34 out of 35\n",
      "starting chunk 35 out of 35\n"
     ]
    }
   ],
   "source": [
    "create_addPerson(session,all_players)"
   ]
  },
  {
   "cell_type": "markdown",
   "metadata": {},
   "source": [
    "## Let's find some player stats\n",
    "Eventually, we want team stats. But lets start with a single player"
   ]
  },
  {
   "cell_type": "code",
   "execution_count": 21,
   "metadata": {},
   "outputs": [],
   "source": [
    "# look at all possible values for the event from a play \n",
    "play_events = [item for sublist in session.query(distinct(Play.event)).all() for item in sublist]"
   ]
  },
  {
   "cell_type": "code",
   "execution_count": 22,
   "metadata": {},
   "outputs": [
    {
     "data": {
      "text/plain": [
       "['Double',\n",
       " 'Hit By Pitch',\n",
       " 'Strikeout',\n",
       " 'Lineout',\n",
       " 'Home Run',\n",
       " 'Flyout',\n",
       " 'Groundout',\n",
       " 'Single',\n",
       " 'Pop Out',\n",
       " 'Forceout',\n",
       " 'Field Error',\n",
       " 'Double Play',\n",
       " 'Sac Fly',\n",
       " 'Walk',\n",
       " 'Bunt Groundout',\n",
       " 'Triple',\n",
       " 'Grounded Into DP',\n",
       " 'Caught Stealing 2B',\n",
       " 'Sac Bunt',\n",
       " 'Strikeout Double Play',\n",
       " 'Catcher Interference',\n",
       " 'Fielders Choice',\n",
       " 'Fielders Choice Out',\n",
       " 'Runner Out',\n",
       " 'Batter Interference',\n",
       " 'Fan Interference',\n",
       " 'Intent Walk',\n",
       " 'Sac Fly Double Play',\n",
       " 'Pickoff 1B',\n",
       " 'Bunt Pop Out',\n",
       " 'Pickoff Caught Stealing 2',\n",
       " 'Caught Stealing Home',\n",
       " 'Bunt Lineout',\n",
       " 'Game Advisory',\n",
       " 'Batter Out',\n",
       " 'Pickoff Caught Stealing 3',\n",
       " 'Caught Stealing 3B',\n",
       " 'Pickoff Caught Stealing H',\n",
       " 'Runner Double Play',\n",
       " 'Pickoff 2B',\n",
       " 'Wild Pitch',\n",
       " 'Pickoff 3B',\n",
       " 'Triple Play',\n",
       " 'Sac Bunt Double Play',\n",
       " 'Passed Ball',\n",
       " 'Stolen Base 2B',\n",
       " 'Pickoff Error 1B']"
      ]
     },
     "execution_count": 22,
     "metadata": {},
     "output_type": "execute_result"
    }
   ],
   "source": [
    "play_events"
   ]
  },
  {
   "cell_type": "code",
   "execution_count": 23,
   "metadata": {},
   "outputs": [],
   "source": [
    "hits = [\n",
    "    'Single',\n",
    "    'Double',\n",
    "    'Triple',\n",
    "    'Home Run',\n",
    "]"
   ]
  },
  {
   "cell_type": "code",
   "execution_count": 24,
   "metadata": {},
   "outputs": [],
   "source": [
    "# how many hits did Mike Trout have in 2019? \n",
    "from sqlalchemy import and_\n",
    "mike_trout_hits = session.query(Play).filter(and_(Play.batter_id==mike_trout_id,Play.event.in_(hits))).count()\n",
    "mike_trout_abs = session.query(Play).filter(and_(Play.batter_id==mike_trout_id)).count()"
   ]
  },
  {
   "cell_type": "code",
   "execution_count": 25,
   "metadata": {},
   "outputs": [],
   "source": [
    "mike_trout_avg = mike_trout_hits/mike_trout_abs"
   ]
  },
  {
   "cell_type": "code",
   "execution_count": 26,
   "metadata": {},
   "outputs": [],
   "source": [
    "first_play = session.query(Play).first()"
   ]
  },
  {
   "cell_type": "code",
   "execution_count": 27,
   "metadata": {},
   "outputs": [
    {
     "data": {
      "text/plain": [
       "'S'"
      ]
     },
     "execution_count": 27,
     "metadata": {},
     "output_type": "execute_result"
    }
   ],
   "source": [
    "first_play.game.type"
   ]
  },
  {
   "cell_type": "code",
   "execution_count": 28,
   "metadata": {},
   "outputs": [],
   "source": [
    "PAs = []\n",
    "for game, play in session.query(Game,Play).\\\n",
    "                    filter(Game.id==Play.game_id).\\\n",
    "                    filter(and_(Game.type=='R',Game.dateTime<datetime(2019,7,1))).\\\n",
    "                    filter(Play.batter_id==mike_trout_id).\\\n",
    "                    all():\n",
    "    PAs.append(play)\n",
    "    "
   ]
  },
  {
   "cell_type": "code",
   "execution_count": 29,
   "metadata": {},
   "outputs": [
    {
     "data": {
      "text/plain": [
       "82"
      ]
     },
     "execution_count": 29,
     "metadata": {},
     "output_type": "execute_result"
    }
   ],
   "source": [
    "len([x for x in PAs if x.event in hits])"
   ]
  },
  {
   "cell_type": "code",
   "execution_count": 30,
   "metadata": {},
   "outputs": [
    {
     "data": {
      "text/plain": [
       "361"
      ]
     },
     "execution_count": 30,
     "metadata": {},
     "output_type": "execute_result"
    }
   ],
   "source": [
    "len(PAs)"
   ]
  },
  {
   "cell_type": "code",
   "execution_count": 31,
   "metadata": {},
   "outputs": [],
   "source": [
    "def player_hits(session,player_id,game_record=None,date=None):\n",
    "    \"\"\"\n",
    "    function takes in sql alchemy session, an instance of the Game class, and a player id.\n",
    "    returns player stats up until the date of the relevant game.\n",
    "    \"\"\"\n",
    "    if game_record==None and date==None:\n",
    "        print('error: must specify a game or date')\n",
    "    elif game_record!=None and date!=None:\n",
    "        print('error: must specify either a date or a game. not both')\n",
    "    else:\n",
    "        if game_record:\n",
    "            date = game_record.dateTime\n",
    "        else:\n",
    "            date=date\n",
    "        PAs = []\n",
    "        for game, play in session.query(Game,Play).\\\n",
    "                        filter(Game.id==Play.game_id).\\\n",
    "                        filter(and_(Game.type=='R',Game.dateTime<date)).\\\n",
    "                        filter(Play.batter_id==player_id).\\\n",
    "                        all():\n",
    "            PAs.append(play)\n",
    "        player_hits = [x for x in PAs if x.event in hits]\n",
    "#     print('Plate Appearances: ',len(PAs))\n",
    "#     print('Hits: ', len(player_hits))\n",
    "        return len(player_hits)"
   ]
  },
  {
   "cell_type": "code",
   "execution_count": 32,
   "metadata": {},
   "outputs": [
    {
     "data": {
      "text/plain": [
       "52"
      ]
     },
     "execution_count": 32,
     "metadata": {},
     "output_type": "execute_result"
    }
   ],
   "source": [
    "game_record_test = session.query(Game).filter(Game.dateTime<datetime(2019,6,3)).all()[-1]\n",
    "player_hits(session,mike_trout_id,game_record=game_record_test)"
   ]
  },
  {
   "cell_type": "markdown",
   "metadata": {},
   "source": [
    "Plot cumulative hits for a player"
   ]
  },
  {
   "cell_type": "code",
   "execution_count": 33,
   "metadata": {},
   "outputs": [],
   "source": [
    "import matplotlib.pyplot as plt"
   ]
  },
  {
   "cell_type": "code",
   "execution_count": 34,
   "metadata": {},
   "outputs": [],
   "source": [
    "ordered_games = session.query(Game).filter(Game.type=='R').order_by(Game.dateTime).all()"
   ]
  },
  {
   "cell_type": "code",
   "execution_count": 35,
   "metadata": {},
   "outputs": [],
   "source": [
    "trout_PAs = session.query(Play).filter(Play.batter_id==mike_trout_id).all()"
   ]
  },
  {
   "cell_type": "code",
   "execution_count": 36,
   "metadata": {},
   "outputs": [],
   "source": [
    "trout_hit_dict = [{'time':x.startTime,'event':x.event} for x in trout_PAs if x.event in hits]"
   ]
  },
  {
   "cell_type": "code",
   "execution_count": 37,
   "metadata": {},
   "outputs": [],
   "source": [
    "trout_hit_dates = [x['time'] for x in trout_hit_dict if x]\n",
    "trout_hit_dates.sort()\n",
    "trout_hit_dates = trout_hit_dates[1:]"
   ]
  },
  {
   "cell_type": "code",
   "execution_count": 38,
   "metadata": {},
   "outputs": [],
   "source": [
    "count = 1\n",
    "trout_cum_hits = []\n",
    "for hit_date in trout_hit_dates:\n",
    "    trout_cum_hits.append({'date':hit_date,'cum_hits':count})\n",
    "    count+=1"
   ]
  },
  {
   "cell_type": "code",
   "execution_count": 39,
   "metadata": {},
   "outputs": [],
   "source": [
    "dates = [x['date'] for x in trout_cum_hits]\n",
    "cum_hits = [x['cum_hits'] for x in trout_cum_hits]"
   ]
  },
  {
   "cell_type": "code",
   "execution_count": 40,
   "metadata": {},
   "outputs": [
    {
     "data": {
      "text/plain": [
       "[<matplotlib.lines.Line2D at 0x109a856a0>]"
      ]
     },
     "execution_count": 40,
     "metadata": {},
     "output_type": "execute_result"
    },
    {
     "data": {
      "image/png": "[encoded data removed]",
      "text/plain": [
       "<Figure size 432x288 with 1 Axes>"
      ]
     },
     "metadata": {
      "needs_background": "light"
     },
     "output_type": "display_data"
    }
   ],
   "source": [
    "plt.plot_date(x=dates,y=cum_hits,xdate=True)"
   ]
  }
 ],
 "metadata": {
  "kernelspec": {
   "display_name": "Python 3",
   "language": "python",
   "name": "python3"
  },
  "language_info": {
   "codemirror_mode": {
    "name": "ipython",
    "version": 3
   },
   "file_extension": ".py",
   "mimetype": "text/x-python",
   "name": "python",
   "nbconvert_exporter": "python",
   "pygments_lexer": "ipython3",
   "version": "3.7.3"
  }
 },
 "nbformat": 4,
 "nbformat_minor": 2
}
