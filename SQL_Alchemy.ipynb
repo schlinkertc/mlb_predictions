{
 "cells": [
  {
   "cell_type": "code",
   "execution_count": 1,
   "metadata": {},
   "outputs": [],
   "source": [
    "import config\n",
    "import sqlalchemy\n",
    "import functions\n",
    "import statsapi as mlb\n",
    "import sql_alch_schema\n",
    "from datetime import datetime\n",
    "\n",
    "from sqlalchemy.ext.declarative import declarative_base\n",
    "from sqlalchemy import Column, Integer, String,DateTime,Date,Time,Boolean\n",
    "from sqlalchemy import ForeignKey,and_\n",
    "from sqlalchemy.orm import relationship\n",
    "from sqlalchemy.schema import Table\n",
    "from sqlalchemy import distinct\n",
    "\n",
    "_sql_alchemy_connection = (\n",
    "                                f'mysql+mysqlconnector://'\n",
    "                                f'{config.user}:{config.password}'\n",
    "                                f'@{config.host}:{config.port}'\n",
    "                                f'/{config.schema}'\n",
    "                           )\n",
    "## Create the engine \n",
    "db = sqlalchemy.create_engine(_sql_alchemy_connection,\n",
    "                              echo = False,\n",
    "                              connect_args = {'ssl_disabled' : True,})\n",
    "\n",
    "Base = sql_alch_schema.Base\n",
    "\n",
    "Game = sql_alch_schema.Game\n",
    "Play = sql_alch_schema.Play\n",
    "Team = sql_alch_schema.Team\n",
    "GameTeamLink = sql_alch_schema.GameTeamLink\n",
    "Person = sql_alch_schema.Person\n",
    "\n",
    "#Base.metadata.create_all(db)\n",
    "\n",
    "from sqlalchemy.orm import sessionmaker\n",
    "Session = sessionmaker(bind=db)\n",
    "session = Session()\n",
    "\n",
    "\n",
    "import sqlalchemy_schemadisplay\n",
    "from sqlalchemy import MetaData\n",
    "\n",
    "schema_viz = sqlalchemy_schemadisplay.create_schema_graph(metadata=MetaData(db))\n",
    "schema_viz.write_png('dbschema.png')"
   ]
  },
  {
   "cell_type": "markdown",
   "metadata": {},
   "source": [
    "A Game record queried from mysql has a .teams attribute that retuns two GameTeamLink records as shown below"
   ]
  },
  {
   "cell_type": "code",
   "execution_count": 2,
   "metadata": {},
   "outputs": [
    {
     "name": "stdout",
     "output_type": "stream",
     "text": [
      "<Game(pk='567491',id='2019/06/11/nynmlb-nyamlb-1')>\n"
     ]
    }
   ],
   "source": [
    "test_gameId = '2019/06/11/nynmlb-nyamlb-1'\n",
    "game_test = session.query(Game).filter_by(id=test_gameId).one()\n",
    "\n",
    "print(game_test)"
   ]
  },
  {
   "cell_type": "code",
   "execution_count": 3,
   "metadata": {},
   "outputs": [],
   "source": [
    "play=session.query(Play).first()"
   ]
  },
  {
   "cell_type": "code",
   "execution_count": 4,
   "metadata": {},
   "outputs": [
    {
     "name": "stdout",
     "output_type": "stream",
     "text": [
      "<GameTeam(game_id='2019/06/11/nynmlb-nyamlb-1',team_id='147')> \n",
      "\n",
      "<Team(name='New York Yankees')> \n",
      "\n",
      "543305 \n",
      "\n"
     ]
    }
   ],
   "source": [
    "game_team_test = game_test.teams[1]\n",
    "\n",
    "print(game_team_test,'\\n')\n",
    "print(game_team_test.team,'\\n')\n",
    "print(game_team_test.player_1_id,'\\n')"
   ]
  },
  {
   "cell_type": "markdown",
   "metadata": {},
   "source": [
    "- A Game instance queried from the data base has a game_players() method \n",
    "- takes in a sql alchemy session\n",
    "- yields generators for the home team and away team\n",
    "- generators provide instances of the Person class "
   ]
  },
  {
   "cell_type": "code",
   "execution_count": 5,
   "metadata": {},
   "outputs": [
    {
     "data": {
      "text/plain": [
       "{'away': <generator object players at 0x10f9676d8>,\n",
       " 'home': <generator object players at 0x10f967750>}"
      ]
     },
     "execution_count": 5,
     "metadata": {},
     "output_type": "execute_result"
    }
   ],
   "source": [
    "game_test.game_players(session)"
   ]
  },
  {
   "cell_type": "code",
   "execution_count": 6,
   "metadata": {},
   "outputs": [
    {
     "data": {
      "text/plain": [
       "554430"
      ]
     },
     "execution_count": 6,
     "metadata": {},
     "output_type": "execute_result"
    }
   ],
   "source": [
    "game_test.away_probablePitcher"
   ]
  },
  {
   "cell_type": "markdown",
   "metadata": {},
   "source": [
    "- The player_stats() method returns relevant stats for eacher player\n",
    "- this is my biggest bottleneck. \n",
    "    - Methods that take the session argument are querying the db in real-time\n",
    "    - I may have to set up a sql alchemy relationsip to make this more effecient"
   ]
  },
  {
   "cell_type": "code",
   "execution_count": 7,
   "metadata": {},
   "outputs": [],
   "source": [
    "# stat_dicts = game_test.player_stats(session)\n",
    "# stat_dicts"
   ]
  },
  {
   "cell_type": "code",
   "execution_count": 8,
   "metadata": {
    "scrolled": true
   },
   "outputs": [],
   "source": [
    "#[x for x in stat_dicts if x['Position_type']=='Probable_startingPitcher']"
   ]
  },
  {
   "cell_type": "markdown",
   "metadata": {},
   "source": [
    "The agg_stats method \n",
    "- same bottleneck issue because it's built upon the player_stats method"
   ]
  },
  {
   "cell_type": "code",
   "execution_count": 9,
   "metadata": {
    "scrolled": true
   },
   "outputs": [],
   "source": [
    "# agg_dicts = game_test.agg_stats(session)\n",
    "# agg_dicts"
   ]
  },
  {
   "cell_type": "code",
   "execution_count": 10,
   "metadata": {},
   "outputs": [],
   "source": [
    "# [x for x in agg_dicts if x['position']=='Probable_startingPitcher']"
   ]
  },
  {
   "cell_type": "code",
   "execution_count": 11,
   "metadata": {},
   "outputs": [],
   "source": [
    "play_test = session.query(Play).first()"
   ]
  },
  {
   "cell_type": "code",
   "execution_count": 12,
   "metadata": {},
   "outputs": [
    {
     "data": {
      "text/plain": [
       "605141"
      ]
     },
     "execution_count": 12,
     "metadata": {},
     "output_type": "execute_result"
    }
   ],
   "source": [
    "play_test.batter_id"
   ]
  },
  {
   "cell_type": "code",
   "execution_count": 13,
   "metadata": {},
   "outputs": [
    {
     "data": {
      "text/plain": [
       "<Game(pk='529406',id='2018/03/29/bosmlb-tbamlb-1')>"
      ]
     },
     "execution_count": 13,
     "metadata": {},
     "output_type": "execute_result"
    }
   ],
   "source": [
    "play_test.game"
   ]
  },
  {
   "cell_type": "code",
   "execution_count": 14,
   "metadata": {},
   "outputs": [
    {
     "data": {
      "text/plain": [
       "<Team(name='New York Yankees')>"
      ]
     },
     "execution_count": 14,
     "metadata": {},
     "output_type": "execute_result"
    }
   ],
   "source": [
    "team_test = game_team_test.team\n",
    "team_test"
   ]
  },
  {
   "cell_type": "code",
   "execution_count": 15,
   "metadata": {},
   "outputs": [
    {
     "data": {
      "text/plain": [
       "[<GameTeam(game_id='2018/02/23/detmlb-nyamlb-1',team_id='147')>,\n",
       " <GameTeam(game_id='2018/02/24/nyamlb-pitmlb-1',team_id='147')>,\n",
       " <GameTeam(game_id='2018/02/25/nyamlb-phimlb-1',team_id='147')>,\n",
       " <GameTeam(game_id='2018/02/26/phimlb-nyamlb-1',team_id='147')>,\n",
       " <GameTeam(game_id='2018/02/27/nyamlb-tormlb-1',team_id='147')>]"
      ]
     },
     "execution_count": 15,
     "metadata": {},
     "output_type": "execute_result"
    }
   ],
   "source": [
    "team_test.games[:5]"
   ]
  },
  {
   "cell_type": "markdown",
   "metadata": {},
   "source": [
    "We can also access player records through the game_team link"
   ]
  },
  {
   "cell_type": "code",
   "execution_count": 16,
   "metadata": {},
   "outputs": [
    {
     "data": {
      "text/plain": [
       "[<Person(nameSlug='dj-lemahieu-518934')>,\n",
       " <Person(nameSlug='brett-gardner-458731')>,\n",
       " <Person(nameSlug='luis-cessa-570666')>,\n",
       " <Person(nameSlug='gary-sanchez-596142')>,\n",
       " <Person(nameSlug='cameron-maybin-457727')>]"
      ]
     },
     "execution_count": 16,
     "metadata": {},
     "output_type": "execute_result"
    }
   ],
   "source": [
    "[x for x in game_team_test.players(session)][:5]"
   ]
  },
  {
   "cell_type": "code",
   "execution_count": 17,
   "metadata": {},
   "outputs": [
    {
     "data": {
      "text/plain": [
       "{'away': <generator object players at 0x10fa12138>,\n",
       " 'home': <generator object players at 0x10fa121b0>}"
      ]
     },
     "execution_count": 17,
     "metadata": {},
     "output_type": "execute_result"
    }
   ],
   "source": [
    "game_test.game_players(session)"
   ]
  },
  {
   "cell_type": "markdown",
   "metadata": {},
   "source": [
    "## Let's find some player stats\n",
    "Eventually, we want team stats. But lets start with a single player"
   ]
  },
  {
   "cell_type": "markdown",
   "metadata": {},
   "source": [
    "## Person.plays\n",
    "It would be nice to have a person.plays method. I think it would require a PersonPlaysLink table "
   ]
  },
  {
   "cell_type": "markdown",
   "metadata": {},
   "source": [
    "## Relevent Stats\n",
    "- a method on a person instance that takes in a game\n",
    "- determines whether a player is a:\n",
    "    - 1)pitcher 1a) starter 1b) bullpen 1c)length \n",
    "    - 2) hitter 2a) reg_hitter 3a) irr_hitter\n",
    "- returns the relevent cumulative stats for that player"
   ]
  },
  {
   "cell_type": "code",
   "execution_count": 18,
   "metadata": {},
   "outputs": [],
   "source": [
    "most_recent_game = session.query(Game).order_by(Game.dateTime.desc()).first()"
   ]
  },
  {
   "cell_type": "code",
   "execution_count": 19,
   "metadata": {},
   "outputs": [],
   "source": [
    "aaron_judge = session.query(Person).filter(Person.fullName=='Aaron Judge').one()\n",
    "gerrit_cole = session.query(Person).filter(Person.fullName=='Gerrit Cole').one()\n",
    "aroldis_chapman = session.query(Person).filter(Person.fullName=='Aroldis Chapman').one()\n",
    "mike_trout = session.query(Person).filter(Person.fullName=='Mike Trout').one()"
   ]
  },
  {
   "cell_type": "code",
   "execution_count": 20,
   "metadata": {
    "scrolled": true
   },
   "outputs": [],
   "source": [
    "query = session.query(Game,Play).\\\n",
    "                filter(Game.id==Play.game_id).\\\n",
    "                filter(and_(Game.type=='R',Game.dateTime<datetime.today())).\\\n",
    "                filter(Play.batter_id==mike_trout.id).\\\n",
    "                all()[:50]\n"
   ]
  },
  {
   "cell_type": "code",
   "execution_count": 21,
   "metadata": {
    "scrolled": true
   },
   "outputs": [],
   "source": [
    "#most_recent_game.player_stats(session,limit=100)"
   ]
  },
  {
   "cell_type": "markdown",
   "metadata": {},
   "source": [
    "### Concatenate and average by team\n",
    "- home_starter.stats\n",
    "- home_bullpen.stats\n",
    "- home_length_pitcers.stats \n",
    "etc.\n"
   ]
  },
  {
   "cell_type": "code",
   "execution_count": 22,
   "metadata": {},
   "outputs": [],
   "source": [
    "#[x for x in player_agg_dicts if x['position']=='Probable_startingPitcher']"
   ]
  },
  {
   "cell_type": "code",
   "execution_count": 23,
   "metadata": {},
   "outputs": [],
   "source": [
    "import numpy as np\n",
    "def game_agg_stats(player_agg_stats_result):\n",
    "    game={}\n",
    "    \n",
    "    for x in player_agg_stats_result:\n",
    "        for stat in ['BA','SLG','OBP','PA_per_Game','WHIP','H9','HR9','SO9','SOW','GO_O','FO_O','PO_O','LO_O']:\n",
    "            if x['position']=='Probable_startingPitcher' and x['home']==1:\n",
    "                game[f\"home_starter_{stat}\"]=x[stat]\n",
    "            elif x['position']=='Probable_startingPitcher' and x['home']==-1:\n",
    "                game[f\"away_starter_{stat}\"]=x[stat]\n",
    "    \n",
    "    for stat in ['BA','SLG','OBP','PA_per_Game','WHIP','H9','HR9','SO9','SOW','GO_O','FO_O','PO_O','LO_O']:\n",
    "        game[f\"home_relief_{stat}_mean\"]=(np.mean(\n",
    "            [x[stat] for x in player_agg_stats_result \n",
    "             if x['position']=='Pitcher_relief' and x['home']==1]))\n",
    "        \n",
    "        game[f\"away_relief_{stat}_mean\"]=(np.mean(\n",
    "            [x[stat] for x in player_agg_stats_result \n",
    "             if x['position']=='Pitcher_relief' and x['home']==-1]))\n",
    "        \n",
    "        game[f\"home_relief_{stat}_std\"]=(np.std(\n",
    "            [x[stat] for x in player_agg_stats_result \n",
    "             if x['position']=='Pitcher_relief' and x['home']==1]))\n",
    "        \n",
    "        game[f\"away_relief_{stat}_std\"]=(np.std(\n",
    "            [x[stat] for x in player_agg_stats_result \n",
    "             if x['position']=='Pitcher_relief' and x['home']==-1]))\n",
    "    \n",
    "    for stat in ['BA','SLG','OBP','PA_per_Game','GO_O','FO_O','PO_O','LO_O']:\n",
    "        game[f\"home_hitters_{stat}_mean\"]=(np.mean(\n",
    "            [x[stat] for x in player_agg_stats_result\n",
    "            if 'Pitcher' not in x['position'] and x['home']==1]))\n",
    "        \n",
    "        game[f\"home_hitters_{stat}_std\"]=(np.mean(\n",
    "            [x[stat] for x in player_agg_stats_result\n",
    "            if 'Pitcher' not in x['position'] and x['home']==1]))\n",
    "        \n",
    "        game[f\"away_hitters_{stat}_mean\"]=(np.mean(\n",
    "            [x[stat] for x in player_agg_stats_result\n",
    "            if 'Pitcher' not in x['position'] and x['home']==-1]))\n",
    "        \n",
    "        game[f\"away_hitters_{stat}_std\"]=(np.mean(\n",
    "            [x[stat] for x in player_agg_stats_result\n",
    "            if 'Pitcher' not in x['position'] and x['home']==-1]))\n",
    "    try:\n",
    "        game['ID']=player_agg_stats_result[0]['ID']\n",
    "        return game\n",
    "    except:\n",
    "        return None"
   ]
  },
  {
   "cell_type": "code",
   "execution_count": 24,
   "metadata": {},
   "outputs": [],
   "source": [
    "# game = game_agg_stats(game_test.agg_stats(session,limit=1000))\n",
    "# game"
   ]
  },
  {
   "cell_type": "markdown",
   "metadata": {},
   "source": [
    "### write the first game to a csv"
   ]
  },
  {
   "cell_type": "code",
   "execution_count": 25,
   "metadata": {},
   "outputs": [],
   "source": [
    "chunk = sql_alch_schema.chunk\n",
    "filename=\"/Users/schlinkertc/code/mlb_predictions/mlb_predictions/dataset.csv\"\n",
    "game_records = session.query(Game).filter(Game.type=='R').all()\n",
    "\n",
    "import csv"
   ]
  },
  {
   "cell_type": "markdown",
   "metadata": {},
   "source": [
    "### update the existing csv\n",
    "- check the existing csv \n",
    "    - i need to add an ID to the dicts first "
   ]
  },
  {
   "cell_type": "code",
   "execution_count": 26,
   "metadata": {},
   "outputs": [],
   "source": [
    "def create_write_gameAggStats(session,game_records,limit=None,chunk_size=50):\n",
    "    \"\"\"\n",
    "    Takes in a session, a list of Game instances, and optional limit and chunk size.\n",
    "    1) Checks the current dataset for games that are already added \n",
    "    2) Removes potential duplicates from the passed list of game_records\n",
    "    3) creates the relevant game stats for the remaining game_records\n",
    "    4) updates the dataset.csv file with the new games\n",
    "    \"\"\"\n",
    "    # Check existing games\n",
    "    reader = csv.DictReader(open(filename))\n",
    "    already_added = [row for row in reader]\n",
    "    dupe_IDs = [x['ID'] for x in already_added]\n",
    "    game_records = [game for game in game_records if game.id not in dupe_IDs]\n",
    "    chunks = chunk(chunk_size,game_records)\n",
    "    keys=already_added[0].keys()\n",
    "    count = 1\n",
    "    for chunk_ in chunks:\n",
    "        print(f'starting chunk {count} of {len(chunks)}')\n",
    "        \n",
    "        temp_reader = csv.DictReader(open(filename))\n",
    "        current_data = [row for row in temp_reader]\n",
    "        \n",
    "        for game_record in chunk_:\n",
    "            game = game_agg_stats(game_record.agg_stats(session))\n",
    "            if game!= None:\n",
    "                current_data.append(game)\n",
    "                print('.')\n",
    "        f = open(filename, \"w\")\n",
    "        writer = csv.DictWriter(f, fieldnames=keys)\n",
    "        writer.writeheader()\n",
    "        writer.writerows(current_data)\n",
    "        f.close()\n",
    "            \n",
    "        count+=1          "
   ]
  },
  {
   "cell_type": "code",
   "execution_count": null,
   "metadata": {
    "scrolled": true
   },
   "outputs": [
    {
     "name": "stdout",
     "output_type": "stream",
     "text": [
      "starting chunk 1 of 93\n",
      ".\n",
      ".\n",
      ".\n",
      ".\n",
      ".\n",
      ".\n",
      ".\n",
      ".\n",
      ".\n",
      ".\n",
      ".\n",
      ".\n",
      ".\n",
      ".\n",
      ".\n",
      ".\n",
      ".\n",
      ".\n",
      ".\n",
      ".\n",
      "starting chunk 2 of 93\n",
      ".\n",
      ".\n",
      ".\n",
      ".\n",
      ".\n",
      ".\n",
      ".\n",
      ".\n",
      ".\n",
      ".\n",
      ".\n",
      ".\n",
      ".\n",
      ".\n",
      ".\n",
      ".\n",
      ".\n",
      ".\n",
      ".\n",
      ".\n",
      "starting chunk 3 of 93\n",
      ".\n",
      ".\n",
      ".\n",
      ".\n",
      ".\n",
      ".\n",
      ".\n",
      ".\n",
      ".\n",
      ".\n",
      ".\n",
      ".\n",
      ".\n",
      ".\n",
      ".\n",
      ".\n",
      ".\n",
      ".\n",
      ".\n",
      ".\n",
      "starting chunk 4 of 93\n",
      ".\n",
      ".\n",
      ".\n",
      ".\n",
      ".\n",
      ".\n",
      ".\n",
      ".\n",
      ".\n",
      ".\n",
      ".\n",
      ".\n",
      ".\n",
      ".\n",
      ".\n",
      ".\n",
      ".\n",
      ".\n",
      ".\n",
      ".\n",
      "starting chunk 5 of 93\n",
      ".\n",
      ".\n",
      ".\n",
      ".\n",
      ".\n",
      ".\n",
      ".\n",
      ".\n",
      ".\n",
      ".\n",
      ".\n",
      ".\n",
      ".\n",
      ".\n",
      ".\n",
      ".\n",
      ".\n",
      ".\n",
      ".\n",
      ".\n",
      "starting chunk 6 of 93\n",
      ".\n",
      ".\n",
      ".\n",
      ".\n",
      ".\n",
      ".\n",
      ".\n",
      ".\n",
      ".\n",
      ".\n"
     ]
    }
   ],
   "source": [
    "games=create_write_gameAggStats(session,game_records,chunk_size=20,limit=1000)"
   ]
  },
  {
   "cell_type": "code",
   "execution_count": null,
   "metadata": {},
   "outputs": [],
   "source": []
  }
 ],
 "metadata": {
  "kernelspec": {
   "display_name": "Python 3",
   "language": "python",
   "name": "python3"
  },
  "language_info": {
   "codemirror_mode": {
    "name": "ipython",
    "version": 3
   },
   "file_extension": ".py",
   "mimetype": "text/x-python",
   "name": "python",
   "nbconvert_exporter": "python",
   "pygments_lexer": "ipython3",
   "version": "3.7.3"
  }
 },
 "nbformat": 4,
 "nbformat_minor": 2
}
