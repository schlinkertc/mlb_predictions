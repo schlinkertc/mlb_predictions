{
 "cells": [
  {
   "cell_type": "code",
   "execution_count": 1,
   "metadata": {},
   "outputs": [],
   "source": [
    "import config\n",
    "import sqlalchemy\n",
    "import functions\n",
    "import statsapi as mlb\n",
    "import sql_alch_schema\n",
    "from datetime import datetime"
   ]
  },
  {
   "cell_type": "code",
   "execution_count": 2,
   "metadata": {},
   "outputs": [],
   "source": [
    "from sqlalchemy.ext.declarative import declarative_base\n",
    "from sqlalchemy import Column, Integer, String,DateTime,Date,Time,Boolean\n",
    "from sqlalchemy import ForeignKey\n",
    "from sqlalchemy.orm import relationship\n",
    "from sqlalchemy.schema import Table\n",
    "from sqlalchemy import distinct"
   ]
  },
  {
   "cell_type": "code",
   "execution_count": 3,
   "metadata": {},
   "outputs": [],
   "source": [
    "_sql_alchemy_connection = (\n",
    "                                f'mysql+mysqlconnector://'\n",
    "                                f'{config.user}:{config.password}'\n",
    "                                f'@{config.host}:{config.port}'\n",
    "                                f'/{config.schema}'\n",
    "                           )\n",
    "## Create the engine \n",
    "db = sqlalchemy.create_engine(_sql_alchemy_connection,\n",
    "                              echo = False,\n",
    "                              connect_args = {'ssl_disabled' : True,})"
   ]
  },
  {
   "cell_type": "code",
   "execution_count": 4,
   "metadata": {},
   "outputs": [],
   "source": [
    "\n",
    "Game = sql_alch_schema.Game\n",
    "Play = sql_alch_schema.Play\n",
    "Base = sql_alch_schema.Base\n",
    "Team = sql_alch_schema.Team\n",
    "\n",
    "from sqlalchemy.orm import sessionmaker\n",
    "Session = sessionmaker(bind=db)\n",
    "session = Session()"
   ]
  },
  {
   "cell_type": "markdown",
   "metadata": {},
   "source": [
    "## Create the teams table\n",
    "We need teams before roster because we need to map the team id pk to team id fk in roster "
   ]
  },
  {
   "cell_type": "code",
   "execution_count": 5,
   "metadata": {},
   "outputs": [],
   "source": [
    "# games_teams = Table('games_teams',Base.metadata,\n",
    "#                    Column('game_id',String(150),ForeignKey('games.id')),\n",
    "#                    Column('team_id',Integer,ForeignKey('teams.id')),\n",
    "#                    extend_existing=True\n",
    "#                    )\n",
    "\n",
    "# Team.games = relationship(\"Game\",secondary=games_teams,back_populates='teams')    \n",
    "# Game.teams = relationship(\"Team\",secondary=games_teams,back_populates='games')"
   ]
  },
  {
   "cell_type": "code",
   "execution_count": 6,
   "metadata": {},
   "outputs": [],
   "source": [
    "class GameTeamLink(Base):\n",
    "    __tablename__ = 'game_team_link'\n",
    "    __table_args__ = {'extend_existing': True}\n",
    "    \n",
    "    game_id = Column(String(150),ForeignKey('games.id'),primary_key=True)\n",
    "    team_id = Column(Integer,ForeignKey('teams.id'),primary_key=True)\n",
    "    \n",
    "    # add roster at the time of game \n",
    "    player_1_id = Column(Integer)\n",
    "    player_2_id = Column(Integer)\n",
    "    player_3_id = Column(Integer)\n",
    "    player_4_id = Column(Integer)\n",
    "    player_5_id = Column(Integer)\n",
    "    player_6_id = Column(Integer)\n",
    "    player_7_id = Column(Integer)\n",
    "    player_8_id = Column(Integer)\n",
    "    player_9_id = Column(Integer)\n",
    "    player_10_id = Column(Integer)\n",
    "    player_11_id = Column(Integer)\n",
    "    player_12_id = Column(Integer)\n",
    "    player_13_id = Column(Integer)\n",
    "    player_14_id = Column(Integer)\n",
    "    player_15_id = Column(Integer)\n",
    "    player_16_id = Column(Integer)\n",
    "    player_17_id = Column(Integer)\n",
    "    player_18_id = Column(Integer)\n",
    "    player_19_id = Column(Integer)\n",
    "    player_20_id = Column(Integer)\n",
    "    player_21_id = Column(Integer)\n",
    "    player_22_id = Column(Integer)\n",
    "    player_23_id = Column(Integer)\n",
    "    player_24_id = Column(Integer)\n",
    "    player_25_id = Column(Integer)\n",
    "    player_26_id = Column(Integer)\n",
    "    player_27_id = Column(Integer)\n",
    "    player_28_id = Column(Integer)\n",
    "    player_29_id = Column(Integer)\n",
    "    player_30_id = Column(Integer)\n",
    "    player_31_id = Column(Integer)\n",
    "    player_32_id = Column(Integer)\n",
    "    player_33_id = Column(Integer)\n",
    "    player_34_id = Column(Integer)\n",
    "    player_35_id = Column(Integer)\n",
    "    player_36_id = Column(Integer)\n",
    "    player_37_id = Column(Integer)\n",
    "    player_38_id = Column(Integer)\n",
    "    player_39_id = Column(Integer)\n",
    "    player_40_id = Column(Integer)\n",
    "    \n",
    "    #relationships\n",
    "    game = relationship('Game',back_populates='teams')\n",
    "    team = relationship('Team',back_populates='games')\n",
    "\n",
    "# update game and team tables \n",
    "Game.teams = relationship(\"GameTeamLink\",back_populates='game')\n",
    "Team.games = relationship(\"GameTeamLink\",back_populates='team')"
   ]
  },
  {
   "cell_type": "code",
   "execution_count": 7,
   "metadata": {},
   "outputs": [],
   "source": [
    "#db.execute('drop table game_team_link')\n",
    "Base.metadata.create_all(db)"
   ]
  },
  {
   "cell_type": "markdown",
   "metadata": {},
   "source": [
    "## Query the db to get info needed for roster table"
   ]
  },
  {
   "cell_type": "markdown",
   "metadata": {},
   "source": [
    "to get the active roster from the mlb stats api, I need a team id, season, and date "
   ]
  },
  {
   "cell_type": "code",
   "execution_count": 19,
   "metadata": {},
   "outputs": [],
   "source": [
    "test_gameId = '2019/03/28/anamlb-oakmlb-1'"
   ]
  },
  {
   "cell_type": "code",
   "execution_count": 16,
   "metadata": {},
   "outputs": [],
   "source": [
    "game_test = session.query(Game).filter_by(id='2019/03/28/anamlb-oakmlb-1')"
   ]
  },
  {
   "cell_type": "code",
   "execution_count": 21,
   "metadata": {},
   "outputs": [
    {
     "ename": "SyntaxError",
     "evalue": "invalid syntax (<ipython-input-21-d622c67d9074>, line 1)",
     "output_type": "error",
     "traceback": [
      "\u001b[0;36m  File \u001b[0;32m\"<ipython-input-21-d622c67d9074>\"\u001b[0;36m, line \u001b[0;32m1\u001b[0m\n\u001b[0;31m    game_test.first()homeTeam_id\u001b[0m\n\u001b[0m                               ^\u001b[0m\n\u001b[0;31mSyntaxError\u001b[0m\u001b[0;31m:\u001b[0m invalid syntax\n"
     ]
    }
   ],
   "source": [
    "game_test.first()homeTeam_id"
   ]
  },
  {
   "cell_type": "code",
   "execution_count": 51,
   "metadata": {},
   "outputs": [],
   "source": [
    "def create_addGameTeamLink(game_ids):\n",
    "    records = []\n",
    "    for game_id in game_ids:\n",
    "        game_query = session.query(Game).filter_by(id=game_id)\n",
    "        roster_input_dicts = get_roster_inputs(game_query)\n",
    "        home_roster,away_roster = get_roster(roster_input_dicts[0])\n",
    "        rosters = [home_roster,away_roster]\n",
    "#       rosters.append(roster)\n",
    "        \n",
    "        for roster in rosters:\n",
    "            game_team_record = GameTeamLink(game_id=game_id,\n",
    "                                            team_id=roster['teamId'],\n",
    "\n",
    "                                            player_1_id = roster.get('player_1','null'),\n",
    "                                            player_2_id = roster.get('player_2','null'),\n",
    "                                            player_3_id = roster.get('player_3','null'),\n",
    "                                            player_4_id = roster.get('player_4','null'),\n",
    "                                            player_5_id = roster.get('player_5','null'),\n",
    "                                            player_6_id = roster.get('player_6','null'),\n",
    "                                            player_7_id = roster.get('player_7','null'),\n",
    "                                            player_8_id = roster.get('player_8','null'),\n",
    "                                            player_9_id = roster.get('player_9','null'),\n",
    "                                            player_10_id = roster.get('player_10','null'),\n",
    "                                            player_11_id = roster.get('player_11','null'),\n",
    "                                            player_12_id = roster.get('player_12','null'),\n",
    "                                            player_13_id = roster.get('player_13','null'),\n",
    "                                            player_14_id = roster.get('player_14','null'),\n",
    "                                            player_15_id = roster.get('player_15','null'),\n",
    "                                            player_16_id = roster.get('player_16','null'),\n",
    "                                            player_17_id = roster.get('player_17','null'),\n",
    "                                            player_18_id = roster.get('player_18','null'),\n",
    "                                            player_19_id = roster.get('player_19','null'),\n",
    "                                            player_20_id = roster.get('player_20','null'),\n",
    "                                            player_21_id = roster.get('player_21','null'),\n",
    "                                            player_22_id = roster.get('player_22','null'),\n",
    "                                            player_23_id = roster.get('player_23','null'),\n",
    "                                            player_24_id = roster.get('player_24','null'),\n",
    "                                            player_25_id = roster.get('player_25','null'),\n",
    "                                            player_26_id = roster.get('player_26','null'),\n",
    "                                            player_27_id = roster.get('player_27','null'),\n",
    "                                            player_28_id = roster.get('player_28','null'),\n",
    "                                            player_29_id = roster.get('player_29','null'),\n",
    "                                            player_30_id = roster.get('player_30','null'),\n",
    "                                            player_31_id = roster.get('player_31','null'),\n",
    "                                            player_32_id = roster.get('player_32','null'),\n",
    "                                            player_33_id = roster.get('player_33','null'),\n",
    "                                            player_34_id = roster.get('player_34','null'),\n",
    "                                            player_35_id = roster.get('player_35','null'),\n",
    "                                            player_36_id = roster.get('player_36','null'),\n",
    "                                            player_37_id = roster.get('player_37','null'),\n",
    "                                            player_38_id = roster.get('player_38','null'),\n",
    "                                            player_39_id = roster.get('player_39','null'),\n",
    "                                            player_40_id = roster.get('player_40','null')\n",
    "                                           )\n",
    "            records.append(game_team_record)\n",
    "    return records"
   ]
  },
  {
   "cell_type": "code",
   "execution_count": 52,
   "metadata": {},
   "outputs": [],
   "source": [
    "session.add_all(create_addGameTeamLink([test_gameId]))\n",
    "session.commit()"
   ]
  },
  {
   "cell_type": "code",
   "execution_count": 37,
   "metadata": {},
   "outputs": [],
   "source": [
    "def get_roster_inputs(query):   \n",
    "    roster_inputs = []\n",
    "    for instance in query.all():\n",
    "        roster_input_dict = {'date':datetime.strftime(instance.dateTime,'%Y-%m-%d'),\n",
    "                             'season':instance.season,\n",
    "                             'homeTeam':instance.homeTeam_id,\n",
    "                             'awayTeam':instance.awayTeam_id,\n",
    "                             }\n",
    "        roster_inputs.append(roster_input_dict)\n",
    "        \n",
    "    return roster_inputs\n",
    "    "
   ]
  },
  {
   "cell_type": "code",
   "execution_count": 28,
   "metadata": {},
   "outputs": [
    {
     "data": {
      "text/plain": [
       "[{'date': '2019-03-28', 'season': 2019, 'homeTeam': 133, 'awayTeam': 108}]"
      ]
     },
     "execution_count": 28,
     "metadata": {},
     "output_type": "execute_result"
    }
   ],
   "source": [
    "get_roster_inputs(game_test)"
   ]
  },
  {
   "cell_type": "code",
   "execution_count": 50,
   "metadata": {},
   "outputs": [],
   "source": [
    "def get_roster(roster_input_dict):\n",
    "    #player_list = ['player_'+str(x) for x in range(1,41)]\n",
    "    home = mlb.get('team_roster',\n",
    "                   {'teamId':roster_input_dict['homeTeam'],\n",
    "                    'rosterType':'active',\n",
    "                    'season':roster_input_dict['season'],\n",
    "                    'date':roster_input_dict['date']\n",
    "                   })['roster']\n",
    "    home_roster_ids = [x['person']['id'] for x in home]\n",
    "    player_list = ['player_'+str(x) for x in range(1,len(home_roster_ids)+1)]\n",
    "    home_roster_dict = {x:y for x,y in zip(player_list,home_roster_ids)}\n",
    "    home_roster_dict['teamId'] = roster_input_dict['homeTeam']\n",
    "    \n",
    "    away = mlb.get('team_roster',\n",
    "                   {'teamId':roster_input_dict['awayTeam'],\n",
    "                    'rosterType':'active',\n",
    "                    'season':roster_input_dict['season'],\n",
    "                    'date':roster_input_dict['date']\n",
    "                   })['roster']\n",
    "    away_roster_ids = [x['person']['id'] for x in away]\n",
    "    player_list = ['player_'+str(x) for x in range(1,len(away_roster_ids)+1)]\n",
    "    away_roster_dict = {x:y for x,y in zip(player_list,away_roster_ids)}\n",
    "    away_roster_dict['teamId']=roster_input_dict['awayTeam']\n",
    "    return home_roster_dict,away_roster_dict\n"
   ]
  },
  {
   "cell_type": "code",
   "execution_count": 67,
   "metadata": {},
   "outputs": [
    {
     "data": {
      "text/plain": [
       "[{'player_1': 543935,\n",
       "  'player_2': 592499,\n",
       "  'player_3': 543278,\n",
       "  'player_4': 571656,\n",
       "  'player_5': 518445,\n",
       "  'player_6': 596057,\n",
       "  'player_7': 621385,\n",
       "  'player_8': 608475,\n",
       "  'player_9': 553988,\n",
       "  'player_10': 572403,\n",
       "  'player_11': 621592,\n",
       "  'player_12': 434538,\n",
       "  'player_13': 642575,\n",
       "  'player_14': 606988,\n",
       "  'player_15': 642397,\n",
       "  'player_16': 592444,\n",
       "  'player_17': 543510,\n",
       "  'player_18': 600869,\n",
       "  'player_19': 641729,\n",
       "  'player_20': 543308,\n",
       "  'player_21': 592127,\n",
       "  'player_22': 519455,\n",
       "  'player_23': 578428,\n",
       "  'player_24': 547982,\n",
       "  'player_25': 571510,\n",
       "  'player_26': 605242,\n",
       "  'player_27': 408234,\n",
       "  'player_28': 571666,\n",
       "  'player_29': 595222,\n",
       "  'player_30': 543484,\n",
       "  'player_31': 592206,\n",
       "  'player_32': 543001,\n",
       "  'player_33': 622783,\n",
       "  'player_34': 642727,\n",
       "  'player_35': 572888,\n",
       "  'player_36': 605513,\n",
       "  'player_37': 400121,\n",
       "  'player_38': 622682,\n",
       "  'player_39': 599683,\n",
       "  'player_40': 643617},\n",
       " {'player_1': 588751,\n",
       "  'player_2': 517008,\n",
       "  'player_3': 552640,\n",
       "  'player_4': 607455,\n",
       "  'player_5': 643493,\n",
       "  'player_6': 605483,\n",
       "  'player_7': 543543,\n",
       "  'player_8': 641703,\n",
       "  'player_9': 543068,\n",
       "  'player_10': 475054,\n",
       "  'player_11': 629496,\n",
       "  'player_12': 624414,\n",
       "  'player_13': 543359,\n",
       "  'player_14': 543339,\n",
       "  'player_15': 621002,\n",
       "  'player_16': 452655,\n",
       "  'player_17': 650895,\n",
       "  'player_18': 621056,\n",
       "  'player_19': 621289,\n",
       "  'player_20': 641343,\n",
       "  'player_21': 607188,\n",
       "  'player_22': 491696,\n",
       "  'player_23': 621563,\n",
       "  'player_24': 621237,\n",
       "  'player_25': 592254,\n",
       "  'player_26': 620445,\n",
       "  'player_27': 642211,\n",
       "  'player_28': 595281,\n",
       "  'player_29': 605480,\n",
       "  'player_30': 542882,\n",
       "  'player_31': 622110,\n",
       "  'player_32': 543135,\n",
       "  'player_33': 572114,\n",
       "  'player_34': 642232,\n",
       "  'player_35': 592773,\n",
       "  'player_36': 489265,\n",
       "  'player_37': 642715,\n",
       "  'player_38': 467092,\n",
       "  'player_39': 630023},\n",
       " {'player_1': 592811,\n",
       "  'player_2': 595014,\n",
       "  'player_3': 474463,\n",
       "  'player_4': 640461,\n",
       "  'player_5': 605135,\n",
       "  'player_6': 596043,\n",
       "  'player_7': 641583,\n",
       "  'player_8': 407845,\n",
       "  'player_9': 593423,\n",
       "  'player_10': 620439,\n",
       "  'player_11': 656550,\n",
       "  'player_12': 605525,\n",
       "  'player_13': 621076,\n",
       "  'player_14': 465657,\n",
       "  'player_15': 622761,\n",
       "  'player_16': 572033,\n",
       "  'player_17': 595777,\n",
       "  'player_18': 501981,\n",
       "  'player_19': 521230,\n",
       "  'player_20': 642152,\n",
       "  'player_21': 642456,\n",
       "  'player_22': 462136,\n",
       "  'player_23': 543760,\n",
       "  'player_24': 592192,\n",
       "  'player_25': 656305,\n",
       "  'player_26': 621566,\n",
       "  'player_27': 571666,\n",
       "  'player_28': 621112,\n",
       "  'player_29': 657656,\n",
       "  'player_30': 543257,\n",
       "  'player_31': 488748,\n",
       "  'player_32': 623430,\n",
       "  'player_33': 621450,\n",
       "  'player_34': 572039,\n",
       "  'player_35': 664196,\n",
       "  'player_36': 433589},\n",
       " {'player_1': 643217,\n",
       "  'player_2': 596119,\n",
       "  'player_3': 596074,\n",
       "  'player_4': 519443,\n",
       "  'player_5': 598271,\n",
       "  'player_6': 571788,\n",
       "  'player_7': 605469,\n",
       "  'player_8': 519242,\n",
       "  'player_9': 543877,\n",
       "  'player_10': 605155,\n",
       "  'player_11': 650382,\n",
       "  'player_12': 456034,\n",
       "  'player_13': 660593,\n",
       "  'player_14': 456030,\n",
       "  'player_15': 456488,\n",
       "  'player_16': 593958,\n",
       "  'player_17': 592390,\n",
       "  'player_18': 584171,\n",
       "  'player_19': 502110,\n",
       "  'player_20': 598265,\n",
       "  'player_21': 657031,\n",
       "  'player_22': 593523,\n",
       "  'player_23': 519393,\n",
       "  'player_24': 598264,\n",
       "  'player_25': 656308,\n",
       "  'player_26': 519048,\n",
       "  'player_27': 605141,\n",
       "  'player_28': 543135,\n",
       "  'player_29': 646240,\n",
       "  'player_30': 519144,\n",
       "  'player_31': 518489,\n",
       "  'player_32': 607752,\n",
       "  'player_33': 506702,\n",
       "  'player_34': 456665,\n",
       "  'player_35': 453214,\n",
       "  'player_36': 664042,\n",
       "  'player_37': 592804,\n",
       "  'player_38': 624407,\n",
       "  'player_39': 593428},\n",
       " {'player_1': 461872,\n",
       "  'player_2': 623323,\n",
       "  'player_3': 592165,\n",
       "  'player_4': 607473,\n",
       "  'player_5': 518715,\n",
       "  'player_6': 656186,\n",
       "  'player_7': 596129,\n",
       "  'player_8': 571679,\n",
       "  'player_9': 543829,\n",
       "  'player_10': 570267,\n",
       "  'player_11': 664238,\n",
       "  'player_12': 429665,\n",
       "  'player_13': 657024,\n",
       "  'player_14': 433587,\n",
       "  'player_15': 639373,\n",
       "  'player_16': 519326,\n",
       "  'player_17': 641487,\n",
       "  'player_18': 457803,\n",
       "  'player_19': 621575,\n",
       "  'player_20': 656954,\n",
       "  'player_21': 502117,\n",
       "  'player_22': 572122,\n",
       "  'player_23': 605480,\n",
       "  'player_24': 594835,\n",
       "  'player_25': 670036,\n",
       "  'player_26': 502190,\n",
       "  'player_27': 571745,\n",
       "  'player_28': 592705,\n",
       "  'player_29': 553882,\n",
       "  'player_30': 595798,\n",
       "  'player_31': 645307,\n",
       "  'player_32': 606273,\n",
       "  'player_33': 592387,\n",
       "  'player_34': 592815,\n",
       "  'player_35': 542888,\n",
       "  'player_36': 643418,\n",
       "  'player_37': 542921,\n",
       "  'player_38': 453281,\n",
       "  'player_39': 579328,\n",
       "  'player_40': 573127}]"
      ]
     },
     "execution_count": 67,
     "metadata": {},
     "output_type": "execute_result"
    }
   ],
   "source": [
    "[get_roster(x) for x in roster_inputs[0:5]]"
   ]
  },
  {
   "cell_type": "code",
   "execution_count": 53,
   "metadata": {},
   "outputs": [],
   "source": [
    "test_game = session.query(Game).filter_by(id=test_gameId)"
   ]
  },
  {
   "cell_type": "code",
   "execution_count": 58,
   "metadata": {},
   "outputs": [
    {
     "data": {
      "text/plain": [
       "[<__main__.GameTeamLink at 0x111408f28>,\n",
       " <__main__.GameTeamLink at 0x111408e10>]"
      ]
     },
     "execution_count": 58,
     "metadata": {},
     "output_type": "execute_result"
    }
   ],
   "source": [
    "test_game.first().teams"
   ]
  },
  {
   "cell_type": "code",
   "execution_count": 84,
   "metadata": {},
   "outputs": [
    {
     "data": {
      "text/plain": [
       "[{'date': '2019-03-31', 'season': 2019, 'homeTeam': 139, 'awayTeam': 117}]"
      ]
     },
     "execution_count": 84,
     "metadata": {},
     "output_type": "execute_result"
    }
   ],
   "source": [
    "get_roster_inputs(test_game)"
   ]
  },
  {
   "cell_type": "code",
   "execution_count": 85,
   "metadata": {},
   "outputs": [],
   "source": [
    "roster_verify = mlb.get('team_roster',{'teamId':139,'season':2019,'date':'2019-03-31','rosterType':'active'})"
   ]
  },
  {
   "cell_type": "code",
   "execution_count": 86,
   "metadata": {},
   "outputs": [
    {
     "data": {
      "text/plain": [
       "25"
      ]
     },
     "execution_count": 86,
     "metadata": {},
     "output_type": "execute_result"
    }
   ],
   "source": [
    "len([x['person']['id'] for x in roster_verify['roster']])"
   ]
  },
  {
   "cell_type": "code",
   "execution_count": 88,
   "metadata": {},
   "outputs": [],
   "source": [
    "test_roster_dict = get_roster(get_roster_inputs(test_game)[0])"
   ]
  },
  {
   "cell_type": "code",
   "execution_count": 91,
   "metadata": {},
   "outputs": [
    {
     "data": {
      "text/plain": [
       "True"
      ]
     },
     "execution_count": 91,
     "metadata": {},
     "output_type": "execute_result"
    }
   ],
   "source": [
    "list(test_roster_dict.values())==[x['person']['id'] for x in roster_verify['roster']]"
   ]
  },
  {
   "cell_type": "code",
   "execution_count": null,
   "metadata": {},
   "outputs": [],
   "source": [
    "class Roster(Base):\n",
    "    \n",
    "    __tablename__ = 'rosters'\n",
    "    __table_args__ = {'extend_existing': True}\n",
    "    \n",
    "    id = Column(String(150))\n",
    "    game_id = Column(String(150),ForeignKey('games.id'))\n",
    "    team.id = Column(Integer,ForeignKey('teams.id'))\n",
    "    "
   ]
  }
 ],
 "metadata": {
  "kernelspec": {
   "display_name": "Python 3",
   "language": "python",
   "name": "python3"
  },
  "language_info": {
   "codemirror_mode": {
    "name": "ipython",
    "version": 3
   },
   "file_extension": ".py",
   "mimetype": "text/x-python",
   "name": "python",
   "nbconvert_exporter": "python",
   "pygments_lexer": "ipython3",
   "version": "3.7.3"
  }
 },
 "nbformat": 4,
 "nbformat_minor": 2
}
