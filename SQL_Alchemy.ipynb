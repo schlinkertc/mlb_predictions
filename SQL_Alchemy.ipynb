{
 "cells": [
  {
   "cell_type": "code",
   "execution_count": 1,
   "metadata": {},
   "outputs": [],
   "source": [
    "import config\n",
    "import sqlalchemy\n",
    "import functions\n",
    "import statsapi as mlb\n",
    "import sql_alch_schema\n",
    "from datetime import datetime"
   ]
  },
  {
   "cell_type": "code",
   "execution_count": 2,
   "metadata": {},
   "outputs": [],
   "source": [
    "from sqlalchemy.ext.declarative import declarative_base\n",
    "from sqlalchemy import Column, Integer, String,DateTime,Date,Time,Boolean\n",
    "from sqlalchemy import ForeignKey\n",
    "from sqlalchemy.orm import relationship\n",
    "from sqlalchemy.schema import Table\n",
    "from sqlalchemy import distinct"
   ]
  },
  {
   "cell_type": "code",
   "execution_count": 3,
   "metadata": {},
   "outputs": [],
   "source": [
    "_sql_alchemy_connection = (\n",
    "                                f'mysql+mysqlconnector://'\n",
    "                                f'{config.user}:{config.password}'\n",
    "                                f'@{config.host}:{config.port}'\n",
    "                                f'/{config.schema}'\n",
    "                           )\n",
    "## Create the engine \n",
    "db = sqlalchemy.create_engine(_sql_alchemy_connection,\n",
    "                              echo = False,\n",
    "                              connect_args = {'ssl_disabled' : True,})"
   ]
  },
  {
   "cell_type": "code",
   "execution_count": 4,
   "metadata": {},
   "outputs": [],
   "source": [
    "\n",
    "Game = sql_alch_schema.Game\n",
    "Play = sql_alch_schema.Play\n",
    "Base = sql_alch_schema.Base\n",
    "Team = sql_alch_schema.Team\n",
    "\n",
    "from sqlalchemy.orm import sessionmaker\n",
    "Session = sessionmaker(bind=db)\n",
    "session = Session()"
   ]
  },
  {
   "cell_type": "markdown",
   "metadata": {},
   "source": [
    "## Create the teams table\n",
    "We need teams before roster because we need to map the team id pk to team id fk in roster "
   ]
  },
  {
   "cell_type": "code",
   "execution_count": 5,
   "metadata": {},
   "outputs": [],
   "source": [
    "class GameTeamLink(Base):\n",
    "    __tablename__ = 'game_team_link'\n",
    "    __table_args__ = {'extend_existing': True}\n",
    "    \n",
    "    game_id = Column(String(150),ForeignKey('games.id'),primary_key=True)\n",
    "    team_id = Column(Integer,ForeignKey('teams.id'),primary_key=True)\n",
    "    \n",
    "    # add roster at the time of game \n",
    "    player_1_id = Column(Integer)\n",
    "    player_2_id = Column(Integer)\n",
    "    player_3_id = Column(Integer)\n",
    "    player_4_id = Column(Integer)\n",
    "    player_5_id = Column(Integer)\n",
    "    player_6_id = Column(Integer)\n",
    "    player_7_id = Column(Integer)\n",
    "    player_8_id = Column(Integer)\n",
    "    player_9_id = Column(Integer)\n",
    "    player_10_id = Column(Integer)\n",
    "    player_11_id = Column(Integer)\n",
    "    player_12_id = Column(Integer)\n",
    "    player_13_id = Column(Integer)\n",
    "    player_14_id = Column(Integer)\n",
    "    player_15_id = Column(Integer)\n",
    "    player_16_id = Column(Integer)\n",
    "    player_17_id = Column(Integer)\n",
    "    player_18_id = Column(Integer)\n",
    "    player_19_id = Column(Integer)\n",
    "    player_20_id = Column(Integer)\n",
    "    player_21_id = Column(Integer)\n",
    "    player_22_id = Column(Integer)\n",
    "    player_23_id = Column(Integer)\n",
    "    player_24_id = Column(Integer)\n",
    "    player_25_id = Column(Integer)\n",
    "    player_26_id = Column(Integer)\n",
    "    player_27_id = Column(Integer)\n",
    "    player_28_id = Column(Integer)\n",
    "    player_29_id = Column(Integer)\n",
    "    player_30_id = Column(Integer)\n",
    "    player_31_id = Column(Integer)\n",
    "    player_32_id = Column(Integer)\n",
    "    player_33_id = Column(Integer)\n",
    "    player_34_id = Column(Integer)\n",
    "    player_35_id = Column(Integer)\n",
    "    player_36_id = Column(Integer)\n",
    "    player_37_id = Column(Integer)\n",
    "    player_38_id = Column(Integer)\n",
    "    player_39_id = Column(Integer)\n",
    "    player_40_id = Column(Integer)\n",
    "    \n",
    "    #relationships\n",
    "    game = relationship('Game',back_populates='teams')\n",
    "    team = relationship('Team',back_populates='games')\n",
    "\n",
    "# update game and team tables \n",
    "Game.teams = relationship(\"GameTeamLink\",back_populates='game')\n",
    "Team.games = relationship(\"GameTeamLink\",back_populates='team')"
   ]
  },
  {
   "cell_type": "code",
   "execution_count": 6,
   "metadata": {},
   "outputs": [],
   "source": [
    "def players(self):\n",
    "    for attr, value in self.__dict__.items():\n",
    "        if attr.startswith(\"player\") and value >0:\n",
    "            yield value\n",
    "GameTeamLink.players = players"
   ]
  },
  {
   "cell_type": "code",
   "execution_count": 7,
   "metadata": {},
   "outputs": [],
   "source": [
    "def gtl__repr__(self):\n",
    "    return \"<GameTeam(game_id='%s',team_id='%s')>\" % (\n",
    "                        self.game_id,self.team_id)\n",
    "GameTeamLink.__repr__ = gtl__repr__"
   ]
  },
  {
   "cell_type": "code",
   "execution_count": 8,
   "metadata": {},
   "outputs": [],
   "source": [
    "#db.execute('drop table game_team_link')\n",
    "Base.metadata.create_all(db)"
   ]
  },
  {
   "cell_type": "markdown",
   "metadata": {},
   "source": [
    "## Query the db to get info needed for roster table"
   ]
  },
  {
   "cell_type": "markdown",
   "metadata": {},
   "source": [
    "to get the active roster from the mlb stats api, I need a team id, season, and date "
   ]
  },
  {
   "cell_type": "code",
   "execution_count": 9,
   "metadata": {},
   "outputs": [],
   "source": [
    "def get_roster_inputs(query):   \n",
    "    roster_inputs = []\n",
    "    for instance in query.all():\n",
    "        roster_input_dict = {'date':datetime.strftime(instance.dateTime,'%Y-%m-%d'),\n",
    "                             'season':instance.season,\n",
    "                             'homeTeam':instance.homeTeam_id,\n",
    "                             'awayTeam':instance.awayTeam_id,\n",
    "                             }\n",
    "        roster_inputs.append(roster_input_dict)\n",
    "        \n",
    "    return roster_inputs\n",
    "    "
   ]
  },
  {
   "cell_type": "code",
   "execution_count": 10,
   "metadata": {},
   "outputs": [],
   "source": [
    "def get_roster(roster_input_dict):\n",
    "    #player_list = ['player_'+str(x) for x in range(1,41)]\n",
    "    home = mlb.get('team_roster',\n",
    "                   {'teamId':roster_input_dict['homeTeam'],\n",
    "                    'rosterType':'active',\n",
    "                    'season':roster_input_dict['season'],\n",
    "                    'date':roster_input_dict['date']\n",
    "                   })['roster']\n",
    "    home_roster_ids = [x['person']['id'] for x in home]\n",
    "    player_list = ['player_'+str(x) for x in range(1,len(home_roster_ids)+1)]\n",
    "    home_roster_dict = {x:y for x,y in zip(player_list,home_roster_ids)}\n",
    "    home_roster_dict['teamId'] = roster_input_dict['homeTeam']\n",
    "    \n",
    "    away = mlb.get('team_roster',\n",
    "                   {'teamId':roster_input_dict['awayTeam'],\n",
    "                    'rosterType':'active',\n",
    "                    'season':roster_input_dict['season'],\n",
    "                    'date':roster_input_dict['date']\n",
    "                   })['roster']\n",
    "    away_roster_ids = [x['person']['id'] for x in away]\n",
    "    player_list = ['player_'+str(x) for x in range(1,len(away_roster_ids)+1)]\n",
    "    away_roster_dict = {x:y for x,y in zip(player_list,away_roster_ids)}\n",
    "    away_roster_dict['teamId']=roster_input_dict['awayTeam']\n",
    "    return home_roster_dict,away_roster_dict\n"
   ]
  },
  {
   "cell_type": "code",
   "execution_count": 11,
   "metadata": {},
   "outputs": [],
   "source": [
    "def create_GameTeamLink(game_ids):\n",
    "    records = []\n",
    "    for game_id in game_ids:\n",
    "        game_query = session.query(Game).filter_by(id=game_id)\n",
    "        roster_input_dicts = get_roster_inputs(game_query)\n",
    "        home_roster,away_roster = get_roster(roster_input_dicts[0])\n",
    "        rosters = [home_roster,away_roster]\n",
    "#       rosters.append(roster)\n",
    "        \n",
    "        for roster in rosters:\n",
    "            game_team_record = GameTeamLink(game_id=game_id,\n",
    "                                            team_id=roster['teamId'],\n",
    "\n",
    "                                            player_1_id = roster.get('player_1','null'),\n",
    "                                            player_2_id = roster.get('player_2','null'),\n",
    "                                            player_3_id = roster.get('player_3','null'),\n",
    "                                            player_4_id = roster.get('player_4','null'),\n",
    "                                            player_5_id = roster.get('player_5','null'),\n",
    "                                            player_6_id = roster.get('player_6','null'),\n",
    "                                            player_7_id = roster.get('player_7','null'),\n",
    "                                            player_8_id = roster.get('player_8','null'),\n",
    "                                            player_9_id = roster.get('player_9','null'),\n",
    "                                            player_10_id = roster.get('player_10','null'),\n",
    "                                            player_11_id = roster.get('player_11','null'),\n",
    "                                            player_12_id = roster.get('player_12','null'),\n",
    "                                            player_13_id = roster.get('player_13','null'),\n",
    "                                            player_14_id = roster.get('player_14','null'),\n",
    "                                            player_15_id = roster.get('player_15','null'),\n",
    "                                            player_16_id = roster.get('player_16','null'),\n",
    "                                            player_17_id = roster.get('player_17','null'),\n",
    "                                            player_18_id = roster.get('player_18','null'),\n",
    "                                            player_19_id = roster.get('player_19','null'),\n",
    "                                            player_20_id = roster.get('player_20','null'),\n",
    "                                            player_21_id = roster.get('player_21','null'),\n",
    "                                            player_22_id = roster.get('player_22','null'),\n",
    "                                            player_23_id = roster.get('player_23','null'),\n",
    "                                            player_24_id = roster.get('player_24','null'),\n",
    "                                            player_25_id = roster.get('player_25','null'),\n",
    "                                            player_26_id = roster.get('player_26','null'),\n",
    "                                            player_27_id = roster.get('player_27','null'),\n",
    "                                            player_28_id = roster.get('player_28','null'),\n",
    "                                            player_29_id = roster.get('player_29','null'),\n",
    "                                            player_30_id = roster.get('player_30','null'),\n",
    "                                            player_31_id = roster.get('player_31','null'),\n",
    "                                            player_32_id = roster.get('player_32','null'),\n",
    "                                            player_33_id = roster.get('player_33','null'),\n",
    "                                            player_34_id = roster.get('player_34','null'),\n",
    "                                            player_35_id = roster.get('player_35','null'),\n",
    "                                            player_36_id = roster.get('player_36','null'),\n",
    "                                            player_37_id = roster.get('player_37','null'),\n",
    "                                            player_38_id = roster.get('player_38','null'),\n",
    "                                            player_39_id = roster.get('player_39','null'),\n",
    "                                            player_40_id = roster.get('player_40','null')\n",
    "                                           )\n",
    "            records.append(game_team_record)\n",
    "    return records"
   ]
  },
  {
   "cell_type": "markdown",
   "metadata": {},
   "source": [
    "A Game record queried from mysql has a .teams attribute that retuns two GameTeamLink records as shown below"
   ]
  },
  {
   "cell_type": "code",
   "execution_count": 12,
   "metadata": {},
   "outputs": [
    {
     "name": "stdout",
     "output_type": "stream",
     "text": [
      "<Game(pk='566086',id='2019/03/28/anamlb-oakmlb-1')>\n"
     ]
    },
    {
     "data": {
      "text/plain": [
       "[<GameTeam(game_id='2019/03/28/anamlb-oakmlb-1',team_id='108')>,\n",
       " <GameTeam(game_id='2019/03/28/anamlb-oakmlb-1',team_id='133')>]"
      ]
     },
     "execution_count": 12,
     "metadata": {},
     "output_type": "execute_result"
    }
   ],
   "source": [
    "test_gameId = '2019/03/28/anamlb-oakmlb-1'\n",
    "game_test = session.query(Game).filter_by(id=test_gameId).one()\n",
    "\n",
    "print(game_test)\n",
    "game_test.teams"
   ]
  },
  {
   "cell_type": "markdown",
   "metadata": {},
   "source": [
    "A game_team object can access the associated game record and team record as well as plays for that game"
   ]
  },
  {
   "cell_type": "code",
   "execution_count": 13,
   "metadata": {},
   "outputs": [
    {
     "name": "stdout",
     "output_type": "stream",
     "text": [
      "<GameTeam(game_id='2019/03/28/anamlb-oakmlb-1',team_id='108')> \n",
      "\n",
      "<Team(name='Los Angeles Angels')> \n",
      "\n",
      "405395 \n",
      "\n"
     ]
    },
    {
     "data": {
      "text/plain": [
       "[<Play(game_id='2019/03/28/anamlb-oakmlb-1',atBatIndex='0')>,\n",
       " <Play(game_id='2019/03/28/anamlb-oakmlb-1',atBatIndex='1')>,\n",
       " <Play(game_id='2019/03/28/anamlb-oakmlb-1',atBatIndex='10')>,\n",
       " <Play(game_id='2019/03/28/anamlb-oakmlb-1',atBatIndex='11')>,\n",
       " <Play(game_id='2019/03/28/anamlb-oakmlb-1',atBatIndex='12')>,\n",
       " <Play(game_id='2019/03/28/anamlb-oakmlb-1',atBatIndex='13')>,\n",
       " <Play(game_id='2019/03/28/anamlb-oakmlb-1',atBatIndex='14')>,\n",
       " <Play(game_id='2019/03/28/anamlb-oakmlb-1',atBatIndex='15')>,\n",
       " <Play(game_id='2019/03/28/anamlb-oakmlb-1',atBatIndex='16')>,\n",
       " <Play(game_id='2019/03/28/anamlb-oakmlb-1',atBatIndex='17')>,\n",
       " <Play(game_id='2019/03/28/anamlb-oakmlb-1',atBatIndex='18')>,\n",
       " <Play(game_id='2019/03/28/anamlb-oakmlb-1',atBatIndex='19')>,\n",
       " <Play(game_id='2019/03/28/anamlb-oakmlb-1',atBatIndex='2')>,\n",
       " <Play(game_id='2019/03/28/anamlb-oakmlb-1',atBatIndex='20')>,\n",
       " <Play(game_id='2019/03/28/anamlb-oakmlb-1',atBatIndex='21')>,\n",
       " <Play(game_id='2019/03/28/anamlb-oakmlb-1',atBatIndex='22')>,\n",
       " <Play(game_id='2019/03/28/anamlb-oakmlb-1',atBatIndex='23')>,\n",
       " <Play(game_id='2019/03/28/anamlb-oakmlb-1',atBatIndex='24')>,\n",
       " <Play(game_id='2019/03/28/anamlb-oakmlb-1',atBatIndex='25')>,\n",
       " <Play(game_id='2019/03/28/anamlb-oakmlb-1',atBatIndex='26')>,\n",
       " <Play(game_id='2019/03/28/anamlb-oakmlb-1',atBatIndex='27')>,\n",
       " <Play(game_id='2019/03/28/anamlb-oakmlb-1',atBatIndex='28')>,\n",
       " <Play(game_id='2019/03/28/anamlb-oakmlb-1',atBatIndex='29')>,\n",
       " <Play(game_id='2019/03/28/anamlb-oakmlb-1',atBatIndex='3')>,\n",
       " <Play(game_id='2019/03/28/anamlb-oakmlb-1',atBatIndex='30')>,\n",
       " <Play(game_id='2019/03/28/anamlb-oakmlb-1',atBatIndex='31')>,\n",
       " <Play(game_id='2019/03/28/anamlb-oakmlb-1',atBatIndex='32')>,\n",
       " <Play(game_id='2019/03/28/anamlb-oakmlb-1',atBatIndex='33')>,\n",
       " <Play(game_id='2019/03/28/anamlb-oakmlb-1',atBatIndex='34')>,\n",
       " <Play(game_id='2019/03/28/anamlb-oakmlb-1',atBatIndex='35')>,\n",
       " <Play(game_id='2019/03/28/anamlb-oakmlb-1',atBatIndex='36')>,\n",
       " <Play(game_id='2019/03/28/anamlb-oakmlb-1',atBatIndex='37')>,\n",
       " <Play(game_id='2019/03/28/anamlb-oakmlb-1',atBatIndex='38')>,\n",
       " <Play(game_id='2019/03/28/anamlb-oakmlb-1',atBatIndex='39')>,\n",
       " <Play(game_id='2019/03/28/anamlb-oakmlb-1',atBatIndex='4')>,\n",
       " <Play(game_id='2019/03/28/anamlb-oakmlb-1',atBatIndex='40')>,\n",
       " <Play(game_id='2019/03/28/anamlb-oakmlb-1',atBatIndex='41')>,\n",
       " <Play(game_id='2019/03/28/anamlb-oakmlb-1',atBatIndex='42')>,\n",
       " <Play(game_id='2019/03/28/anamlb-oakmlb-1',atBatIndex='43')>,\n",
       " <Play(game_id='2019/03/28/anamlb-oakmlb-1',atBatIndex='44')>,\n",
       " <Play(game_id='2019/03/28/anamlb-oakmlb-1',atBatIndex='45')>,\n",
       " <Play(game_id='2019/03/28/anamlb-oakmlb-1',atBatIndex='46')>,\n",
       " <Play(game_id='2019/03/28/anamlb-oakmlb-1',atBatIndex='47')>,\n",
       " <Play(game_id='2019/03/28/anamlb-oakmlb-1',atBatIndex='48')>,\n",
       " <Play(game_id='2019/03/28/anamlb-oakmlb-1',atBatIndex='49')>,\n",
       " <Play(game_id='2019/03/28/anamlb-oakmlb-1',atBatIndex='5')>,\n",
       " <Play(game_id='2019/03/28/anamlb-oakmlb-1',atBatIndex='50')>,\n",
       " <Play(game_id='2019/03/28/anamlb-oakmlb-1',atBatIndex='51')>,\n",
       " <Play(game_id='2019/03/28/anamlb-oakmlb-1',atBatIndex='52')>,\n",
       " <Play(game_id='2019/03/28/anamlb-oakmlb-1',atBatIndex='53')>,\n",
       " <Play(game_id='2019/03/28/anamlb-oakmlb-1',atBatIndex='54')>,\n",
       " <Play(game_id='2019/03/28/anamlb-oakmlb-1',atBatIndex='55')>,\n",
       " <Play(game_id='2019/03/28/anamlb-oakmlb-1',atBatIndex='56')>,\n",
       " <Play(game_id='2019/03/28/anamlb-oakmlb-1',atBatIndex='57')>,\n",
       " <Play(game_id='2019/03/28/anamlb-oakmlb-1',atBatIndex='58')>,\n",
       " <Play(game_id='2019/03/28/anamlb-oakmlb-1',atBatIndex='59')>,\n",
       " <Play(game_id='2019/03/28/anamlb-oakmlb-1',atBatIndex='6')>,\n",
       " <Play(game_id='2019/03/28/anamlb-oakmlb-1',atBatIndex='60')>,\n",
       " <Play(game_id='2019/03/28/anamlb-oakmlb-1',atBatIndex='61')>,\n",
       " <Play(game_id='2019/03/28/anamlb-oakmlb-1',atBatIndex='62')>,\n",
       " <Play(game_id='2019/03/28/anamlb-oakmlb-1',atBatIndex='63')>,\n",
       " <Play(game_id='2019/03/28/anamlb-oakmlb-1',atBatIndex='64')>,\n",
       " <Play(game_id='2019/03/28/anamlb-oakmlb-1',atBatIndex='7')>,\n",
       " <Play(game_id='2019/03/28/anamlb-oakmlb-1',atBatIndex='8')>,\n",
       " <Play(game_id='2019/03/28/anamlb-oakmlb-1',atBatIndex='9')>]"
      ]
     },
     "execution_count": 13,
     "metadata": {},
     "output_type": "execute_result"
    }
   ],
   "source": [
    "game_team_test = game_test.teams[0]\n",
    "\n",
    "print(game_team_test,'\\n')\n",
    "print(game_team_test.team,'\\n')\n",
    "print(game_team_test.player_1_id,'\\n')\n",
    "game_team_test.game.plays"
   ]
  },
  {
   "cell_type": "markdown",
   "metadata": {},
   "source": [
    "we can also access players through a game_team_object"
   ]
  },
  {
   "cell_type": "code",
   "execution_count": 14,
   "metadata": {},
   "outputs": [
    {
     "data": {
      "text/plain": [
       "True"
      ]
     },
     "execution_count": 14,
     "metadata": {},
     "output_type": "execute_result"
    }
   ],
   "source": [
    "[x for x in game_team_test.players()]==[x for x in game_team_test.players()][0:None]"
   ]
  },
  {
   "cell_type": "code",
   "execution_count": 15,
   "metadata": {},
   "outputs": [
    {
     "data": {
      "text/plain": [
       "<generator object players at 0x110751570>"
      ]
     },
     "execution_count": 15,
     "metadata": {},
     "output_type": "execute_result"
    }
   ],
   "source": [
    "game_test.teams[0].players()"
   ]
  },
  {
   "cell_type": "markdown",
   "metadata": {},
   "source": [
    "## I need to create and add game_team records for every game now\n",
    "- find all game_ids\n",
    "- find game_ids for all currently present game_team records \n",
    "- create records for all game_ids not currently present\n",
    "- session.add() session.commit()"
   ]
  },
  {
   "cell_type": "code",
   "execution_count": 16,
   "metadata": {},
   "outputs": [],
   "source": [
    "def chunk(n,list_to_chunk):\n",
    "    return [ list_to_chunk[i:i+n] for i in range(0,len(list_to_chunk),n) ]\n",
    "\n",
    "def create_add_GameTeamLink(session,start=0,stop=None,chunk_size=50):   \n",
    "    # collect game_ids from the games table \n",
    "    ids_list_test = session.query(Game.id).all()[start:stop]\n",
    "    ids_list_test=[item for sublist in ids_list_test for item in sublist]\n",
    "\n",
    "    # collect game_ids from the game_link table\n",
    "    # I'll naturally have duplicates so I think I'll make it a set \n",
    "    already_added = list({item for sublist in session.query(GameTeamLink.game_id).all() for item in sublist})\n",
    "\n",
    "    games_to_get = [game for game in ids_list_test if game not in already_added]\n",
    "    \n",
    "    list_of_chunks = chunk(chunk_size,games_to_get)\n",
    "    count = 1\n",
    "    \n",
    "    for _chunk in list_of_chunks:\n",
    "        try:\n",
    "            print(f'starting chunk {count} out of {len(list_of_chunks)}')\n",
    "            games_teams_to_add = create_GameTeamLink(_chunk)\n",
    "\n",
    "            session.add_all(games_teams_to_add)\n",
    "            session.commit()\n",
    "\n",
    "            count = count+1\n",
    "        except:\n",
    "            print('chunk failed. Rolling back the session and trying the next chunk')\n",
    "            session.rollback()\n",
    "            continue "
   ]
  },
  {
   "cell_type": "code",
   "execution_count": 80,
   "metadata": {},
   "outputs": [
    {
     "name": "stdout",
     "output_type": "stream",
     "text": [
      "starting chunk 1 out of 47\n",
      "starting chunk 2 out of 47\n",
      "starting chunk 3 out of 47\n",
      "starting chunk 4 out of 47\n",
      "starting chunk 5 out of 47\n",
      "starting chunk 6 out of 47\n",
      "starting chunk 7 out of 47\n",
      "starting chunk 8 out of 47\n",
      "starting chunk 9 out of 47\n",
      "starting chunk 10 out of 47\n",
      "starting chunk 11 out of 47\n",
      "starting chunk 12 out of 47\n",
      "starting chunk 13 out of 47\n",
      "starting chunk 14 out of 47\n",
      "starting chunk 15 out of 47\n",
      "starting chunk 16 out of 47\n",
      "starting chunk 17 out of 47\n",
      "starting chunk 18 out of 47\n",
      "starting chunk 19 out of 47\n",
      "starting chunk 20 out of 47\n",
      "starting chunk 21 out of 47\n",
      "starting chunk 22 out of 47\n",
      "starting chunk 23 out of 47\n",
      "starting chunk 24 out of 47\n",
      "starting chunk 25 out of 47\n",
      "starting chunk 26 out of 47\n",
      "starting chunk 27 out of 47\n",
      "starting chunk 28 out of 47\n",
      "starting chunk 29 out of 47\n",
      "starting chunk 30 out of 47\n",
      "starting chunk 31 out of 47\n",
      "starting chunk 32 out of 47\n",
      "starting chunk 33 out of 47\n",
      "starting chunk 34 out of 47\n",
      "starting chunk 35 out of 47\n",
      "starting chunk 36 out of 47\n",
      "starting chunk 37 out of 47\n",
      "starting chunk 38 out of 47\n",
      "starting chunk 39 out of 47\n",
      "starting chunk 40 out of 47\n",
      "starting chunk 41 out of 47\n",
      "starting chunk 42 out of 47\n",
      "starting chunk 43 out of 47\n",
      "starting chunk 44 out of 47\n",
      "starting chunk 45 out of 47\n",
      "starting chunk 46 out of 47\n",
      "starting chunk 47 out of 47\n"
     ]
    }
   ],
   "source": [
    "create_add_GameTeamLink(session)\n"
   ]
  },
  {
   "cell_type": "markdown",
   "metadata": {},
   "source": [
    "## Let's find some player stats\n",
    "Eventually, we want team stats. But lets start with a single player"
   ]
  },
  {
   "cell_type": "code",
   "execution_count": 17,
   "metadata": {},
   "outputs": [],
   "source": [
    "mike_trout_id = 545361"
   ]
  },
  {
   "cell_type": "code",
   "execution_count": 18,
   "metadata": {},
   "outputs": [],
   "source": [
    "# look at all possible values for the event from a play \n",
    "play_events = [item for sublist in session.query(distinct(Play.event)).all() for item in sublist]"
   ]
  },
  {
   "cell_type": "code",
   "execution_count": 19,
   "metadata": {},
   "outputs": [
    {
     "data": {
      "text/plain": [
       "['Double',\n",
       " 'Hit By Pitch',\n",
       " 'Strikeout',\n",
       " 'Lineout',\n",
       " 'Home Run',\n",
       " 'Flyout',\n",
       " 'Groundout',\n",
       " 'Single',\n",
       " 'Pop Out',\n",
       " 'Forceout',\n",
       " 'Field Error',\n",
       " 'Double Play',\n",
       " 'Sac Fly',\n",
       " 'Walk',\n",
       " 'Bunt Groundout',\n",
       " 'Triple',\n",
       " 'Grounded Into DP',\n",
       " 'Caught Stealing 2B',\n",
       " 'Sac Bunt',\n",
       " 'Strikeout Double Play',\n",
       " 'Catcher Interference',\n",
       " 'Fielders Choice',\n",
       " 'Fielders Choice Out',\n",
       " 'Runner Out',\n",
       " 'Batter Interference',\n",
       " 'Fan Interference',\n",
       " 'Intent Walk',\n",
       " 'Sac Fly Double Play',\n",
       " 'Pickoff 1B',\n",
       " 'Bunt Pop Out',\n",
       " 'Pickoff Caught Stealing 2',\n",
       " 'Caught Stealing Home',\n",
       " 'Bunt Lineout',\n",
       " 'Game Advisory',\n",
       " 'Batter Out',\n",
       " 'Pickoff Caught Stealing 3',\n",
       " 'Caught Stealing 3B',\n",
       " 'Pickoff Caught Stealing H',\n",
       " 'Runner Double Play',\n",
       " 'Pickoff 2B',\n",
       " 'Wild Pitch',\n",
       " 'Pickoff 3B',\n",
       " 'Triple Play',\n",
       " 'Sac Bunt Double Play',\n",
       " 'Passed Ball',\n",
       " 'Stolen Base 2B',\n",
       " 'Pickoff Error 1B']"
      ]
     },
     "execution_count": 19,
     "metadata": {},
     "output_type": "execute_result"
    }
   ],
   "source": [
    "play_events"
   ]
  },
  {
   "cell_type": "code",
   "execution_count": 76,
   "metadata": {},
   "outputs": [],
   "source": [
    "hits = [\n",
    "    'Single',\n",
    "    'Double',\n",
    "    'Triple',\n",
    "    'Home Run',\n",
    "]"
   ]
  },
  {
   "cell_type": "code",
   "execution_count": 21,
   "metadata": {},
   "outputs": [],
   "source": [
    "# how many hits did Mike Trout have in 2019? \n",
    "from sqlalchemy import and_\n",
    "mike_trout_hits = session.query(Play).filter(and_(Play.batter_id==mike_trout_id,Play.event.in_(hits))).count()\n",
    "mike_trout_abs = session.query(Play).filter(and_(Play.batter_id==mike_trout_id)).count()"
   ]
  },
  {
   "cell_type": "code",
   "execution_count": 22,
   "metadata": {},
   "outputs": [],
   "source": [
    "mike_trout_avg = mike_trout_hits/mike_trout_abs"
   ]
  },
  {
   "cell_type": "code",
   "execution_count": 23,
   "metadata": {},
   "outputs": [],
   "source": [
    "first_play = session.query(Play).first()"
   ]
  },
  {
   "cell_type": "code",
   "execution_count": 24,
   "metadata": {},
   "outputs": [
    {
     "data": {
      "text/plain": [
       "'S'"
      ]
     },
     "execution_count": 24,
     "metadata": {},
     "output_type": "execute_result"
    }
   ],
   "source": [
    "first_play.game.type"
   ]
  },
  {
   "cell_type": "code",
   "execution_count": 50,
   "metadata": {},
   "outputs": [],
   "source": [
    "PAs = []\n",
    "for game, play in session.query(Game,Play).\\\n",
    "                    filter(Game.id==Play.game_id).\\\n",
    "                    filter(and_(Game.type=='R',Game.dateTime<datetime(2019,7,1))).\\\n",
    "                    filter(Play.batter_id==mike_trout_id).\\\n",
    "                    all():\n",
    "    PAs.append(play)\n",
    "    "
   ]
  },
  {
   "cell_type": "code",
   "execution_count": 53,
   "metadata": {},
   "outputs": [
    {
     "data": {
      "text/plain": [
       "82"
      ]
     },
     "execution_count": 53,
     "metadata": {},
     "output_type": "execute_result"
    }
   ],
   "source": [
    "len([x for x in PAs if x.event in hits])"
   ]
  },
  {
   "cell_type": "code",
   "execution_count": 54,
   "metadata": {},
   "outputs": [
    {
     "data": {
      "text/plain": [
       "361"
      ]
     },
     "execution_count": 54,
     "metadata": {},
     "output_type": "execute_result"
    }
   ],
   "source": [
    "len(PAs)"
   ]
  },
  {
   "cell_type": "code",
   "execution_count": 114,
   "metadata": {},
   "outputs": [],
   "source": [
    "def player_hits(session,player_id,game_record=None,date=None):\n",
    "    \"\"\"\n",
    "    function takes in sql alchemy session, an instance of the Game class, and a player id.\n",
    "    returns player stats up until the date of the relevant game.\n",
    "    \"\"\"\n",
    "    if game_record==None and date==None:\n",
    "        print('error: must specify a game or date')\n",
    "    elif game_record!=None and date!=None:\n",
    "        print('error: must specify either a date or a game. not both')\n",
    "    else:\n",
    "        if game_record:\n",
    "            date = game_record.dateTime\n",
    "        else:\n",
    "            date=date\n",
    "        PAs = []\n",
    "        for game, play in session.query(Game,Play).\\\n",
    "                        filter(Game.id==Play.game_id).\\\n",
    "                        filter(and_(Game.type=='R',Game.dateTime<date)).\\\n",
    "                        filter(Play.batter_id==player_id).\\\n",
    "                        all():\n",
    "            PAs.append(play)\n",
    "        player_hits = [x for x in PAs if x.event in hits]\n",
    "#     print('Plate Appearances: ',len(PAs))\n",
    "#     print('Hits: ', len(player_hits))\n",
    "        return len(player_hits)"
   ]
  },
  {
   "cell_type": "code",
   "execution_count": 115,
   "metadata": {},
   "outputs": [
    {
     "data": {
      "text/plain": [
       "52"
      ]
     },
     "execution_count": 115,
     "metadata": {},
     "output_type": "execute_result"
    }
   ],
   "source": [
    "game_record_test = session.query(Game).filter(Game.dateTime<datetime(2019,6,3)).all()[-1]\n",
    "player_hits(session,mike_trout_id,game_record=game_record_test)"
   ]
  },
  {
   "cell_type": "markdown",
   "metadata": {},
   "source": [
    "Plot cumulative hits for a player"
   ]
  },
  {
   "cell_type": "code",
   "execution_count": 97,
   "metadata": {},
   "outputs": [],
   "source": [
    "import matplotlib.pyplot as plt"
   ]
  },
  {
   "cell_type": "code",
   "execution_count": 129,
   "metadata": {},
   "outputs": [],
   "source": [
    "ordered_games = session.query(Game).filter(Game.type=='R').order_by(Game.dateTime).all()"
   ]
  },
  {
   "cell_type": "code",
   "execution_count": 152,
   "metadata": {},
   "outputs": [],
   "source": [
    "# adding a game_players method to the Games table to return a list of active player ids\n",
    "def game_players(self):\n",
    "    return [x.players() for x in self.teams]\n",
    "\n",
    "Game.game_players = game_players\n",
    "\n",
    "# adding another Game method to see all players in a game\n",
    "def all_players(self):\n",
    "    return [item for sublist in self.game_players() for item in sublist]\n",
    "\n",
    "Game.all_players = all_players"
   ]
  },
  {
   "cell_type": "code",
   "execution_count": 164,
   "metadata": {},
   "outputs": [],
   "source": [
    "trout_PAs = session.query(Play).filter(Play.batter_id==mike_trout_id).all()"
   ]
  },
  {
   "cell_type": "code",
   "execution_count": 180,
   "metadata": {},
   "outputs": [],
   "source": [
    "trout_hit_dict = [{'time':x.startTime,'event':x.event} for x in trout_PAs if x.event in hits]"
   ]
  },
  {
   "cell_type": "code",
   "execution_count": null,
   "metadata": {},
   "outputs": [],
   "source": []
  },
  {
   "cell_type": "code",
   "execution_count": 186,
   "metadata": {},
   "outputs": [],
   "source": [
    "trout_hit_dates = [x['time'] for x in trout_hit_dict if x]\n",
    "trout_hit_dates.sort()\n",
    "trout_hit_dates = trout_hit_dates[1:]"
   ]
  },
  {
   "cell_type": "code",
   "execution_count": 188,
   "metadata": {},
   "outputs": [],
   "source": [
    "count = 1\n",
    "trout_cum_hits = []\n",
    "for hit_date in trout_hit_dates:\n",
    "    trout_cum_hits.append({'date':hit_date,'cum_hits':count})\n",
    "    count+=1"
   ]
  },
  {
   "cell_type": "code",
   "execution_count": 191,
   "metadata": {},
   "outputs": [],
   "source": [
    "dates = [x['date'] for x in trout_cum_hits]\n",
    "cum_hits = [x['cum_hits'] for x in trout_cum_hits]"
   ]
  },
  {
   "cell_type": "code",
   "execution_count": 192,
   "metadata": {},
   "outputs": [
    {
     "data": {
      "text/plain": [
       "[<matplotlib.lines.Line2D at 0x129810860>]"
      ]
     },
     "execution_count": 192,
     "metadata": {},
     "output_type": "execute_result"
    },
    {
     "data": {
      "image/png": "[encoded data removed]",
      "text/plain": [
       "<Figure size 432x288 with 1 Axes>"
      ]
     },
     "metadata": {
      "needs_background": "light"
     },
     "output_type": "display_data"
    }
   ],
   "source": [
    "plt.plot_date(x=dates,y=cum_hits,xdate=True)"
   ]
  },
  {
   "cell_type": "code",
   "execution_count": null,
   "metadata": {},
   "outputs": [],
   "source": []
  }
 ],
 "metadata": {
  "kernelspec": {
   "display_name": "Python 3",
   "language": "python",
   "name": "python3"
  },
  "language_info": {
   "codemirror_mode": {
    "name": "ipython",
    "version": 3
   },
   "file_extension": ".py",
   "mimetype": "text/x-python",
   "name": "python",
   "nbconvert_exporter": "python",
   "pygments_lexer": "ipython3",
   "version": "3.7.3"
  }
 },
 "nbformat": 4,
 "nbformat_minor": 2
}
