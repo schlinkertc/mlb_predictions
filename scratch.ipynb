{
 "cells": [
  {
   "cell_type": "code",
   "execution_count": 1,
   "metadata": {},
   "outputs": [],
   "source": [
    "import statsapi as mlb\n",
    "import pandas as pd\n",
    "import sqlalchemy\n",
    "import config\n",
    "import csv\n",
    "from os import walk\n",
    "import re\n",
    "from datetime import datetime\n",
    "import functions\n",
    "import sql_alch_schema\n",
    "from sqlalchemy.ext.declarative import declarative_base\n",
    "from sqlalchemy import Column, Integer, String,DateTime,Date,Time,Boolean,Float\n",
    "from sqlalchemy import ForeignKey,and_\n",
    "from sqlalchemy.orm import relationship\n",
    "\n",
    "\n",
    "_sql_alchemy_connection = (\n",
    "                                f'mysql+mysqlconnector://'\n",
    "                                f'{config.user}:{config.password}'\n",
    "                                f'@{config.host}:{config.port}'\n",
    "                                f'/{config.schema}'\n",
    "                           )\n",
    "## Create the engine \n",
    "db = sqlalchemy.create_engine(_sql_alchemy_connection,\n",
    "                              echo = False,\n",
    "                              connect_args = {'ssl_disabled' : True,})\n",
    "\n",
    "Base = sql_alch_schema.Base\n",
    "\n",
    "Game = sql_alch_schema.Game\n",
    "Play = sql_alch_schema.Play\n",
    "Team = sql_alch_schema.Team\n",
    "GameTeamLink = sql_alch_schema.GameTeamLink\n",
    "Person = sql_alch_schema.Person\n",
    "PersonPlayLink=sql_alch_schema.PersonPlayLink\n",
    "\n",
    "\n",
    "\n",
    "from sqlalchemy.orm import sessionmaker\n",
    "Session = sessionmaker(bind=db)\n",
    "session = Session()\n"
   ]
  },
  {
   "cell_type": "markdown",
   "metadata": {},
   "source": [
    "## pitches"
   ]
  },
  {
   "cell_type": "markdown",
   "metadata": {},
   "source": [
    "It's still a stretch goal to incorporate pitch data, runners data, and action data. this is the beginning of that work"
   ]
  },
  {
   "cell_type": "code",
   "execution_count": 2,
   "metadata": {},
   "outputs": [
    {
     "ename": "NameError",
     "evalue": "name 'play_test' is not defined",
     "output_type": "error",
     "traceback": [
      "\u001b[0;31m---------------------------------------------------------------------------\u001b[0m",
      "\u001b[0;31mNameError\u001b[0m                                 Traceback (most recent call last)",
      "\u001b[0;32m<ipython-input-2-913af2ba82a0>\u001b[0m in \u001b[0;36m<module>\u001b[0;34m\u001b[0m\n\u001b[1;32m     11\u001b[0m \u001b[0;31m# 'play_test' is meant to represent one of the dictionaries that represent each play in the 'game' endpoint\u001b[0m\u001b[0;34m\u001b[0m\u001b[0;34m\u001b[0m\u001b[0;34m\u001b[0m\u001b[0m\n\u001b[1;32m     12\u001b[0m \u001b[0;34m\u001b[0m\u001b[0m\n\u001b[0;32m---> 13\u001b[0;31m \u001b[0;34m[\u001b[0m\u001b[0mplay_test\u001b[0m\u001b[0;34m[\u001b[0m\u001b[0;34m'playEvents'\u001b[0m\u001b[0;34m]\u001b[0m\u001b[0;34m[\u001b[0m\u001b[0mx\u001b[0m\u001b[0;34m]\u001b[0m \u001b[0;32mfor\u001b[0m \u001b[0mx\u001b[0m \u001b[0;32min\u001b[0m \u001b[0mplay_test\u001b[0m\u001b[0;34m[\u001b[0m\u001b[0;34m'pitchIndex'\u001b[0m\u001b[0;34m]\u001b[0m\u001b[0;34m]\u001b[0m\u001b[0;34m\u001b[0m\u001b[0;34m\u001b[0m\u001b[0m\n\u001b[0m\u001b[1;32m     14\u001b[0m \u001b[0;34m\u001b[0m\u001b[0m\n\u001b[1;32m     15\u001b[0m \u001b[0;31m## Actions\u001b[0m\u001b[0;34m\u001b[0m\u001b[0;34m\u001b[0m\u001b[0;34m\u001b[0m\u001b[0m\n",
      "\u001b[0;31mNameError\u001b[0m: name 'play_test' is not defined"
     ]
    }
   ],
   "source": [
    "def get_pitches(api_call):\n",
    "    \"\"\"\n",
    "    Takes in the result of of mlbstats-api call on the game endpoint. \n",
    "    Returns list of dictionaries for each play\n",
    "    \"\"\"\n",
    "    gameData = api_call['gameData']\n",
    "    game = gameData['game']\n",
    "    \n",
    "    liveData = api_call['liveData']\n",
    "    \n",
    "# 'play_test' is meant to represent one of the dictionaries that represent each play in the 'game' endpoint  \n",
    "\n",
    "[play_test['playEvents'][x] for x in play_test['pitchIndex']]\n",
    "\n",
    "## Actions \n",
    "\n",
    "[play_test['playEvents'][x] for x in play_test['actionIndex']]\n",
    "\n",
    "## Runners\n",
    "\n",
    "len(play_test['runners'])\n",
    "\n",
    "play_test['runners'][0]['movement']['start']\n",
    "\n",
    "[play_test['runners'][x]['movement']['start'] for x in play_test['runnerIndex']]"
   ]
  },
  {
   "cell_type": "markdown",
   "metadata": {},
   "source": [
    "## Investigate a more effecient way of getting player's performance up to a game"
   ]
  },
  {
   "cell_type": "code",
   "execution_count": 3,
   "metadata": {},
   "outputs": [],
   "source": [
    "from sqlalchemy.orm import sessionmaker\n",
    "Session = sessionmaker(bind=db)\n",
    "session = Session()"
   ]
  },
  {
   "cell_type": "code",
   "execution_count": 11,
   "metadata": {},
   "outputs": [],
   "source": [
    "batters = session.execute(\"\"\"select\n",
    "                                plays.batter_id,\n",
    "                                people.primaryPosition_type,\n",
    "                                plays.game_id,\n",
    "                                plays.startTime\n",
    "                            from \n",
    "                                MLB_Stats.plays\n",
    "                            inner join\n",
    "                                MLB_Stats.people\n",
    "                                on \n",
    "                                plays.batter_id=people.id\n",
    "                            order by \n",
    "                                plays.startTime desc; \"\"\").fetchall()"
   ]
  },
  {
   "cell_type": "code",
   "execution_count": 12,
   "metadata": {},
   "outputs": [],
   "source": [
    "def create_Cumulative_Stats(session,row,limit=1000):    \n",
    "    import numpy as np\n",
    "    from datetime import datetime\n",
    "    player_id = row[0]\n",
    "    position = row[1]\n",
    "    game_id = row[2]\n",
    "    date = datetime.strftime(row[-1],\"%Y%m%d\")\n",
    "\n",
    "    \n",
    "    #probable_starters = [game_record.home_probablePitcher,game_record.away_probablePitcher]\n",
    "    stat_line = {'game_id':game_id,'player_id':player_id}\n",
    "    \n",
    "    if position in ['Hitter','Outfielder','Infielder','Catcher']:\n",
    "        query = session.execute(f\"\"\"select\n",
    "            g.id,\n",
    "            p.id,\n",
    "            p.`event`,\n",
    "            p.halfInning,\n",
    "            p.inning,\n",
    "            p.atBatIndex,\n",
    "            p.hasOut,\n",
    "            p.RBI,\n",
    "            p.count_outs,\n",
    "            p.num_pitches\n",
    "        from \n",
    "            MLB_Stats.games g\n",
    "        right join\n",
    "            MLB_Stats.plays p\n",
    "            on \n",
    "            g.id=p.game_id\n",
    "        where\n",
    "            p.batter_id={player_id}\n",
    "            and \n",
    "            date(g.`dateTime`)<date({date})\n",
    "            and\n",
    "            g.type='R'\n",
    "        order by \n",
    "            p.startTime desc;\"\"\").fetchall()\n",
    "    \n",
    "    if position=='Pitcher':\n",
    "        query = session.execute(f\"\"\"select\n",
    "            g.id,\n",
    "            p.id,\n",
    "            p.`event`,\n",
    "            p.halfInning,\n",
    "            p.inning,\n",
    "            p.atBatIndex,\n",
    "            p.hasOut,\n",
    "            p.RBI,\n",
    "            p.count_outs,\n",
    "            p.num_pitches\n",
    "        from \n",
    "            MLB_Stats.games g\n",
    "        right join\n",
    "            MLB_Stats.plays p\n",
    "            on \n",
    "            g.id=p.game_id\n",
    "        where\n",
    "            p.pitcher_id={player_id}\n",
    "            and \n",
    "            date(g.`dateTime`)<date({date})\n",
    "            and\n",
    "            g.type='R'\n",
    "        order by \n",
    "            p.startTime desc;\"\"\").fetchall()\n",
    "        \n",
    "    plays=([\n",
    "        {'game_id':q[0],'play_id':q[1],\n",
    "         'event':q[2],'halfInning':q[3],\n",
    "         'inning':q[4],'atBatIndex':q[5],\n",
    "         'hasOut':q[6],'RBI':q[7],\n",
    "         'count_outs':q[8],\n",
    "         'num_pitches':q[9]} \n",
    "        for q in query])\n",
    "    games={x[0] for x in query}\n",
    "\n",
    "    \n",
    "    singles = [x for x in plays if x['event']=='Single']\n",
    "    doubles = [x for x in plays if x['event']=='Double']\n",
    "    triples = [x for x in plays if x['event']=='Triple']\n",
    "    home_runs = [x for x in plays if x['event']=='Home Run']\n",
    "    walks = [x for x in plays if x['event']=='Walk']\n",
    "    strikeouts = [x for x in plays if x['event'] in ['Strikeout','Strikeout Double Play']]\n",
    "    HBP = [x for x in plays if x['event']=='Hit By Pitch']\n",
    "    GDP = [x for x in plays if x['event']=='Grounded Into DP']\n",
    "    IBB = [x for x in plays if x['event']=='Intent Walk']\n",
    "    sac = [x for x in plays if x['event'] in ['Sac Bunt','Sac Fly']]\n",
    "    interference = [x for x in plays if x['event']=='Catcher Interference']\n",
    "    LO = [x for x in plays if x['event']=='Lineout']\n",
    "    PO = [x for x in plays if x['event']=='Pop Out']\n",
    "    FO = [x for x in plays if x['event']=='Flyout']\n",
    "    GO = [x for x in plays if x['event']=='Groundout']\n",
    "    \n",
    "    ## pitcher stats \n",
    "    #starts\n",
    "    #for hitters, this will mean they're the leadoff batter\n",
    "    GS = {(x['inning'],x['game_id']) for x in plays if x['inning']==1}\n",
    "    #games finished isn't adding up correctly yet. I think it's because walk-offs aren't counted\n",
    "#     GF = {(x['inning'],x['game_id']) for x in plays \n",
    "#           if x['inning']==max([p.inning for p in x.game.plays]) \n",
    "#           and x.count_outs==3}        \n",
    "    plays_with_outs = [x for x in plays if x['hasOut']==True]\n",
    "    double_plays = [x for x in plays if x['event']=='Grounded Into DP' or 'Double Play' in x['event']]\n",
    "    triple_plays = [x for x in plays if x['event']=='Triple Play']\n",
    "    outs = len(plays_with_outs)+len(double_plays)+(len(triple_plays)*2)\n",
    "    \n",
    "    stat_line['Position_type']=position\n",
    "    stat_line['games']=len(games)\n",
    "    stat_line['PA'] = len(plays)\n",
    "    stat_line['AB'] = len(plays)-len(walks)-len(HBP)-len(IBB)-len(sac)-len(interference)\n",
    "    stat_line['hits']=len(singles)+len(doubles)+len(triples)+len(home_runs)\n",
    "    stat_line['singles']=len(singles)\n",
    "    stat_line['doubles']=len(doubles)\n",
    "    stat_line['triples']=len(triples)\n",
    "    stat_line['home_runs']=len(home_runs)\n",
    "    stat_line['walks']=len(walks)\n",
    "    stat_line['strikeouts']=len(strikeouts)\n",
    "    stat_line['HBP']=len(HBP)\n",
    "    stat_line['RBIs']=sum([x['RBI'] for x in plays])\n",
    "    stat_line['GDP']=len(GDP)\n",
    "    stat_line['IBB']=len(IBB)\n",
    "    stat_line['sac']=len(sac)\n",
    "    stat_line['LO']=len(LO)\n",
    "    stat_line['PO']=len(PO)\n",
    "    stat_line['FO']=len(FO)\n",
    "    stat_line['GO']=len(GO)\n",
    "    stat_line['pitches_perPA']=np.mean([x['num_pitches'] for x in plays])\n",
    "    \n",
    "    stat_line['GS']=len(GS)\n",
    "    #stat_line['GF']=len(GF)\n",
    "        \n",
    "    #if 'Pitcher' in stat_line['Position_type']:\n",
    "        #stat_line['IP']=outs/3\n",
    "    # is this pitcher generally a starter?    \n",
    "    # pitchers who start the game less than 12th of their appearances are labeled relief\n",
    "    if stat_line['GS']<stat_line['games']/12:\n",
    "        stat_line['Position_type']='Pitcher_relief'\n",
    "    else:\n",
    "        stat_line['Position_type']='Pitcher_starter'\n",
    "    \n",
    "#     is this pitcher TODAY's starter?\n",
    "#     if player_id.id in probable_starters:\n",
    "#         stat_line['Position_type']='Probable_startingPitcher'            \n",
    "    \n",
    "    if 'Pitcher' not in stat_line['Position_type']:\n",
    "        stat_line['IP']=0\n",
    "    \n",
    "    return stat_line"
   ]
  },
  {
   "cell_type": "code",
   "execution_count": null,
   "metadata": {},
   "outputs": [],
   "source": [
    "session.query(Person).filter(Person.id)"
   ]
  },
  {
   "cell_type": "code",
   "execution_count": 13,
   "metadata": {
    "scrolled": false
   },
   "outputs": [
    {
     "data": {
      "text/plain": [
       "{'game_id': '2019/10/30/wasmlb-houmlb-1',\n",
       " 'player_id': 488726,\n",
       " 'Position_type': 'Pitcher_starter',\n",
       " 'games': 291,\n",
       " 'PA': 1270,\n",
       " 'AB': 1147,\n",
       " 'hits': 355,\n",
       " 'singles': 236,\n",
       " 'doubles': 76,\n",
       " 'triples': 4,\n",
       " 'home_runs': 39,\n",
       " 'walks': 96,\n",
       " 'strikeouts': 126,\n",
       " 'HBP': 12,\n",
       " 'RBIs': 166,\n",
       " 'GDP': 36,\n",
       " 'IBB': 3,\n",
       " 'sac': 11,\n",
       " 'LO': 111,\n",
       " 'PO': 47,\n",
       " 'FO': 135,\n",
       " 'GO': 295,\n",
       " 'pitches_perPA': 3.767716535433071,\n",
       " 'GS': 260}"
      ]
     },
     "execution_count": 13,
     "metadata": {},
     "output_type": "execute_result"
    }
   ],
   "source": [
    "create_Cumulative_Stats(session,batters[0])"
   ]
  },
  {
   "cell_type": "code",
   "execution_count": null,
   "metadata": {},
   "outputs": [],
   "source": [
    "stat_lines=[]\n",
    "for chunk in sql_alch_schema.chunk(50,batters):\n",
    "    count=1\n",
    "    print(f'chunk{count} out of {batters}')\n",
    "    stat_lines.append([create_addCumulative_Stats(session,x) for x in chunk])\n",
    "    count+=1"
   ]
  },
  {
   "cell_type": "code",
   "execution_count": null,
   "metadata": {},
   "outputs": [],
   "source": [
    "stat_line"
   ]
  },
  {
   "cell_type": "code",
   "execution_count": null,
   "metadata": {},
   "outputs": [],
   "source": [
    "Cumulative_Stats(    \n",
    "    player_id = stat_line['player_id']\n",
    "    game_id = stat_line['game_id']\n",
    "    \n",
    "    position_type = stat_line['Position_type']\n",
    "    games = stat_line['games']\n",
    "    PA = stat_line['PA']\n",
    "    AB = stat_line['AB']\n",
    "    hits = stat_line['hits']\n",
    "    singles = stat_line['singles']\n",
    "    doubles = stat_line['doubles']\n",
    "    triples = stat_line['triples']\n",
    "    home_runs = stat_line['']\n",
    "    walks = Column(Integer)\n",
    "    strikeouts = Column(Integer)\n",
    "    HBP = Column(Integer)\n",
    "    RBIs = Column(Integer)\n",
    "    GDP = Column(Integer)\n",
    "    IBB = Column(Integer)\n",
    "    sac = Column(Integer)\n",
    "    LO = Column(Integer)\n",
    "    PO = Column(Integer)\n",
    "    FO = Column(Integer)\n",
    "    GO = Column(Integer)\n",
    "    pitches_perAB = Column(Integer)\n",
    "    GS = Column(Integer)\n",
    "    IP = Column(Integer))"
   ]
  },
  {
   "cell_type": "code",
   "execution_count": 35,
   "metadata": {},
   "outputs": [],
   "source": [
    "AJ=session.query(Person).filter(Person.fullName=='Aaron Judge').one()"
   ]
  },
  {
   "cell_type": "code",
   "execution_count": 38,
   "metadata": {},
   "outputs": [
    {
     "data": {
      "text/plain": [
       "592450"
      ]
     },
     "execution_count": 38,
     "metadata": {},
     "output_type": "execute_result"
    }
   ],
   "source": [
    "AJ.id"
   ]
  },
  {
   "cell_type": "code",
   "execution_count": 37,
   "metadata": {},
   "outputs": [
    {
     "data": {
      "text/plain": [
       "[(337,),\n",
       " (49,),\n",
       " (162,),\n",
       " (142,),\n",
       " (27,),\n",
       " (47,),\n",
       " (12,),\n",
       " (68,),\n",
       " (92,),\n",
       " (7,),\n",
       " (123,),\n",
       " (1,),\n",
       " (7,),\n",
       " (13,),\n",
       " (6,),\n",
       " (2,),\n",
       " (1,),\n",
       " (13,),\n",
       " (2,),\n",
       " (2,),\n",
       " (2,)]"
      ]
     },
     "execution_count": 37,
     "metadata": {},
     "output_type": "execute_result"
    }
   ],
   "source": [
    "db.execute(f\"\"\"select count(*) from plays where batter_id={AJ.id} group by event\"\"\").fetchall()"
   ]
  },
  {
   "cell_type": "code",
   "execution_count": 31,
   "metadata": {},
   "outputs": [
    {
     "data": {
      "text/plain": [
       "datetime.datetime(2018, 3, 29, 20, 11, 5)"
      ]
     },
     "execution_count": 31,
     "metadata": {},
     "output_type": "execute_result"
    }
   ],
   "source": [
    "PPLs[0].play.startTime"
   ]
  },
  {
   "cell_type": "code",
   "execution_count": null,
   "metadata": {},
   "outputs": [],
   "source": []
  }
 ],
 "metadata": {
  "kernelspec": {
   "display_name": "Python 3",
   "language": "python",
   "name": "python3"
  },
  "language_info": {
   "codemirror_mode": {
    "name": "ipython",
    "version": 3
   },
   "file_extension": ".py",
   "mimetype": "text/x-python",
   "name": "python",
   "nbconvert_exporter": "python",
   "pygments_lexer": "ipython3",
   "version": "3.7.3"
  }
 },
 "nbformat": 4,
 "nbformat_minor": 2
}
